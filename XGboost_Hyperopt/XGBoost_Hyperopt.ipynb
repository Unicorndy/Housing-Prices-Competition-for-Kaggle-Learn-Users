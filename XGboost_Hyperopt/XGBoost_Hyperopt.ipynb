{
 "cells": [
  {
   "cell_type": "markdown",
   "metadata": {},
   "source": [
    "# XGboost with Hyperopt (Mean Absolute Error: 14902.082860659246)\n",
    "\n",
    "Data from the [Housing Prices Competition for Kaggle Learn Users](https://www.kaggle.com/c/home-data-for-ml-course). \n",
    "Some of the codes are taken from the tutorial [Intermediate Machine Learning](https://www.kaggle.com/learn/intermediate-machine-learning)"
   ]
  },
  {
   "cell_type": "markdown",
   "metadata": {},
   "source": [
    "### Reading the file"
   ]
  },
  {
   "cell_type": "code",
   "execution_count": 1,
   "metadata": {},
   "outputs": [
    {
     "name": "stdout",
     "output_type": "stream",
     "text": [
      "Python 3.7.5\n"
     ]
    }
   ],
   "source": [
    "!python --version"
   ]
  },
  {
   "cell_type": "code",
   "execution_count": 2,
   "metadata": {},
   "outputs": [],
   "source": [
    "import pandas as pd\n",
    "import numpy as np\n",
    "from sklearn.model_selection import train_test_split\n",
    "from xgboost import XGBRegressor\n",
    "from sklearn.metrics import mean_absolute_error, mean_squared_error\n",
    "from sklearn.model_selection import GridSearchCV, cross_val_score\n",
    "from hyperopt import hp, fmin, tpe, STATUS_OK, Trials\n",
    "import matplotlib.pyplot as plt\n",
    "from sklearn.pipeline import Pipeline\n",
    "import time\n",
    "from math import sqrt\n",
    "\n"
   ]
  },
  {
   "cell_type": "code",
   "execution_count": 3,
   "metadata": {},
   "outputs": [],
   "source": [
    "# Read the data\n",
    "X = pd.read_csv('train.csv', index_col='Id')\n",
    "X_test_full = pd.read_csv('test.csv', index_col='Id')"
   ]
  },
  {
   "cell_type": "code",
   "execution_count": 4,
   "metadata": {},
   "outputs": [
    {
     "name": "stdout",
     "output_type": "stream",
     "text": [
      "(1460, 80)\n",
      "(1459, 79)\n"
     ]
    }
   ],
   "source": [
    "print(X.shape)\n",
    "print(X_test_full.shape)"
   ]
  },
  {
   "cell_type": "code",
   "execution_count": 5,
   "metadata": {},
   "outputs": [
    {
     "data": {
      "text/html": [
       "<div>\n",
       "<style scoped>\n",
       "    .dataframe tbody tr th:only-of-type {\n",
       "        vertical-align: middle;\n",
       "    }\n",
       "\n",
       "    .dataframe tbody tr th {\n",
       "        vertical-align: top;\n",
       "    }\n",
       "\n",
       "    .dataframe thead th {\n",
       "        text-align: right;\n",
       "    }\n",
       "</style>\n",
       "<table border=\"1\" class=\"dataframe\">\n",
       "  <thead>\n",
       "    <tr style=\"text-align: right;\">\n",
       "      <th></th>\n",
       "      <th>MSSubClass</th>\n",
       "      <th>MSZoning</th>\n",
       "      <th>LotFrontage</th>\n",
       "      <th>LotArea</th>\n",
       "      <th>Street</th>\n",
       "      <th>Alley</th>\n",
       "      <th>LotShape</th>\n",
       "      <th>LandContour</th>\n",
       "      <th>Utilities</th>\n",
       "      <th>LotConfig</th>\n",
       "      <th>...</th>\n",
       "      <th>PoolArea</th>\n",
       "      <th>PoolQC</th>\n",
       "      <th>Fence</th>\n",
       "      <th>MiscFeature</th>\n",
       "      <th>MiscVal</th>\n",
       "      <th>MoSold</th>\n",
       "      <th>YrSold</th>\n",
       "      <th>SaleType</th>\n",
       "      <th>SaleCondition</th>\n",
       "      <th>SalePrice</th>\n",
       "    </tr>\n",
       "    <tr>\n",
       "      <th>Id</th>\n",
       "      <th></th>\n",
       "      <th></th>\n",
       "      <th></th>\n",
       "      <th></th>\n",
       "      <th></th>\n",
       "      <th></th>\n",
       "      <th></th>\n",
       "      <th></th>\n",
       "      <th></th>\n",
       "      <th></th>\n",
       "      <th></th>\n",
       "      <th></th>\n",
       "      <th></th>\n",
       "      <th></th>\n",
       "      <th></th>\n",
       "      <th></th>\n",
       "      <th></th>\n",
       "      <th></th>\n",
       "      <th></th>\n",
       "      <th></th>\n",
       "      <th></th>\n",
       "    </tr>\n",
       "  </thead>\n",
       "  <tbody>\n",
       "    <tr>\n",
       "      <th>1</th>\n",
       "      <td>60</td>\n",
       "      <td>RL</td>\n",
       "      <td>65.0</td>\n",
       "      <td>8450</td>\n",
       "      <td>Pave</td>\n",
       "      <td>NaN</td>\n",
       "      <td>Reg</td>\n",
       "      <td>Lvl</td>\n",
       "      <td>AllPub</td>\n",
       "      <td>Inside</td>\n",
       "      <td>...</td>\n",
       "      <td>0</td>\n",
       "      <td>NaN</td>\n",
       "      <td>NaN</td>\n",
       "      <td>NaN</td>\n",
       "      <td>0</td>\n",
       "      <td>2</td>\n",
       "      <td>2008</td>\n",
       "      <td>WD</td>\n",
       "      <td>Normal</td>\n",
       "      <td>208500</td>\n",
       "    </tr>\n",
       "    <tr>\n",
       "      <th>2</th>\n",
       "      <td>20</td>\n",
       "      <td>RL</td>\n",
       "      <td>80.0</td>\n",
       "      <td>9600</td>\n",
       "      <td>Pave</td>\n",
       "      <td>NaN</td>\n",
       "      <td>Reg</td>\n",
       "      <td>Lvl</td>\n",
       "      <td>AllPub</td>\n",
       "      <td>FR2</td>\n",
       "      <td>...</td>\n",
       "      <td>0</td>\n",
       "      <td>NaN</td>\n",
       "      <td>NaN</td>\n",
       "      <td>NaN</td>\n",
       "      <td>0</td>\n",
       "      <td>5</td>\n",
       "      <td>2007</td>\n",
       "      <td>WD</td>\n",
       "      <td>Normal</td>\n",
       "      <td>181500</td>\n",
       "    </tr>\n",
       "    <tr>\n",
       "      <th>3</th>\n",
       "      <td>60</td>\n",
       "      <td>RL</td>\n",
       "      <td>68.0</td>\n",
       "      <td>11250</td>\n",
       "      <td>Pave</td>\n",
       "      <td>NaN</td>\n",
       "      <td>IR1</td>\n",
       "      <td>Lvl</td>\n",
       "      <td>AllPub</td>\n",
       "      <td>Inside</td>\n",
       "      <td>...</td>\n",
       "      <td>0</td>\n",
       "      <td>NaN</td>\n",
       "      <td>NaN</td>\n",
       "      <td>NaN</td>\n",
       "      <td>0</td>\n",
       "      <td>9</td>\n",
       "      <td>2008</td>\n",
       "      <td>WD</td>\n",
       "      <td>Normal</td>\n",
       "      <td>223500</td>\n",
       "    </tr>\n",
       "    <tr>\n",
       "      <th>4</th>\n",
       "      <td>70</td>\n",
       "      <td>RL</td>\n",
       "      <td>60.0</td>\n",
       "      <td>9550</td>\n",
       "      <td>Pave</td>\n",
       "      <td>NaN</td>\n",
       "      <td>IR1</td>\n",
       "      <td>Lvl</td>\n",
       "      <td>AllPub</td>\n",
       "      <td>Corner</td>\n",
       "      <td>...</td>\n",
       "      <td>0</td>\n",
       "      <td>NaN</td>\n",
       "      <td>NaN</td>\n",
       "      <td>NaN</td>\n",
       "      <td>0</td>\n",
       "      <td>2</td>\n",
       "      <td>2006</td>\n",
       "      <td>WD</td>\n",
       "      <td>Abnorml</td>\n",
       "      <td>140000</td>\n",
       "    </tr>\n",
       "    <tr>\n",
       "      <th>5</th>\n",
       "      <td>60</td>\n",
       "      <td>RL</td>\n",
       "      <td>84.0</td>\n",
       "      <td>14260</td>\n",
       "      <td>Pave</td>\n",
       "      <td>NaN</td>\n",
       "      <td>IR1</td>\n",
       "      <td>Lvl</td>\n",
       "      <td>AllPub</td>\n",
       "      <td>FR2</td>\n",
       "      <td>...</td>\n",
       "      <td>0</td>\n",
       "      <td>NaN</td>\n",
       "      <td>NaN</td>\n",
       "      <td>NaN</td>\n",
       "      <td>0</td>\n",
       "      <td>12</td>\n",
       "      <td>2008</td>\n",
       "      <td>WD</td>\n",
       "      <td>Normal</td>\n",
       "      <td>250000</td>\n",
       "    </tr>\n",
       "  </tbody>\n",
       "</table>\n",
       "<p>5 rows × 80 columns</p>\n",
       "</div>"
      ],
      "text/plain": [
       "    MSSubClass MSZoning  LotFrontage  LotArea Street Alley LotShape  \\\n",
       "Id                                                                    \n",
       "1           60       RL         65.0     8450   Pave   NaN      Reg   \n",
       "2           20       RL         80.0     9600   Pave   NaN      Reg   \n",
       "3           60       RL         68.0    11250   Pave   NaN      IR1   \n",
       "4           70       RL         60.0     9550   Pave   NaN      IR1   \n",
       "5           60       RL         84.0    14260   Pave   NaN      IR1   \n",
       "\n",
       "   LandContour Utilities LotConfig  ... PoolArea PoolQC Fence MiscFeature  \\\n",
       "Id                                  ...                                     \n",
       "1          Lvl    AllPub    Inside  ...        0    NaN   NaN         NaN   \n",
       "2          Lvl    AllPub       FR2  ...        0    NaN   NaN         NaN   \n",
       "3          Lvl    AllPub    Inside  ...        0    NaN   NaN         NaN   \n",
       "4          Lvl    AllPub    Corner  ...        0    NaN   NaN         NaN   \n",
       "5          Lvl    AllPub       FR2  ...        0    NaN   NaN         NaN   \n",
       "\n",
       "   MiscVal MoSold  YrSold  SaleType  SaleCondition  SalePrice  \n",
       "Id                                                             \n",
       "1        0      2    2008        WD         Normal     208500  \n",
       "2        0      5    2007        WD         Normal     181500  \n",
       "3        0      9    2008        WD         Normal     223500  \n",
       "4        0      2    2006        WD        Abnorml     140000  \n",
       "5        0     12    2008        WD         Normal     250000  \n",
       "\n",
       "[5 rows x 80 columns]"
      ]
     },
     "metadata": {},
     "output_type": "display_data"
    }
   ],
   "source": [
    "display(X.head())"
   ]
  },
  {
   "cell_type": "code",
   "execution_count": 6,
   "metadata": {},
   "outputs": [],
   "source": [
    "# Remove rows with missing target, separate target from predictors\n",
    "X.dropna(axis=0, subset=['SalePrice'], inplace=True)\n",
    "\n",
    "y = X.SalePrice              \n",
    "X.drop(['SalePrice'], axis=1, inplace=True)\n",
    "\n",
    "# Break off validation set from training data\n",
    "X_train_full, X_valid_full, y_train, y_valid = train_test_split(X, y, test_size=0.3, random_state=42)"
   ]
  },
  {
   "cell_type": "code",
   "execution_count": 32,
   "metadata": {},
   "outputs": [
    {
     "data": {
      "text/plain": [
       "(1460, 79)"
      ]
     },
     "metadata": {},
     "output_type": "display_data"
    },
    {
     "data": {
      "text/plain": [
       "(1460,)"
      ]
     },
     "metadata": {},
     "output_type": "display_data"
    }
   ],
   "source": [
    "display(X.shape)\n",
    "display(y.shape)"
   ]
  },
  {
   "cell_type": "code",
   "execution_count": 8,
   "metadata": {},
   "outputs": [
    {
     "name": "stdout",
     "output_type": "stream",
     "text": [
      "4859\n",
      "2106\n",
      "0\n",
      "0\n",
      "7000\n"
     ]
    }
   ],
   "source": [
    "print(X_train_full.isnull().sum().sum())\n",
    "print(X_valid_full.isnull().sum().sum())\n",
    "print(y_train.isnull().sum().sum())\n",
    "print(y_valid.isnull().sum().sum())\n",
    "print(X_test_full.isnull().sum().sum())"
   ]
  },
  {
   "cell_type": "code",
   "execution_count": 9,
   "metadata": {},
   "outputs": [],
   "source": [
    "# \"Cardinality\" means the number of unique values in a column\n",
    "# Select categorical columns with relatively low cardinality (convenient but arbitrary)\n",
    "low_cardinality_cols = [cname for cname in X_train_full.columns if X_train_full[cname].nunique() < 10 and \n",
    "                        X_train_full[cname].dtype == \"object\"]"
   ]
  },
  {
   "cell_type": "code",
   "execution_count": 10,
   "metadata": {},
   "outputs": [
    {
     "data": {
      "text/plain": [
       "40"
      ]
     },
     "execution_count": 10,
     "metadata": {},
     "output_type": "execute_result"
    }
   ],
   "source": [
    "len(low_cardinality_cols)"
   ]
  },
  {
   "cell_type": "code",
   "execution_count": 11,
   "metadata": {},
   "outputs": [],
   "source": [
    "# Select numeric columns\n",
    "numeric_cols = [cname for cname in X_train_full.columns if X_train_full[cname].dtype in ['int64', 'float64']]"
   ]
  },
  {
   "cell_type": "code",
   "execution_count": 12,
   "metadata": {},
   "outputs": [
    {
     "data": {
      "text/plain": [
       "36"
      ]
     },
     "execution_count": 12,
     "metadata": {},
     "output_type": "execute_result"
    }
   ],
   "source": [
    "#total features retain 40 + 36 = 76\n",
    "len(numeric_cols)"
   ]
  },
  {
   "cell_type": "code",
   "execution_count": 13,
   "metadata": {},
   "outputs": [
    {
     "name": "stdout",
     "output_type": "stream",
     "text": [
      "(1022, 76)\n",
      "(438, 76)\n",
      "(1459, 76)\n",
      "(1460, 76)\n"
     ]
    }
   ],
   "source": [
    "# Keep selected columns only\n",
    "my_cols = low_cardinality_cols + numeric_cols\n",
    "X_train = X_train_full[my_cols].copy()\n",
    "X_valid = X_valid_full[my_cols].copy()\n",
    "X_test = X_test_full[my_cols].copy()\n",
    "X_full = X[my_cols].copy() #for fitting full set later\n",
    "\n",
    "print(X_train.shape)\n",
    "print(X_valid.shape)\n",
    "print(X_test.shape)\n",
    "print(X_full.shape)"
   ]
  },
  {
   "cell_type": "code",
   "execution_count": 14,
   "metadata": {},
   "outputs": [],
   "source": [
    "# One-hot encode the data\n",
    "X_train = pd.get_dummies(X_train)\n",
    "X_valid = pd.get_dummies(X_valid)\n",
    "X_test = pd.get_dummies(X_test)\n",
    "X_full = pd.get_dummies(X_full) #for fitting full set later\n",
    "X_train, X_valid = X_train.align(X_valid, join='left', axis=1)\n",
    "X_train, X_test = X_train.align(X_test, join='left', axis=1)\n",
    "X_train, X_full = X_train.align(X_full, join='left', axis=1, fill_value=0)"
   ]
  },
  {
   "cell_type": "code",
   "execution_count": 15,
   "metadata": {},
   "outputs": [
    {
     "name": "stdout",
     "output_type": "stream",
     "text": [
      "(1022, 228)\n",
      "(438, 228)\n",
      "(1459, 228)\n",
      "(1460, 228)\n"
     ]
    }
   ],
   "source": [
    "print(X_train.shape)\n",
    "print(X_valid.shape)\n",
    "print(X_test.shape)\n",
    "print(X_full.shape)"
   ]
  },
  {
   "cell_type": "code",
   "execution_count": 16,
   "metadata": {},
   "outputs": [
    {
     "name": "stdout",
     "output_type": "stream",
     "text": [
      "247\n",
      "10613\n",
      "17838\n",
      "348\n"
     ]
    }
   ],
   "source": [
    "print(X_train.isnull().sum().sum())\n",
    "print(X_valid.isnull().sum().sum())\n",
    "print(X_test.isnull().sum().sum())\n",
    "print(X_full.isnull().sum().sum())"
   ]
  },
  {
   "cell_type": "code",
   "execution_count": 17,
   "metadata": {},
   "outputs": [
    {
     "name": "stdout",
     "output_type": "stream",
     "text": [
      "[23:27:09] WARNING: src/objective/regression_obj.cu:152: reg:linear is now deprecated in favor of reg:squarederror.\n"
     ]
    },
    {
     "name": "stderr",
     "output_type": "stream",
     "text": [
      "/home/dylanpoh/anaconda3/envs/kagglehouse/lib/python3.7/site-packages/xgboost/core.py:587: FutureWarning: Series.base is deprecated and will be removed in a future version\n",
      "  if getattr(data, 'base', None) is not None and \\\n"
     ]
    }
   ],
   "source": [
    "# Define the model\n",
    "my_model_1 = XGBRegressor(random_state=0)\n",
    "\n",
    "# Fit the model\n",
    "my_model_1.fit(X_train, y_train)\n",
    "predictions_1 = my_model_1.predict(X_valid)"
   ]
  },
  {
   "cell_type": "code",
   "execution_count": 18,
   "metadata": {},
   "outputs": [],
   "source": [
    "# Get predictions\n",
    "predictions_1 = my_model_1.predict(X_valid)"
   ]
  },
  {
   "cell_type": "markdown",
   "metadata": {},
   "source": [
    "Finally, use the `mean_absolute_error()` function to calculate the mean absolute error (MAE) corresponding to the predictions for the validation set.  Recall that the labels for the validation data are stored in `y_valid`."
   ]
  },
  {
   "cell_type": "code",
   "execution_count": 19,
   "metadata": {},
   "outputs": [
    {
     "name": "stdout",
     "output_type": "stream",
     "text": [
      "Mean Absolute Error: 16233.512191424086\n",
      "RMSE: 27448.393553403006\n"
     ]
    }
   ],
   "source": [
    "# Calculate MAE\n",
    "mae_1 = mean_absolute_error(predictions_1,y_valid)\n",
    "print(\"Mean Absolute Error:\" , mae_1)\n",
    "\n",
    "mse_1 = mean_squared_error(predictions_1, y_valid)\n",
    "rootMeanSquaredError_1 = sqrt(mse_1)\n",
    "print(\"RMSE:\", rootMeanSquaredError_1)"
   ]
  },
  {
   "cell_type": "markdown",
   "metadata": {},
   "source": [
    "### Improving the model with Hyperopt"
   ]
  },
  {
   "cell_type": "code",
   "execution_count": 22,
   "metadata": {},
   "outputs": [
    {
     "name": "stdout",
     "output_type": "stream",
     "text": [
      "{'colsample_bytree': 0.8, 'gamma': 0.55, 'learning_rate': 0.4, 'max_depth': 6, 'min_child_weight': 6.0, 'n_estimators': 1100, 'subsample': 0.9015998963014877}\n",
      "[23:27:09] WARNING: src/objective/regression_obj.cu:152: reg:linear is now deprecated in favor of reg:squarederror.\n",
      "  0%|          | 0/100 [00:00<?, ?it/s, best loss: ?]"
     ]
    },
    {
     "name": "stderr",
     "output_type": "stream",
     "text": [
      "/home/dylanpoh/anaconda3/envs/kagglehouse/lib/python3.7/site-packages/xgboost/core.py:587: FutureWarning: Series.base is deprecated and will be removed in a future version\n",
      "  if getattr(data, 'base', None) is not None and \\\n",
      "\n"
     ]
    },
    {
     "name": "stdout",
     "output_type": "stream",
     "text": [
      "SCORE:                                               \n",
      "17727.205149472033                                   \n",
      "{'colsample_bytree': 0.9500000000000001, 'gamma': 0.55, 'learning_rate': 0.30000000000000004, 'max_depth': 24, 'min_child_weight': 11.0, 'n_estimators': 3200, 'subsample': 0.9796674531502904}\n",
      "[23:27:10] WARNING: src/objective/regression_obj.cu:152: reg:linear is now deprecated in favor of reg:squarederror.\n",
      "  1%|          | 1/100 [00:00<00:28,  3.42it/s, best loss: 17727.205149472033]"
     ]
    },
    {
     "name": "stderr",
     "output_type": "stream",
     "text": [
      "/home/dylanpoh/anaconda3/envs/kagglehouse/lib/python3.7/site-packages/xgboost/core.py:587: FutureWarning: Series.base is deprecated and will be removed in a future version\n",
      "  if getattr(data, 'base', None) is not None and \\\n",
      "\n"
     ]
    },
    {
     "name": "stdout",
     "output_type": "stream",
     "text": [
      "SCORE:                                                                        \n",
      "16937.201537528537                                                            \n",
      "{'colsample_bytree': 0.7000000000000001, 'gamma': 0.9, 'learning_rate': 0.45, 'max_depth': 18, 'min_child_weight': 11.0, 'n_estimators': 5400, 'subsample': 0.8150743325609695}\n",
      "[23:27:11] WARNING: src/objective/regression_obj.cu:152: reg:linear is now deprecated in favor of reg:squarederror.\n",
      "  2%|▏         | 2/100 [00:01<00:57,  1.70it/s, best loss: 16937.201537528537]"
     ]
    },
    {
     "name": "stderr",
     "output_type": "stream",
     "text": [
      "/home/dylanpoh/anaconda3/envs/kagglehouse/lib/python3.7/site-packages/xgboost/core.py:587: FutureWarning: Series.base is deprecated and will be removed in a future version\n",
      "  if getattr(data, 'base', None) is not None and \\\n",
      "\n"
     ]
    },
    {
     "name": "stdout",
     "output_type": "stream",
     "text": [
      "SCORE:                                                                        \n",
      "18821.82200699201                                                             \n",
      "{'colsample_bytree': 0.6000000000000001, 'gamma': 1.0, 'learning_rate': 0.125, 'max_depth': 20, 'min_child_weight': 10.0, 'n_estimators': 3300, 'subsample': 0.8563183169746922}\n",
      "[23:27:11] WARNING: src/objective/regression_obj.cu:152: reg:linear is now deprecated in favor of reg:squarederror.\n",
      "  3%|▎         | 3/100 [00:02<00:52,  1.84it/s, best loss: 16937.201537528537]"
     ]
    },
    {
     "name": "stderr",
     "output_type": "stream",
     "text": [
      "/home/dylanpoh/anaconda3/envs/kagglehouse/lib/python3.7/site-packages/xgboost/core.py:587: FutureWarning: Series.base is deprecated and will be removed in a future version\n",
      "  if getattr(data, 'base', None) is not None and \\\n",
      "\n"
     ]
    },
    {
     "name": "stdout",
     "output_type": "stream",
     "text": [
      "SCORE:                                                                        \n",
      "15628.628308718608                                                            \n",
      "{'colsample_bytree': 0.9, 'gamma': 0.8, 'learning_rate': 0.45, 'max_depth': 28, 'min_child_weight': 11.0, 'n_estimators': 8600, 'subsample': 0.8883098265839271}\n",
      "[23:27:13] WARNING: src/objective/regression_obj.cu:152: reg:linear is now deprecated in favor of reg:squarederror.\n",
      "  4%|▍         | 4/100 [00:03<01:23,  1.15it/s, best loss: 15628.628308718608]"
     ]
    },
    {
     "name": "stderr",
     "output_type": "stream",
     "text": [
      "/home/dylanpoh/anaconda3/envs/kagglehouse/lib/python3.7/site-packages/xgboost/core.py:587: FutureWarning: Series.base is deprecated and will be removed in a future version\n",
      "  if getattr(data, 'base', None) is not None and \\\n",
      "\n"
     ]
    },
    {
     "name": "stdout",
     "output_type": "stream",
     "text": [
      "SCORE:                                                                        \n",
      "17399.974662885274                                                            \n",
      "{'colsample_bytree': 0.55, 'gamma': 0.6000000000000001, 'learning_rate': 0.275, 'max_depth': 15, 'min_child_weight': 3.0, 'n_estimators': 1100, 'subsample': 0.8999896123107574}\n",
      "[23:27:14] WARNING: src/objective/regression_obj.cu:152: reg:linear is now deprecated in favor of reg:squarederror.\n",
      "  5%|▌         | 5/100 [00:04<01:18,  1.22it/s, best loss: 15628.628308718608]"
     ]
    },
    {
     "name": "stderr",
     "output_type": "stream",
     "text": [
      "/home/dylanpoh/anaconda3/envs/kagglehouse/lib/python3.7/site-packages/xgboost/core.py:587: FutureWarning: Series.base is deprecated and will be removed in a future version\n",
      "  if getattr(data, 'base', None) is not None and \\\n",
      "\n"
     ]
    },
    {
     "name": "stdout",
     "output_type": "stream",
     "text": [
      "SCORE:                                                                        \n",
      "16971.19537492865                                                             \n",
      "{'colsample_bytree': 0.75, 'gamma': 0.8, 'learning_rate': 0.1, 'max_depth': 18, 'min_child_weight': 16.0, 'n_estimators': 3600, 'subsample': 0.9846369150076549}\n",
      "[23:27:14] WARNING: src/objective/regression_obj.cu:152: reg:linear is now deprecated in favor of reg:squarederror.\n",
      "  6%|▌         | 6/100 [00:04<01:07,  1.39it/s, best loss: 15628.628308718608]"
     ]
    },
    {
     "name": "stderr",
     "output_type": "stream",
     "text": [
      "/home/dylanpoh/anaconda3/envs/kagglehouse/lib/python3.7/site-packages/xgboost/core.py:587: FutureWarning: Series.base is deprecated and will be removed in a future version\n",
      "  if getattr(data, 'base', None) is not None and \\\n",
      "\n"
     ]
    },
    {
     "name": "stdout",
     "output_type": "stream",
     "text": [
      "SCORE:                                                                        \n",
      "16174.584617579909                                                            \n",
      "{'colsample_bytree': 0.55, 'gamma': 0.65, 'learning_rate': 0.45, 'max_depth': 17, 'min_child_weight': 11.0, 'n_estimators': 3600, 'subsample': 0.808424326085464}\n",
      "[23:27:16] WARNING: src/objective/regression_obj.cu:152: reg:linear is now deprecated in favor of reg:squarederror.\n",
      "  7%|▋         | 7/100 [00:06<01:26,  1.08it/s, best loss: 15628.628308718608]"
     ]
    },
    {
     "name": "stderr",
     "output_type": "stream",
     "text": [
      "/home/dylanpoh/anaconda3/envs/kagglehouse/lib/python3.7/site-packages/xgboost/core.py:587: FutureWarning: Series.base is deprecated and will be removed in a future version\n",
      "  if getattr(data, 'base', None) is not None and \\\n",
      "\n"
     ]
    },
    {
     "name": "stdout",
     "output_type": "stream",
     "text": [
      "SCORE:                                                                        \n",
      "20242.46900863299                                                             \n",
      "{'colsample_bytree': 0.65, 'gamma': 0.8, 'learning_rate': 0.025, 'max_depth': 5, 'min_child_weight': 5.0, 'n_estimators': 3800, 'subsample': 0.8499742584655243}\n",
      "[23:27:16] WARNING: src/objective/regression_obj.cu:152: reg:linear is now deprecated in favor of reg:squarederror.\n",
      "  8%|▊         | 8/100 [00:06<01:14,  1.23it/s, best loss: 15628.628308718608]"
     ]
    },
    {
     "name": "stderr",
     "output_type": "stream",
     "text": [
      "/home/dylanpoh/anaconda3/envs/kagglehouse/lib/python3.7/site-packages/xgboost/core.py:587: FutureWarning: Series.base is deprecated and will be removed in a future version\n",
      "  if getattr(data, 'base', None) is not None and \\\n",
      "\n"
     ]
    },
    {
     "name": "stdout",
     "output_type": "stream",
     "text": [
      "SCORE:                                                                        \n",
      "15099.278984731734                                                            \n",
      "{'colsample_bytree': 1.0, 'gamma': 0.6000000000000001, 'learning_rate': 0.45, 'max_depth': 23, 'min_child_weight': 13.0, 'n_estimators': 4500, 'subsample': 0.9095469048153965}\n",
      "[23:27:19] WARNING: src/objective/regression_obj.cu:152: reg:linear is now deprecated in favor of reg:squarederror.\n",
      "  9%|▉         | 9/100 [00:09<02:03,  1.36s/it, best loss: 15099.278984731734]"
     ]
    },
    {
     "name": "stderr",
     "output_type": "stream",
     "text": [
      "/home/dylanpoh/anaconda3/envs/kagglehouse/lib/python3.7/site-packages/xgboost/core.py:587: FutureWarning: Series.base is deprecated and will be removed in a future version\n",
      "  if getattr(data, 'base', None) is not None and \\\n",
      "\n"
     ]
    },
    {
     "name": "stdout",
     "output_type": "stream",
     "text": [
      "SCORE:                                                                        \n",
      "18937.169440282534                                                            \n",
      "{'colsample_bytree': 0.9500000000000001, 'gamma': 0.8, 'learning_rate': 0.325, 'max_depth': 24, 'min_child_weight': 8.0, 'n_estimators': 8400, 'subsample': 0.8323451268949509}\n",
      "[23:27:19] WARNING: src/objective/regression_obj.cu:152: reg:linear is now deprecated in favor of reg:squarederror.\n",
      " 10%|█         | 10/100 [00:10<01:41,  1.12s/it, best loss: 15099.278984731734]"
     ]
    },
    {
     "name": "stderr",
     "output_type": "stream",
     "text": [
      "/home/dylanpoh/anaconda3/envs/kagglehouse/lib/python3.7/site-packages/xgboost/core.py:587: FutureWarning: Series.base is deprecated and will be removed in a future version\n",
      "  if getattr(data, 'base', None) is not None and \\\n",
      "\n"
     ]
    },
    {
     "name": "stdout",
     "output_type": "stream",
     "text": [
      "SCORE:                                                                         \n",
      "17492.23435716324                                                              \n",
      "{'colsample_bytree': 1.0, 'gamma': 0.7000000000000001, 'learning_rate': 0.225, 'max_depth': 12, 'min_child_weight': 17.0, 'n_estimators': 9100, 'subsample': 0.8315860271879326}\n",
      "[23:27:20] WARNING: src/objective/regression_obj.cu:152: reg:linear is now deprecated in favor of reg:squarederror.\n",
      " 11%|█         | 11/100 [00:10<01:35,  1.07s/it, best loss: 15099.278984731734]"
     ]
    },
    {
     "name": "stderr",
     "output_type": "stream",
     "text": [
      "/home/dylanpoh/anaconda3/envs/kagglehouse/lib/python3.7/site-packages/xgboost/core.py:587: FutureWarning: Series.base is deprecated and will be removed in a future version\n",
      "  if getattr(data, 'base', None) is not None and \\\n",
      "\n"
     ]
    },
    {
     "name": "stdout",
     "output_type": "stream",
     "text": [
      "SCORE:                                                                         \n",
      "16982.068609089612                                                             \n",
      "{'colsample_bytree': 0.5, 'gamma': 0.55, 'learning_rate': 0.275, 'max_depth': 8, 'min_child_weight': 15.0, 'n_estimators': 9800, 'subsample': 0.9275213071568439}\n",
      "[23:27:21] WARNING: src/objective/regression_obj.cu:152: reg:linear is now deprecated in favor of reg:squarederror.\n",
      " 12%|█▏        | 12/100 [00:11<01:26,  1.01it/s, best loss: 15099.278984731734]"
     ]
    },
    {
     "name": "stderr",
     "output_type": "stream",
     "text": [
      "/home/dylanpoh/anaconda3/envs/kagglehouse/lib/python3.7/site-packages/xgboost/core.py:587: FutureWarning: Series.base is deprecated and will be removed in a future version\n",
      "  if getattr(data, 'base', None) is not None and \\\n",
      "\n"
     ]
    },
    {
     "name": "stdout",
     "output_type": "stream",
     "text": [
      "SCORE:                                                                         \n",
      "17880.320143050798                                                             \n",
      "{'colsample_bytree': 0.8, 'gamma': 0.6000000000000001, 'learning_rate': 0.30000000000000004, 'max_depth': 28, 'min_child_weight': 19.0, 'n_estimators': 4400, 'subsample': 0.9119524244686501}\n",
      "[23:27:22] WARNING: src/objective/regression_obj.cu:152: reg:linear is now deprecated in favor of reg:squarederror.\n",
      " 13%|█▎        | 13/100 [00:12<01:10,  1.24it/s, best loss: 15099.278984731734]"
     ]
    },
    {
     "name": "stderr",
     "output_type": "stream",
     "text": [
      "/home/dylanpoh/anaconda3/envs/kagglehouse/lib/python3.7/site-packages/xgboost/core.py:587: FutureWarning: Series.base is deprecated and will be removed in a future version\n",
      "  if getattr(data, 'base', None) is not None and \\\n",
      "\n"
     ]
    },
    {
     "name": "stdout",
     "output_type": "stream",
     "text": [
      "SCORE:                                                                         \n",
      "16316.761522545663                                                             \n",
      "{'colsample_bytree': 0.8500000000000001, 'gamma': 0.9, 'learning_rate': 0.5, 'max_depth': 25, 'min_child_weight': 5.0, 'n_estimators': 9600, 'subsample': 0.9390968285464605}\n",
      "[23:27:22] WARNING: src/objective/regression_obj.cu:152: reg:linear is now deprecated in favor of reg:squarederror.\n",
      " 14%|█▍        | 14/100 [00:13<01:12,  1.18it/s, best loss: 15099.278984731734]"
     ]
    },
    {
     "name": "stderr",
     "output_type": "stream",
     "text": [
      "/home/dylanpoh/anaconda3/envs/kagglehouse/lib/python3.7/site-packages/xgboost/core.py:587: FutureWarning: Series.base is deprecated and will be removed in a future version\n",
      "  if getattr(data, 'base', None) is not None and \\\n",
      "\n"
     ]
    },
    {
     "name": "stdout",
     "output_type": "stream",
     "text": [
      "SCORE:                                                                         \n",
      "20511.68823130708                                                              \n",
      "{'colsample_bytree': 0.8, 'gamma': 0.75, 'learning_rate': 0.025, 'max_depth': 13, 'min_child_weight': 20.0, 'n_estimators': 1000, 'subsample': 0.9988879156352136}\n",
      "[23:27:24] WARNING: src/objective/regression_obj.cu:152: reg:linear is now deprecated in favor of reg:squarederror.\n",
      " 15%|█▌        | 15/100 [00:14<01:26,  1.02s/it, best loss: 15099.278984731734]"
     ]
    },
    {
     "name": "stderr",
     "output_type": "stream",
     "text": [
      "/home/dylanpoh/anaconda3/envs/kagglehouse/lib/python3.7/site-packages/xgboost/core.py:587: FutureWarning: Series.base is deprecated and will be removed in a future version\n",
      "  if getattr(data, 'base', None) is not None and \\\n",
      "\n"
     ]
    },
    {
     "name": "stdout",
     "output_type": "stream",
     "text": [
      "SCORE:                                                                         \n",
      "15912.566985944635                                                             \n",
      "{'colsample_bytree': 0.55, 'gamma': 0.9, 'learning_rate': 0.35000000000000003, 'max_depth': 20, 'min_child_weight': 18.0, 'n_estimators': 6100, 'subsample': 0.8256715046396661}\n",
      "[23:27:28] WARNING: src/objective/regression_obj.cu:152: reg:linear is now deprecated in favor of reg:squarederror.\n",
      " 16%|█▌        | 16/100 [00:18<02:46,  1.98s/it, best loss: 15099.278984731734]"
     ]
    },
    {
     "name": "stderr",
     "output_type": "stream",
     "text": [
      "/home/dylanpoh/anaconda3/envs/kagglehouse/lib/python3.7/site-packages/xgboost/core.py:587: FutureWarning: Series.base is deprecated and will be removed in a future version\n",
      "  if getattr(data, 'base', None) is not None and \\\n",
      "\n"
     ]
    },
    {
     "name": "stdout",
     "output_type": "stream",
     "text": [
      "SCORE:                                                                         \n",
      "18446.863423944065                                                             \n",
      "{'colsample_bytree': 0.75, 'gamma': 0.9, 'learning_rate': 0.275, 'max_depth': 22, 'min_child_weight': 4.0, 'n_estimators': 5000, 'subsample': 0.8473073861423749}\n",
      "[23:27:29] WARNING: src/objective/regression_obj.cu:152: reg:linear is now deprecated in favor of reg:squarederror.\n",
      " 17%|█▋        | 17/100 [00:19<02:12,  1.59s/it, best loss: 15099.278984731734]"
     ]
    },
    {
     "name": "stderr",
     "output_type": "stream",
     "text": [
      "/home/dylanpoh/anaconda3/envs/kagglehouse/lib/python3.7/site-packages/xgboost/core.py:587: FutureWarning: Series.base is deprecated and will be removed in a future version\n",
      "  if getattr(data, 'base', None) is not None and \\\n",
      "\n"
     ]
    },
    {
     "name": "stdout",
     "output_type": "stream",
     "text": [
      "SCORE:                                                                         \n",
      "17022.36817744007                                                              \n",
      "{'colsample_bytree': 0.7000000000000001, 'gamma': 0.7000000000000001, 'learning_rate': 0.42500000000000004, 'max_depth': 6, 'min_child_weight': 9.0, 'n_estimators': 1800, 'subsample': 0.9053845816736524}\n",
      "[23:27:30] WARNING: src/objective/regression_obj.cu:152: reg:linear is now deprecated in favor of reg:squarederror.\n",
      " 18%|█▊        | 18/100 [00:20<02:04,  1.52s/it, best loss: 15099.278984731734]"
     ]
    },
    {
     "name": "stderr",
     "output_type": "stream",
     "text": [
      "/home/dylanpoh/anaconda3/envs/kagglehouse/lib/python3.7/site-packages/xgboost/core.py:587: FutureWarning: Series.base is deprecated and will be removed in a future version\n",
      "  if getattr(data, 'base', None) is not None and \\\n",
      "\n"
     ]
    },
    {
     "name": "stdout",
     "output_type": "stream",
     "text": [
      "SCORE:                                                                         \n",
      "17597.732100813355                                                             \n",
      "{'colsample_bytree': 0.9500000000000001, 'gamma': 0.8, 'learning_rate': 0.125, 'max_depth': 10, 'min_child_weight': 4.0, 'n_estimators': 6100, 'subsample': 0.8695892890945605}\n",
      "[23:27:31] WARNING: src/objective/regression_obj.cu:152: reg:linear is now deprecated in favor of reg:squarederror.\n",
      " 19%|█▉        | 19/100 [00:21<01:34,  1.17s/it, best loss: 15099.278984731734]"
     ]
    },
    {
     "name": "stderr",
     "output_type": "stream",
     "text": [
      "/home/dylanpoh/anaconda3/envs/kagglehouse/lib/python3.7/site-packages/xgboost/core.py:587: FutureWarning: Series.base is deprecated and will be removed in a future version\n",
      "  if getattr(data, 'base', None) is not None and \\\n",
      "\n"
     ]
    },
    {
     "name": "stdout",
     "output_type": "stream",
     "text": [
      "SCORE:                                                                         \n",
      "15873.37552618436                                                              \n",
      "{'colsample_bytree': 0.65, 'gamma': 0.9500000000000001, 'learning_rate': 0.025, 'max_depth': 5, 'min_child_weight': 1.0, 'n_estimators': 9400, 'subsample': 0.8619759069106057}\n",
      "[23:27:32] WARNING: src/objective/regression_obj.cu:152: reg:linear is now deprecated in favor of reg:squarederror.\n",
      " 20%|██        | 20/100 [00:23<01:52,  1.40s/it, best loss: 15099.278984731734]"
     ]
    },
    {
     "name": "stderr",
     "output_type": "stream",
     "text": [
      "/home/dylanpoh/anaconda3/envs/kagglehouse/lib/python3.7/site-packages/xgboost/core.py:587: FutureWarning: Series.base is deprecated and will be removed in a future version\n",
      "  if getattr(data, 'base', None) is not None and \\\n",
      "\n"
     ]
    },
    {
     "name": "stdout",
     "output_type": "stream",
     "text": [
      "SCORE:                                                                         \n",
      "15097.280875428081                                                             \n",
      "{'colsample_bytree': 0.65, 'gamma': 0.9500000000000001, 'learning_rate': 0.05, 'max_depth': 5, 'min_child_weight': 1.0, 'n_estimators': 6900, 'subsample': 0.8746639748201935}\n",
      "[23:27:35] WARNING: src/objective/regression_obj.cu:152: reg:linear is now deprecated in favor of reg:squarederror.\n",
      " 21%|██        | 21/100 [00:26<02:26,  1.86s/it, best loss: 15097.280875428081]"
     ]
    },
    {
     "name": "stderr",
     "output_type": "stream",
     "text": [
      "/home/dylanpoh/anaconda3/envs/kagglehouse/lib/python3.7/site-packages/xgboost/core.py:587: FutureWarning: Series.base is deprecated and will be removed in a future version\n",
      "  if getattr(data, 'base', None) is not None and \\\n",
      "\n"
     ]
    },
    {
     "name": "stdout",
     "output_type": "stream",
     "text": [
      "SCORE:                                                                         \n",
      "15504.160022474314                                                             \n",
      "{'colsample_bytree': 0.65, 'gamma': 1.0, 'learning_rate': 0.17500000000000002, 'max_depth': 5, 'min_child_weight': 1.0, 'n_estimators': 3800, 'subsample': 0.8521247835791242}\n",
      "[23:27:37] WARNING: src/objective/regression_obj.cu:152: reg:linear is now deprecated in favor of reg:squarederror.\n",
      " 22%|██▏       | 22/100 [00:27<02:12,  1.70s/it, best loss: 15097.280875428081]"
     ]
    },
    {
     "name": "stderr",
     "output_type": "stream",
     "text": [
      "/home/dylanpoh/anaconda3/envs/kagglehouse/lib/python3.7/site-packages/xgboost/core.py:587: FutureWarning: Series.base is deprecated and will be removed in a future version\n",
      "  if getattr(data, 'base', None) is not None and \\\n",
      "\n"
     ]
    },
    {
     "name": "stdout",
     "output_type": "stream",
     "text": [
      "SCORE:                                                                         \n",
      "16506.91654180936                                                              \n",
      "{'colsample_bytree': 0.65, 'gamma': 0.8500000000000001, 'learning_rate': 0.05, 'max_depth': 26, 'min_child_weight': 7.0, 'n_estimators': 9400, 'subsample': 0.874307832548082}\n",
      "[23:27:37] WARNING: src/objective/regression_obj.cu:152: reg:linear is now deprecated in favor of reg:squarederror.\n",
      " 23%|██▎       | 23/100 [00:27<01:38,  1.28s/it, best loss: 15097.280875428081]"
     ]
    },
    {
     "name": "stderr",
     "output_type": "stream",
     "text": [
      "/home/dylanpoh/anaconda3/envs/kagglehouse/lib/python3.7/site-packages/xgboost/core.py:587: FutureWarning: Series.base is deprecated and will be removed in a future version\n",
      "  if getattr(data, 'base', None) is not None and \\\n",
      "\n"
     ]
    },
    {
     "name": "stdout",
     "output_type": "stream",
     "text": [
      "SCORE:                                                                         \n",
      "15299.95561322774                                                              \n",
      "{'colsample_bytree': 0.6000000000000001, 'gamma': 0.9500000000000001, 'learning_rate': 0.2, 'max_depth': 11, 'min_child_weight': 2.0, 'n_estimators': 9400, 'subsample': 0.9446670853877673}\n",
      "[23:27:41] WARNING: src/objective/regression_obj.cu:152: reg:linear is now deprecated in favor of reg:squarederror.\n",
      " 24%|██▍       | 24/100 [00:31<02:40,  2.11s/it, best loss: 15097.280875428081]"
     ]
    },
    {
     "name": "stderr",
     "output_type": "stream",
     "text": [
      "/home/dylanpoh/anaconda3/envs/kagglehouse/lib/python3.7/site-packages/xgboost/core.py:587: FutureWarning: Series.base is deprecated and will be removed in a future version\n",
      "  if getattr(data, 'base', None) is not None and \\\n",
      "\n"
     ]
    },
    {
     "name": "stdout",
     "output_type": "stream",
     "text": [
      "SCORE:                                                                         \n",
      "16690.853979380707                                                             \n",
      "{'colsample_bytree': 0.7000000000000001, 'gamma': 0.8500000000000001, 'learning_rate': 0.07500000000000001, 'max_depth': 27, 'min_child_weight': 2.0, 'n_estimators': 1200, 'subsample': 0.8435783976453552}\n",
      "[23:27:42] WARNING: src/objective/regression_obj.cu:152: reg:linear is now deprecated in favor of reg:squarederror.\n",
      " 25%|██▌       | 25/100 [00:32<02:10,  1.75s/it, best loss: 15097.280875428081]"
     ]
    },
    {
     "name": "stderr",
     "output_type": "stream",
     "text": [
      "/home/dylanpoh/anaconda3/envs/kagglehouse/lib/python3.7/site-packages/xgboost/core.py:587: FutureWarning: Series.base is deprecated and will be removed in a future version\n",
      "  if getattr(data, 'base', None) is not None and \\\n",
      "\n"
     ]
    },
    {
     "name": "stdout",
     "output_type": "stream",
     "text": [
      "SCORE:                                                                         \n",
      "15518.933816709476                                                             \n",
      "{'colsample_bytree': 0.6000000000000001, 'gamma': 0.9500000000000001, 'learning_rate': 0.15000000000000002, 'max_depth': 21, 'min_child_weight': 6.0, 'n_estimators': 2400, 'subsample': 0.8864728670693205}\n",
      "[23:27:45] WARNING: src/objective/regression_obj.cu:152: reg:linear is now deprecated in favor of reg:squarederror.\n",
      " 26%|██▌       | 26/100 [00:35<02:32,  2.06s/it, best loss: 15097.280875428081]"
     ]
    },
    {
     "name": "stderr",
     "output_type": "stream",
     "text": [
      "/home/dylanpoh/anaconda3/envs/kagglehouse/lib/python3.7/site-packages/xgboost/core.py:587: FutureWarning: Series.base is deprecated and will be removed in a future version\n",
      "  if getattr(data, 'base', None) is not None and \\\n",
      "\n"
     ]
    },
    {
     "name": "stdout",
     "output_type": "stream",
     "text": [
      "SCORE:                                                                         \n",
      "16741.107109731736                                                             \n",
      "{'colsample_bytree': 0.5, 'gamma': 0.75, 'learning_rate': 0.05, 'max_depth': 5, 'min_child_weight': 3.0, 'n_estimators': 7100, 'subsample': 0.802691349089715}\n",
      "[23:27:46] WARNING: src/objective/regression_obj.cu:152: reg:linear is now deprecated in favor of reg:squarederror.\n",
      " 27%|██▋       | 27/100 [00:36<02:02,  1.68s/it, best loss: 15097.280875428081]"
     ]
    },
    {
     "name": "stderr",
     "output_type": "stream",
     "text": [
      "/home/dylanpoh/anaconda3/envs/kagglehouse/lib/python3.7/site-packages/xgboost/core.py:587: FutureWarning: Series.base is deprecated and will be removed in a future version\n",
      "  if getattr(data, 'base', None) is not None and \\\n",
      "\n"
     ]
    },
    {
     "name": "stdout",
     "output_type": "stream",
     "text": [
      "SCORE:                                                                         \n",
      "15092.314934717466                                                             \n",
      "{'colsample_bytree': 0.5, 'gamma': 0.5, 'learning_rate': 0.07500000000000001, 'max_depth': 9, 'min_child_weight': 3.0, 'n_estimators': 7100, 'subsample': 0.8026989726993199}\n",
      "[23:27:47] WARNING: src/objective/regression_obj.cu:152: reg:linear is now deprecated in favor of reg:squarederror.\n",
      " 28%|██▊       | 28/100 [00:37<01:56,  1.61s/it, best loss: 15092.314934717466]"
     ]
    },
    {
     "name": "stderr",
     "output_type": "stream",
     "text": [
      "/home/dylanpoh/anaconda3/envs/kagglehouse/lib/python3.7/site-packages/xgboost/core.py:587: FutureWarning: Series.base is deprecated and will be removed in a future version\n",
      "  if getattr(data, 'base', None) is not None and \\\n",
      "\n"
     ]
    },
    {
     "name": "stdout",
     "output_type": "stream",
     "text": [
      "SCORE:                                                                         \n",
      "15179.969053224886                                                             \n",
      "{'colsample_bytree': 0.5, 'gamma': 0.7000000000000001, 'learning_rate': 0.2, 'max_depth': 29, 'min_child_weight': 7.0, 'n_estimators': 9200, 'subsample': 0.8012097194376765}\n",
      "[23:27:48] WARNING: src/objective/regression_obj.cu:152: reg:linear is now deprecated in favor of reg:squarederror.\n",
      " 29%|██▉       | 29/100 [00:39<01:51,  1.57s/it, best loss: 15092.314934717466]"
     ]
    },
    {
     "name": "stderr",
     "output_type": "stream",
     "text": [
      "/home/dylanpoh/anaconda3/envs/kagglehouse/lib/python3.7/site-packages/xgboost/core.py:587: FutureWarning: Series.base is deprecated and will be removed in a future version\n",
      "  if getattr(data, 'base', None) is not None and \\\n",
      "\n"
     ]
    },
    {
     "name": "stdout",
     "output_type": "stream",
     "text": [
      "SCORE:                                                                         \n",
      "16497.395110944635                                                             \n",
      "{'colsample_bytree': 0.55, 'gamma': 0.75, 'learning_rate': 0.375, 'max_depth': 7, 'min_child_weight': 1.0, 'n_estimators': 3100, 'subsample': 0.8179685143298071}\n",
      "[23:27:49] WARNING: src/objective/regression_obj.cu:152: reg:linear is now deprecated in favor of reg:squarederror.\n",
      " 30%|███       | 30/100 [00:40<01:35,  1.36s/it, best loss: 15092.314934717466]"
     ]
    },
    {
     "name": "stderr",
     "output_type": "stream",
     "text": [
      "/home/dylanpoh/anaconda3/envs/kagglehouse/lib/python3.7/site-packages/xgboost/core.py:587: FutureWarning: Series.base is deprecated and will be removed in a future version\n",
      "  if getattr(data, 'base', None) is not None and \\\n",
      "\n"
     ]
    },
    {
     "name": "stdout",
     "output_type": "stream",
     "text": [
      "SCORE:                                                                         \n",
      "19342.045207263127                                                             \n",
      "{'colsample_bytree': 0.8500000000000001, 'gamma': 0.65, 'learning_rate': 0.1, 'max_depth': 5, 'min_child_weight': 13.0, 'n_estimators': 8700, 'subsample': 0.8343185660202708}\n",
      "[23:27:50] WARNING: src/objective/regression_obj.cu:152: reg:linear is now deprecated in favor of reg:squarederror.\n",
      " 31%|███       | 31/100 [00:40<01:15,  1.10s/it, best loss: 15092.314934717466]"
     ]
    },
    {
     "name": "stderr",
     "output_type": "stream",
     "text": [
      "/home/dylanpoh/anaconda3/envs/kagglehouse/lib/python3.7/site-packages/xgboost/core.py:587: FutureWarning: Series.base is deprecated and will be removed in a future version\n",
      "  if getattr(data, 'base', None) is not None and \\\n",
      "\n"
     ]
    },
    {
     "name": "stdout",
     "output_type": "stream",
     "text": [
      "SCORE:                                                                         \n",
      "15824.721568207762                                                             \n",
      "{'colsample_bytree': 0.6000000000000001, 'gamma': 0.5, 'learning_rate': 0.225, 'max_depth': 19, 'min_child_weight': 3.0, 'n_estimators': 2700, 'subsample': 0.9621259271046941}\n",
      "[23:27:51] WARNING: src/objective/regression_obj.cu:152: reg:linear is now deprecated in favor of reg:squarederror.\n",
      " 32%|███▏      | 32/100 [00:41<01:09,  1.02s/it, best loss: 15092.314934717466]"
     ]
    },
    {
     "name": "stderr",
     "output_type": "stream",
     "text": [
      "/home/dylanpoh/anaconda3/envs/kagglehouse/lib/python3.7/site-packages/xgboost/core.py:587: FutureWarning: Series.base is deprecated and will be removed in a future version\n",
      "  if getattr(data, 'base', None) is not None and \\\n",
      "\n"
     ]
    },
    {
     "name": "stdout",
     "output_type": "stream",
     "text": [
      "SCORE:                                                                         \n",
      "17636.31082334475                                                              \n",
      "{'colsample_bytree': 0.7000000000000001, 'gamma': 0.8500000000000001, 'learning_rate': 0.15000000000000002, 'max_depth': 14, 'min_child_weight': 6.0, 'n_estimators': 7100, 'subsample': 0.8159122876648244}\n",
      "[23:27:52] WARNING: src/objective/regression_obj.cu:152: reg:linear is now deprecated in favor of reg:squarederror.\n",
      " 33%|███▎      | 33/100 [00:42<01:05,  1.02it/s, best loss: 15092.314934717466]"
     ]
    },
    {
     "name": "stderr",
     "output_type": "stream",
     "text": [
      "/home/dylanpoh/anaconda3/envs/kagglehouse/lib/python3.7/site-packages/xgboost/core.py:587: FutureWarning: Series.base is deprecated and will be removed in a future version\n",
      "  if getattr(data, 'base', None) is not None and \\\n",
      "\n"
     ]
    },
    {
     "name": "stdout",
     "output_type": "stream",
     "text": [
      "SCORE:                                                                         \n",
      "16546.436206835046                                                             \n",
      "{'colsample_bytree': 0.5, 'gamma': 1.0, 'learning_rate': 0.025, 'max_depth': 5, 'min_child_weight': 9.0, 'n_estimators': 6800, 'subsample': 0.8630882020465461}\n",
      "[23:27:53] WARNING: src/objective/regression_obj.cu:152: reg:linear is now deprecated in favor of reg:squarederror.\n",
      " 34%|███▍      | 34/100 [00:43<01:03,  1.03it/s, best loss: 15092.314934717466]"
     ]
    },
    {
     "name": "stderr",
     "output_type": "stream",
     "text": [
      "/home/dylanpoh/anaconda3/envs/kagglehouse/lib/python3.7/site-packages/xgboost/core.py:587: FutureWarning: Series.base is deprecated and will be removed in a future version\n",
      "  if getattr(data, 'base', None) is not None and \\\n",
      "\n"
     ]
    },
    {
     "name": "stdout",
     "output_type": "stream",
     "text": [
      "SCORE:                                                                         \n",
      "15422.369452768266                                                             \n",
      "{'colsample_bytree': 0.6000000000000001, 'gamma': 0.65, 'learning_rate': 0.07500000000000001, 'max_depth': 16, 'min_child_weight': 13.0, 'n_estimators': 7900, 'subsample': 0.8937329206506119}\n",
      "[23:27:54] WARNING: src/objective/regression_obj.cu:152: reg:linear is now deprecated in favor of reg:squarederror.\n",
      " 35%|███▌      | 35/100 [00:44<01:09,  1.07s/it, best loss: 15092.314934717466]"
     ]
    },
    {
     "name": "stderr",
     "output_type": "stream",
     "text": [
      "/home/dylanpoh/anaconda3/envs/kagglehouse/lib/python3.7/site-packages/xgboost/core.py:587: FutureWarning: Series.base is deprecated and will be removed in a future version\n",
      "  if getattr(data, 'base', None) is not None and \\\n",
      "\n"
     ]
    },
    {
     "name": "stdout",
     "output_type": "stream",
     "text": [
      "SCORE:                                                                         \n",
      "15987.510960687785                                                             \n",
      "{'colsample_bytree': 0.55, 'gamma': 0.9500000000000001, 'learning_rate': 0.125, 'max_depth': 15, 'min_child_weight': 2.0, 'n_estimators': 4600, 'subsample': 0.9246282469285814}\n",
      "[23:27:55] WARNING: src/objective/regression_obj.cu:152: reg:linear is now deprecated in favor of reg:squarederror.\n",
      " 36%|███▌      | 36/100 [00:45<01:14,  1.17s/it, best loss: 15092.314934717466]"
     ]
    },
    {
     "name": "stderr",
     "output_type": "stream",
     "text": [
      "/home/dylanpoh/anaconda3/envs/kagglehouse/lib/python3.7/site-packages/xgboost/core.py:587: FutureWarning: Series.base is deprecated and will be removed in a future version\n",
      "  if getattr(data, 'base', None) is not None and \\\n",
      "\n"
     ]
    },
    {
     "name": "stdout",
     "output_type": "stream",
     "text": [
      "SCORE:                                                                         \n",
      "16265.291238584476                                                             \n",
      "{'colsample_bytree': 0.75, 'gamma': 0.55, 'learning_rate': 0.05, 'max_depth': 17, 'min_child_weight': 4.0, 'n_estimators': 9300, 'subsample': 0.8807947709408127}\n",
      "[23:27:56] WARNING: src/objective/regression_obj.cu:152: reg:linear is now deprecated in favor of reg:squarederror.\n",
      " 37%|███▋      | 37/100 [00:46<01:09,  1.10s/it, best loss: 15092.314934717466]"
     ]
    },
    {
     "name": "stderr",
     "output_type": "stream",
     "text": [
      "/home/dylanpoh/anaconda3/envs/kagglehouse/lib/python3.7/site-packages/xgboost/core.py:587: FutureWarning: Series.base is deprecated and will be removed in a future version\n",
      "  if getattr(data, 'base', None) is not None and \\\n",
      "\n"
     ]
    },
    {
     "name": "stdout",
     "output_type": "stream",
     "text": [
      "SCORE:                                                                         \n",
      "15847.270449843036                                                             \n",
      "{'colsample_bytree': 0.7000000000000001, 'gamma': 0.8500000000000001, 'learning_rate': 0.1, 'max_depth': 23, 'min_child_weight': 5.0, 'n_estimators': 1700, 'subsample': 0.8590762372653901}\n",
      "[23:28:01] WARNING: src/objective/regression_obj.cu:152: reg:linear is now deprecated in favor of reg:squarederror.\n",
      " 38%|███▊      | 38/100 [00:51<02:11,  2.12s/it, best loss: 15092.314934717466]"
     ]
    },
    {
     "name": "stderr",
     "output_type": "stream",
     "text": [
      "/home/dylanpoh/anaconda3/envs/kagglehouse/lib/python3.7/site-packages/xgboost/core.py:587: FutureWarning: Series.base is deprecated and will be removed in a future version\n",
      "  if getattr(data, 'base', None) is not None and \\\n",
      "\n"
     ]
    },
    {
     "name": "stdout",
     "output_type": "stream",
     "text": [
      "SCORE:                                                                         \n",
      "15704.252987656964                                                             \n",
      "{'colsample_bytree': 0.8500000000000001, 'gamma': 0.75, 'learning_rate': 0.15000000000000002, 'max_depth': 18, 'min_child_weight': 12.0, 'n_estimators': 9000, 'subsample': 0.8095053549919135}\n",
      "[23:28:04] WARNING: src/objective/regression_obj.cu:152: reg:linear is now deprecated in favor of reg:squarederror.\n",
      " 39%|███▉      | 39/100 [00:54<02:31,  2.48s/it, best loss: 15092.314934717466]"
     ]
    },
    {
     "name": "stderr",
     "output_type": "stream",
     "text": [
      "/home/dylanpoh/anaconda3/envs/kagglehouse/lib/python3.7/site-packages/xgboost/core.py:587: FutureWarning: Series.base is deprecated and will be removed in a future version\n",
      "  if getattr(data, 'base', None) is not None and \\\n",
      "\n"
     ]
    },
    {
     "name": "stdout",
     "output_type": "stream",
     "text": [
      "SCORE:                                                                         \n",
      "16164.222897046233                                                             \n",
      "{'colsample_bytree': 0.55, 'gamma': 0.7000000000000001, 'learning_rate': 0.5, 'max_depth': 16, 'min_child_weight': 10.0, 'n_estimators': 2900, 'subsample': 0.9620588634639716}\n",
      "[23:28:05] WARNING: src/objective/regression_obj.cu:152: reg:linear is now deprecated in favor of reg:squarederror.\n",
      " 40%|████      | 40/100 [00:56<02:09,  2.16s/it, best loss: 15092.314934717466]"
     ]
    },
    {
     "name": "stderr",
     "output_type": "stream",
     "text": [
      "/home/dylanpoh/anaconda3/envs/kagglehouse/lib/python3.7/site-packages/xgboost/core.py:587: FutureWarning: Series.base is deprecated and will be removed in a future version\n",
      "  if getattr(data, 'base', None) is not None and \\\n",
      "\n"
     ]
    },
    {
     "name": "stdout",
     "output_type": "stream",
     "text": [
      "SCORE:                                                                         \n",
      "20162.859383918378                                                             \n",
      "{'colsample_bytree': 0.65, 'gamma': 1.0, 'learning_rate': 0.25, 'max_depth': 5, 'min_child_weight': 15.0, 'n_estimators': 7300, 'subsample': 0.8399090416074367}\n",
      "[23:28:06] WARNING: src/objective/regression_obj.cu:152: reg:linear is now deprecated in favor of reg:squarederror.\n",
      " 41%|████      | 41/100 [00:56<01:37,  1.65s/it, best loss: 15092.314934717466]"
     ]
    },
    {
     "name": "stderr",
     "output_type": "stream",
     "text": [
      "/home/dylanpoh/anaconda3/envs/kagglehouse/lib/python3.7/site-packages/xgboost/core.py:587: FutureWarning: Series.base is deprecated and will be removed in a future version\n",
      "  if getattr(data, 'base', None) is not None and \\\n",
      "\n"
     ]
    },
    {
     "name": "stdout",
     "output_type": "stream",
     "text": [
      "SCORE:                                                                         \n",
      "17661.501364511987                                                             \n",
      "{'colsample_bytree': 0.6000000000000001, 'gamma': 0.6000000000000001, 'learning_rate': 0.1, 'max_depth': 12, 'min_child_weight': 8.0, 'n_estimators': 6300, 'subsample': 0.8194632382559899}\n",
      "[23:28:06] WARNING: src/objective/regression_obj.cu:152: reg:linear is now deprecated in favor of reg:squarederror.\n",
      " 42%|████▏     | 42/100 [00:56<01:12,  1.25s/it, best loss: 15092.314934717466]"
     ]
    },
    {
     "name": "stderr",
     "output_type": "stream",
     "text": [
      "/home/dylanpoh/anaconda3/envs/kagglehouse/lib/python3.7/site-packages/xgboost/core.py:587: FutureWarning: Series.base is deprecated and will be removed in a future version\n",
      "  if getattr(data, 'base', None) is not None and \\\n",
      "\n"
     ]
    },
    {
     "name": "stdout",
     "output_type": "stream",
     "text": [
      "SCORE:                                                                         \n",
      "16074.531196489726                                                             \n",
      "{'colsample_bytree': 0.9, 'gamma': 0.8, 'learning_rate': 0.025, 'max_depth': 24, 'min_child_weight': 2.0, 'n_estimators': 4200, 'subsample': 0.9193658590544818}\n",
      "[23:28:07] WARNING: src/objective/regression_obj.cu:152: reg:linear is now deprecated in favor of reg:squarederror.\n",
      " 43%|████▎     | 43/100 [00:57<01:04,  1.13s/it, best loss: 15092.314934717466]"
     ]
    },
    {
     "name": "stderr",
     "output_type": "stream",
     "text": [
      "/home/dylanpoh/anaconda3/envs/kagglehouse/lib/python3.7/site-packages/xgboost/core.py:587: FutureWarning: Series.base is deprecated and will be removed in a future version\n",
      "  if getattr(data, 'base', None) is not None and \\\n",
      "\n"
     ]
    },
    {
     "name": "stdout",
     "output_type": "stream",
     "text": [
      "SCORE:                                                                         \n",
      "15684.4119399258                                                               \n",
      "{'colsample_bytree': 0.8, 'gamma': 0.65, 'learning_rate': 0.17500000000000002, 'max_depth': 8, 'min_child_weight': 3.0, 'n_estimators': 9700, 'subsample': 0.8653844106713313}\n",
      "[23:28:14] WARNING: src/objective/regression_obj.cu:152: reg:linear is now deprecated in favor of reg:squarederror.\n",
      " 44%|████▍     | 44/100 [01:05<02:48,  3.02s/it, best loss: 15092.314934717466]"
     ]
    },
    {
     "name": "stderr",
     "output_type": "stream",
     "text": [
      "/home/dylanpoh/anaconda3/envs/kagglehouse/lib/python3.7/site-packages/xgboost/core.py:587: FutureWarning: Series.base is deprecated and will be removed in a future version\n",
      "  if getattr(data, 'base', None) is not None and \\\n",
      "\n"
     ]
    },
    {
     "name": "stdout",
     "output_type": "stream",
     "text": [
      "SCORE:                                                                         \n",
      "16383.153440710616                                                             \n",
      "{'colsample_bytree': 0.75, 'gamma': 0.9, 'learning_rate': 0.05, 'max_depth': 13, 'min_child_weight': 7.0, 'n_estimators': 8900, 'subsample': 0.8271517428012131}\n",
      "[23:28:15] WARNING: src/objective/regression_obj.cu:152: reg:linear is now deprecated in favor of reg:squarederror.\n",
      " 45%|████▌     | 45/100 [01:05<02:07,  2.32s/it, best loss: 15092.314934717466]"
     ]
    },
    {
     "name": "stderr",
     "output_type": "stream",
     "text": [
      "/home/dylanpoh/anaconda3/envs/kagglehouse/lib/python3.7/site-packages/xgboost/core.py:587: FutureWarning: Series.base is deprecated and will be removed in a future version\n",
      "  if getattr(data, 'base', None) is not None and \\\n",
      "\n"
     ]
    },
    {
     "name": "stdout",
     "output_type": "stream",
     "text": [
      "SCORE:                                                                         \n",
      "15656.913723601598                                                             \n",
      "{'colsample_bytree': 0.55, 'gamma': 0.8, 'learning_rate': 0.30000000000000004, 'max_depth': 26, 'min_child_weight': 5.0, 'n_estimators': 2300, 'subsample': 0.8903222180966983}\n",
      "[23:28:17] WARNING: src/objective/regression_obj.cu:152: reg:linear is now deprecated in favor of reg:squarederror.\n",
      " 46%|████▌     | 46/100 [01:07<02:02,  2.27s/it, best loss: 15092.314934717466]"
     ]
    },
    {
     "name": "stderr",
     "output_type": "stream",
     "text": [
      "/home/dylanpoh/anaconda3/envs/kagglehouse/lib/python3.7/site-packages/xgboost/core.py:587: FutureWarning: Series.base is deprecated and will be removed in a future version\n",
      "  if getattr(data, 'base', None) is not None and \\\n",
      "\n"
     ]
    },
    {
     "name": "stdout",
     "output_type": "stream",
     "text": [
      "SCORE:                                                                         \n",
      "17590.141374143837                                                             \n",
      "{'colsample_bytree': 0.8, 'gamma': 0.75, 'learning_rate': 0.4, 'max_depth': 22, 'min_child_weight': 8.0, 'n_estimators': 1300, 'subsample': 0.8978905561493173}\n",
      "[23:28:18] WARNING: src/objective/regression_obj.cu:152: reg:linear is now deprecated in favor of reg:squarederror.\n",
      " 47%|████▋     | 47/100 [01:08<01:34,  1.79s/it, best loss: 15092.314934717466]"
     ]
    },
    {
     "name": "stderr",
     "output_type": "stream",
     "text": [
      "/home/dylanpoh/anaconda3/envs/kagglehouse/lib/python3.7/site-packages/xgboost/core.py:587: FutureWarning: Series.base is deprecated and will be removed in a future version\n",
      "  if getattr(data, 'base', None) is not None and \\\n",
      "\n"
     ]
    },
    {
     "name": "stdout",
     "output_type": "stream",
     "text": [
      "SCORE:                                                                         \n",
      "17472.917603096463                                                             \n",
      "{'colsample_bytree': 0.5, 'gamma': 0.7000000000000001, 'learning_rate': 0.125, 'max_depth': 25, 'min_child_weight': 15.0, 'n_estimators': 2000, 'subsample': 0.8540092868156659}\n",
      "[23:28:19] WARNING: src/objective/regression_obj.cu:152: reg:linear is now deprecated in favor of reg:squarederror.\n",
      " 48%|████▊     | 48/100 [01:09<01:15,  1.45s/it, best loss: 15092.314934717466]"
     ]
    },
    {
     "name": "stderr",
     "output_type": "stream",
     "text": [
      "/home/dylanpoh/anaconda3/envs/kagglehouse/lib/python3.7/site-packages/xgboost/core.py:587: FutureWarning: Series.base is deprecated and will be removed in a future version\n",
      "  if getattr(data, 'base', None) is not None and \\\n",
      "\n"
     ]
    },
    {
     "name": "stdout",
     "output_type": "stream",
     "text": [
      "SCORE:                                                                         \n",
      "16142.428108946919                                                             \n",
      "{'colsample_bytree': 0.9, 'gamma': 0.55, 'learning_rate': 0.325, 'max_depth': 20, 'min_child_weight': 4.0, 'n_estimators': 6000, 'subsample': 0.8378007717327662}\n",
      "[23:28:20] WARNING: src/objective/regression_obj.cu:152: reg:linear is now deprecated in favor of reg:squarederror.\n",
      " 49%|████▉     | 49/100 [01:10<01:10,  1.38s/it, best loss: 15092.314934717466]"
     ]
    },
    {
     "name": "stderr",
     "output_type": "stream",
     "text": [
      "/home/dylanpoh/anaconda3/envs/kagglehouse/lib/python3.7/site-packages/xgboost/core.py:587: FutureWarning: Series.base is deprecated and will be removed in a future version\n",
      "  if getattr(data, 'base', None) is not None and \\\n",
      "\n"
     ]
    },
    {
     "name": "stdout",
     "output_type": "stream",
     "text": [
      "SCORE:                                                                         \n",
      "17234.76899614726                                                              \n",
      "{'colsample_bytree': 0.65, 'gamma': 0.6000000000000001, 'learning_rate': 0.25, 'max_depth': 28, 'min_child_weight': 10.0, 'n_estimators': 3400, 'subsample': 0.9371180744913751}\n",
      "[23:28:21] WARNING: src/objective/regression_obj.cu:152: reg:linear is now deprecated in favor of reg:squarederror.\n",
      " 50%|█████     | 50/100 [01:11<01:00,  1.22s/it, best loss: 15092.314934717466]"
     ]
    },
    {
     "name": "stderr",
     "output_type": "stream",
     "text": [
      "/home/dylanpoh/anaconda3/envs/kagglehouse/lib/python3.7/site-packages/xgboost/core.py:587: FutureWarning: Series.base is deprecated and will be removed in a future version\n",
      "  if getattr(data, 'base', None) is not None and \\\n",
      "\n"
     ]
    },
    {
     "name": "stdout",
     "output_type": "stream",
     "text": [
      "SCORE:                                                                         \n",
      "17499.366902111873                                                             \n",
      "{'colsample_bytree': 0.7000000000000001, 'gamma': 0.9500000000000001, 'learning_rate': 0.07500000000000001, 'max_depth': 6, 'min_child_weight': 9.0, 'n_estimators': 5700, 'subsample': 0.8058092291408457}\n",
      "[23:28:22] WARNING: src/objective/regression_obj.cu:152: reg:linear is now deprecated in favor of reg:squarederror.\n",
      " 51%|█████     | 51/100 [01:12<00:58,  1.19s/it, best loss: 15092.314934717466]"
     ]
    },
    {
     "name": "stderr",
     "output_type": "stream",
     "text": [
      "/home/dylanpoh/anaconda3/envs/kagglehouse/lib/python3.7/site-packages/xgboost/core.py:587: FutureWarning: Series.base is deprecated and will be removed in a future version\n",
      "  if getattr(data, 'base', None) is not None and \\\n",
      "\n"
     ]
    },
    {
     "name": "stdout",
     "output_type": "stream",
     "text": [
      "SCORE:                                                                         \n",
      "15876.188507776826                                                             \n",
      "{'colsample_bytree': 0.55, 'gamma': 0.8500000000000001, 'learning_rate': 0.2, 'max_depth': 11, 'min_child_weight': 1.0, 'n_estimators': 6400, 'subsample': 0.881343578467242}\n",
      "[23:28:23] WARNING: src/objective/regression_obj.cu:152: reg:linear is now deprecated in favor of reg:squarederror.\n",
      " 52%|█████▏    | 52/100 [01:13<00:55,  1.17s/it, best loss: 15092.314934717466]"
     ]
    },
    {
     "name": "stderr",
     "output_type": "stream",
     "text": [
      "/home/dylanpoh/anaconda3/envs/kagglehouse/lib/python3.7/site-packages/xgboost/core.py:587: FutureWarning: Series.base is deprecated and will be removed in a future version\n",
      "  if getattr(data, 'base', None) is not None and \\\n",
      "\n"
     ]
    },
    {
     "name": "stdout",
     "output_type": "stream",
     "text": [
      "SCORE:                                                                         \n",
      "17593.304830194065                                                             \n",
      "{'colsample_bytree': 0.9500000000000001, 'gamma': 0.9, 'learning_rate': 0.47500000000000003, 'max_depth': 10, 'min_child_weight': 6.0, 'n_estimators': 4900, 'subsample': 0.9987537074722398}\n",
      "[23:28:24] WARNING: src/objective/regression_obj.cu:152: reg:linear is now deprecated in favor of reg:squarederror.\n",
      " 53%|█████▎    | 53/100 [01:14<00:47,  1.01s/it, best loss: 15092.314934717466]"
     ]
    },
    {
     "name": "stderr",
     "output_type": "stream",
     "text": [
      "/home/dylanpoh/anaconda3/envs/kagglehouse/lib/python3.7/site-packages/xgboost/core.py:587: FutureWarning: Series.base is deprecated and will be removed in a future version\n",
      "  if getattr(data, 'base', None) is not None and \\\n",
      "\n"
     ]
    },
    {
     "name": "stdout",
     "output_type": "stream",
     "text": [
      "SCORE:                                                                         \n",
      "19872.37430436644                                                              \n",
      "{'colsample_bytree': 0.6000000000000001, 'gamma': 0.8, 'learning_rate': 0.17500000000000002, 'max_depth': 21, 'min_child_weight': 12.0, 'n_estimators': 9900, 'subsample': 0.9135740098135713}\n",
      "[23:28:24] WARNING: src/objective/regression_obj.cu:152: reg:linear is now deprecated in favor of reg:squarederror.\n",
      " 54%|█████▍    | 54/100 [01:14<00:39,  1.16it/s, best loss: 15092.314934717466]"
     ]
    },
    {
     "name": "stderr",
     "output_type": "stream",
     "text": [
      "/home/dylanpoh/anaconda3/envs/kagglehouse/lib/python3.7/site-packages/xgboost/core.py:587: FutureWarning: Series.base is deprecated and will be removed in a future version\n",
      "  if getattr(data, 'base', None) is not None and \\\n",
      "\n"
     ]
    },
    {
     "name": "stdout",
     "output_type": "stream",
     "text": [
      "SCORE:                                                                         \n",
      "15927.883588398972                                                             \n",
      "{'colsample_bytree': 0.5, 'gamma': 1.0, 'learning_rate': 0.225, 'max_depth': 27, 'min_child_weight': 20.0, 'n_estimators': 2100, 'subsample': 0.8254989326234385}\n",
      "[23:28:25] WARNING: src/objective/regression_obj.cu:152: reg:linear is now deprecated in favor of reg:squarederror.\n",
      " 55%|█████▌    | 55/100 [01:15<00:40,  1.10it/s, best loss: 15092.314934717466]"
     ]
    },
    {
     "name": "stderr",
     "output_type": "stream",
     "text": [
      "/home/dylanpoh/anaconda3/envs/kagglehouse/lib/python3.7/site-packages/xgboost/core.py:587: FutureWarning: Series.base is deprecated and will be removed in a future version\n",
      "  if getattr(data, 'base', None) is not None and \\\n",
      "\n"
     ]
    },
    {
     "name": "stdout",
     "output_type": "stream",
     "text": [
      "SCORE:                                                                         \n",
      "16682.049470248287                                                             \n",
      "{'colsample_bytree': 0.65, 'gamma': 0.65, 'learning_rate': 0.025, 'max_depth': 5, 'min_child_weight': 2.0, 'n_estimators': 3500, 'subsample': 0.9585108856952823}\n",
      "[23:28:26] WARNING: src/objective/regression_obj.cu:152: reg:linear is now deprecated in favor of reg:squarederror.\n",
      " 56%|█████▌    | 56/100 [01:16<00:38,  1.15it/s, best loss: 15092.314934717466]"
     ]
    },
    {
     "name": "stderr",
     "output_type": "stream",
     "text": [
      "/home/dylanpoh/anaconda3/envs/kagglehouse/lib/python3.7/site-packages/xgboost/core.py:587: FutureWarning: Series.base is deprecated and will be removed in a future version\n",
      "  if getattr(data, 'base', None) is not None and \\\n",
      "\n"
     ]
    },
    {
     "name": "stdout",
     "output_type": "stream",
     "text": [
      "SCORE:                                                                         \n",
      "15806.885996361301                                                             \n",
      "{'colsample_bytree': 0.7000000000000001, 'gamma': 0.75, 'learning_rate': 0.05, 'max_depth': 29, 'min_child_weight': 4.0, 'n_estimators': 3000, 'subsample': 0.9031023806499034}\n",
      "[23:28:27] WARNING: src/objective/regression_obj.cu:152: reg:linear is now deprecated in favor of reg:squarederror.\n",
      " 57%|█████▋    | 57/100 [01:18<00:45,  1.07s/it, best loss: 15092.314934717466]"
     ]
    },
    {
     "name": "stderr",
     "output_type": "stream",
     "text": [
      "/home/dylanpoh/anaconda3/envs/kagglehouse/lib/python3.7/site-packages/xgboost/core.py:587: FutureWarning: Series.base is deprecated and will be removed in a future version\n",
      "  if getattr(data, 'base', None) is not None and \\\n",
      "\n"
     ]
    },
    {
     "name": "stdout",
     "output_type": "stream",
     "text": [
      "SCORE:                                                                         \n",
      "15652.709644335046                                                             \n",
      "{'colsample_bytree': 0.75, 'gamma': 0.5, 'learning_rate': 0.35000000000000003, 'max_depth': 9, 'min_child_weight': 17.0, 'n_estimators': 4000, 'subsample': 0.9786321295216609}\n",
      "[23:28:33] WARNING: src/objective/regression_obj.cu:152: reg:linear is now deprecated in favor of reg:squarederror.\n",
      " 58%|█████▊    | 58/100 [01:23<01:41,  2.43s/it, best loss: 15092.314934717466]"
     ]
    },
    {
     "name": "stderr",
     "output_type": "stream",
     "text": [
      "/home/dylanpoh/anaconda3/envs/kagglehouse/lib/python3.7/site-packages/xgboost/core.py:587: FutureWarning: Series.base is deprecated and will be removed in a future version\n",
      "  if getattr(data, 'base', None) is not None and \\\n",
      "\n"
     ]
    },
    {
     "name": "stdout",
     "output_type": "stream",
     "text": [
      "SCORE:                                                                         \n",
      "17725.855932505707                                                             \n",
      "{'colsample_bytree': 0.55, 'gamma': 0.9, 'learning_rate': 0.125, 'max_depth': 7, 'min_child_weight': 14.0, 'n_estimators': 2200, 'subsample': 0.8473316280195651}\n",
      "[23:28:34] WARNING: src/objective/regression_obj.cu:152: reg:linear is now deprecated in favor of reg:squarederror.\n",
      " 59%|█████▉    | 59/100 [01:24<01:16,  1.86s/it, best loss: 15092.314934717466]"
     ]
    },
    {
     "name": "stderr",
     "output_type": "stream",
     "text": [
      "/home/dylanpoh/anaconda3/envs/kagglehouse/lib/python3.7/site-packages/xgboost/core.py:587: FutureWarning: Series.base is deprecated and will be removed in a future version\n",
      "  if getattr(data, 'base', None) is not None and \\\n",
      "\n"
     ]
    },
    {
     "name": "stdout",
     "output_type": "stream",
     "text": [
      "SCORE:                                                                         \n",
      "16178.388778895547                                                             \n",
      "{'colsample_bytree': 0.65, 'gamma': 0.8, 'learning_rate': 0.15000000000000002, 'max_depth': 19, 'min_child_weight': 3.0, 'n_estimators': 5500, 'subsample': 0.8101111444259865}\n",
      "[23:28:34] WARNING: src/objective/regression_obj.cu:152: reg:linear is now deprecated in favor of reg:squarederror.\n",
      " 60%|██████    | 60/100 [01:24<01:00,  1.51s/it, best loss: 15092.314934717466]"
     ]
    },
    {
     "name": "stderr",
     "output_type": "stream",
     "text": [
      "/home/dylanpoh/anaconda3/envs/kagglehouse/lib/python3.7/site-packages/xgboost/core.py:587: FutureWarning: Series.base is deprecated and will be removed in a future version\n",
      "  if getattr(data, 'base', None) is not None and \\\n",
      "\n"
     ]
    },
    {
     "name": "stdout",
     "output_type": "stream",
     "text": [
      "SCORE:                                                                         \n",
      "16043.845373144977                                                             \n",
      "{'colsample_bytree': 1.0, 'gamma': 0.9500000000000001, 'learning_rate': 0.1, 'max_depth': 5, 'min_child_weight': 1.0, 'n_estimators': 2800, 'subsample': 0.87606884043529}\n",
      "[23:28:35] WARNING: src/objective/regression_obj.cu:152: reg:linear is now deprecated in favor of reg:squarederror.\n",
      " 61%|██████    | 61/100 [01:26<00:54,  1.40s/it, best loss: 15092.314934717466]"
     ]
    },
    {
     "name": "stderr",
     "output_type": "stream",
     "text": [
      "/home/dylanpoh/anaconda3/envs/kagglehouse/lib/python3.7/site-packages/xgboost/core.py:587: FutureWarning: Series.base is deprecated and will be removed in a future version\n",
      "  if getattr(data, 'base', None) is not None and \\\n",
      "\n"
     ]
    },
    {
     "name": "stdout",
     "output_type": "stream",
     "text": [
      "SCORE:                                                                         \n",
      "15644.162608804223                                                             \n",
      "{'colsample_bytree': 0.6000000000000001, 'gamma': 0.8500000000000001, 'learning_rate': 0.42500000000000004, 'max_depth': 14, 'min_child_weight': 11.0, 'n_estimators': 6200, 'subsample': 0.8235796841980407}\n",
      "[23:28:37] WARNING: src/objective/regression_obj.cu:152: reg:linear is now deprecated in favor of reg:squarederror.\n",
      " 62%|██████▏   | 62/100 [01:27<00:57,  1.52s/it, best loss: 15092.314934717466]"
     ]
    },
    {
     "name": "stderr",
     "output_type": "stream",
     "text": [
      "/home/dylanpoh/anaconda3/envs/kagglehouse/lib/python3.7/site-packages/xgboost/core.py:587: FutureWarning: Series.base is deprecated and will be removed in a future version\n",
      "  if getattr(data, 'base', None) is not None and \\\n",
      "\n"
     ]
    },
    {
     "name": "stdout",
     "output_type": "stream",
     "text": [
      "SCORE:                                                                         \n",
      "18566.90526897831                                                              \n",
      "{'colsample_bytree': 0.8, 'gamma': 0.7000000000000001, 'learning_rate': 0.07500000000000001, 'max_depth': 15, 'min_child_weight': 5.0, 'n_estimators': 4100, 'subsample': 0.8678056506748418}\n",
      "[23:28:38] WARNING: src/objective/regression_obj.cu:152: reg:linear is now deprecated in favor of reg:squarederror.\n",
      " 63%|██████▎   | 63/100 [01:28<00:43,  1.17s/it, best loss: 15092.314934717466]"
     ]
    },
    {
     "name": "stderr",
     "output_type": "stream",
     "text": [
      "/home/dylanpoh/anaconda3/envs/kagglehouse/lib/python3.7/site-packages/xgboost/core.py:587: FutureWarning: Series.base is deprecated and will be removed in a future version\n",
      "  if getattr(data, 'base', None) is not None and \\\n",
      "\n"
     ]
    },
    {
     "name": "stdout",
     "output_type": "stream",
     "text": [
      "SCORE:                                                                         \n",
      "15528.744354666096                                                             \n",
      "{'colsample_bytree': 0.5, 'gamma': 0.55, 'learning_rate': 0.025, 'max_depth': 17, 'min_child_weight': 8.0, 'n_estimators': 8100, 'subsample': 0.8597540359896831}\n",
      "[23:28:40] WARNING: src/objective/regression_obj.cu:152: reg:linear is now deprecated in favor of reg:squarederror.\n",
      " 64%|██████▍   | 64/100 [01:30<00:53,  1.50s/it, best loss: 15092.314934717466]"
     ]
    },
    {
     "name": "stderr",
     "output_type": "stream",
     "text": [
      "/home/dylanpoh/anaconda3/envs/kagglehouse/lib/python3.7/site-packages/xgboost/core.py:587: FutureWarning: Series.base is deprecated and will be removed in a future version\n",
      "  if getattr(data, 'base', None) is not None and \\\n",
      "\n"
     ]
    },
    {
     "name": "stdout",
     "output_type": "stream",
     "text": [
      "SCORE:                                                                         \n",
      "15077.716761201484                                                             \n",
      "{'colsample_bytree': 0.5, 'gamma': 0.55, 'learning_rate': 0.025, 'max_depth': 17, 'min_child_weight': 8.0, 'n_estimators': 9500, 'subsample': 0.8446261717233028}\n",
      "[23:28:43] WARNING: src/objective/regression_obj.cu:152: reg:linear is now deprecated in favor of reg:squarederror.\n",
      " 65%|██████▌   | 65/100 [01:34<01:14,  2.14s/it, best loss: 15077.716761201484]"
     ]
    },
    {
     "name": "stderr",
     "output_type": "stream",
     "text": [
      "/home/dylanpoh/anaconda3/envs/kagglehouse/lib/python3.7/site-packages/xgboost/core.py:587: FutureWarning: Series.base is deprecated and will be removed in a future version\n",
      "  if getattr(data, 'base', None) is not None and \\\n",
      "\n"
     ]
    },
    {
     "name": "stdout",
     "output_type": "stream",
     "text": [
      "SCORE:                                                                         \n",
      "15190.52974279395                                                              \n",
      "{'colsample_bytree': 0.5, 'gamma': 0.6000000000000001, 'learning_rate': 0.05, 'max_depth': 17, 'min_child_weight': 7.0, 'n_estimators': 8000, 'subsample': 0.8603896196168412}\n",
      "[23:28:46] WARNING: src/objective/regression_obj.cu:152: reg:linear is now deprecated in favor of reg:squarederror.\n",
      " 66%|██████▌   | 66/100 [01:36<01:18,  2.31s/it, best loss: 15077.716761201484]"
     ]
    },
    {
     "name": "stderr",
     "output_type": "stream",
     "text": [
      "/home/dylanpoh/anaconda3/envs/kagglehouse/lib/python3.7/site-packages/xgboost/core.py:587: FutureWarning: Series.base is deprecated and will be removed in a future version\n",
      "  if getattr(data, 'base', None) is not None and \\\n",
      "\n"
     ]
    },
    {
     "name": "stdout",
     "output_type": "stream",
     "text": [
      "SCORE:                                                                         \n",
      "15435.880529394977                                                             \n",
      "{'colsample_bytree': 0.5, 'gamma': 0.5, 'learning_rate': 0.07500000000000001, 'max_depth': 17, 'min_child_weight': 6.0, 'n_estimators': 8100, 'subsample': 0.8546219451964515}\n",
      "[23:28:48] WARNING: src/objective/regression_obj.cu:152: reg:linear is now deprecated in favor of reg:squarederror.\n",
      " 67%|██████▋   | 67/100 [01:38<01:12,  2.19s/it, best loss: 15077.716761201484]"
     ]
    },
    {
     "name": "stderr",
     "output_type": "stream",
     "text": [
      "/home/dylanpoh/anaconda3/envs/kagglehouse/lib/python3.7/site-packages/xgboost/core.py:587: FutureWarning: Series.base is deprecated and will be removed in a future version\n",
      "  if getattr(data, 'base', None) is not None and \\\n",
      "\n"
     ]
    },
    {
     "name": "stdout",
     "output_type": "stream",
     "text": [
      "SCORE:                                                                         \n",
      "16000.945160887557                                                             \n",
      "{'colsample_bytree': 0.6000000000000001, 'gamma': 0.65, 'learning_rate': 0.025, 'max_depth': 23, 'min_child_weight': 12.0, 'n_estimators': 8100, 'subsample': 0.885447953205755}\n",
      "[23:28:50] WARNING: src/objective/regression_obj.cu:152: reg:linear is now deprecated in favor of reg:squarederror.\n",
      " 68%|██████▊   | 68/100 [01:40<01:03,  1.98s/it, best loss: 15077.716761201484]"
     ]
    },
    {
     "name": "stderr",
     "output_type": "stream",
     "text": [
      "/home/dylanpoh/anaconda3/envs/kagglehouse/lib/python3.7/site-packages/xgboost/core.py:587: FutureWarning: Series.base is deprecated and will be removed in a future version\n",
      "  if getattr(data, 'base', None) is not None and \\\n",
      "\n"
     ]
    },
    {
     "name": "stdout",
     "output_type": "stream",
     "text": [
      "SCORE:                                                                         \n",
      "15370.286262128995                                                             \n",
      "{'colsample_bytree': 0.55, 'gamma': 0.6000000000000001, 'learning_rate': 0.1, 'max_depth': 18, 'min_child_weight': 10.0, 'n_estimators': 8300, 'subsample': 0.8307113890375938}\n",
      "[23:28:54] WARNING: src/objective/regression_obj.cu:152: reg:linear is now deprecated in favor of reg:squarederror.\n",
      " 69%|██████▉   | 69/100 [01:44<01:20,  2.60s/it, best loss: 15077.716761201484]"
     ]
    },
    {
     "name": "stderr",
     "output_type": "stream",
     "text": [
      "/home/dylanpoh/anaconda3/envs/kagglehouse/lib/python3.7/site-packages/xgboost/core.py:587: FutureWarning: Series.base is deprecated and will be removed in a future version\n",
      "  if getattr(data, 'base', None) is not None and \\\n",
      "\n"
     ]
    },
    {
     "name": "stdout",
     "output_type": "stream",
     "text": [
      "SCORE:                                                                         \n",
      "15398.747761486871                                                             \n",
      "{'colsample_bytree': 0.55, 'gamma': 0.75, 'learning_rate': 0.05, 'max_depth': 5, 'min_child_weight': 9.0, 'n_estimators': 5200, 'subsample': 0.8943452546438495}\n",
      "[23:28:55] WARNING: src/objective/regression_obj.cu:152: reg:linear is now deprecated in favor of reg:squarederror.\n",
      " 70%|███████   | 70/100 [01:45<01:09,  2.33s/it, best loss: 15077.716761201484]"
     ]
    },
    {
     "name": "stderr",
     "output_type": "stream",
     "text": [
      "/home/dylanpoh/anaconda3/envs/kagglehouse/lib/python3.7/site-packages/xgboost/core.py:587: FutureWarning: Series.base is deprecated and will be removed in a future version\n",
      "  if getattr(data, 'base', None) is not None and \\\n",
      "\n"
     ]
    },
    {
     "name": "stdout",
     "output_type": "stream",
     "text": [
      "SCORE:                                                                         \n",
      "15612.798132491438                                                             \n",
      "{'colsample_bytree': 0.5, 'gamma': 0.55, 'learning_rate': 0.07500000000000001, 'max_depth': 12, 'min_child_weight': 3.0, 'n_estimators': 6600, 'subsample': 0.871725950646313}\n",
      "[23:28:57] WARNING: src/objective/regression_obj.cu:152: reg:linear is now deprecated in favor of reg:squarederror.\n",
      " 71%|███████   | 71/100 [01:47<01:00,  2.07s/it, best loss: 15077.716761201484]"
     ]
    },
    {
     "name": "stderr",
     "output_type": "stream",
     "text": [
      "/home/dylanpoh/anaconda3/envs/kagglehouse/lib/python3.7/site-packages/xgboost/core.py:587: FutureWarning: Series.base is deprecated and will be removed in a future version\n",
      "  if getattr(data, 'base', None) is not None and \\\n",
      "\n"
     ]
    },
    {
     "name": "stdout",
     "output_type": "stream",
     "text": [
      "SCORE:                                                                         \n",
      "15326.604594748858                                                             \n",
      "{'colsample_bytree': 0.6000000000000001, 'gamma': 0.7000000000000001, 'learning_rate': 0.17500000000000002, 'max_depth': 8, 'min_child_weight': 4.0, 'n_estimators': 1900, 'subsample': 0.8365470022727652}\n",
      "[23:28:59] WARNING: src/objective/regression_obj.cu:152: reg:linear is now deprecated in favor of reg:squarederror.\n",
      " 72%|███████▏  | 72/100 [01:49<00:55,  1.99s/it, best loss: 15077.716761201484]"
     ]
    },
    {
     "name": "stderr",
     "output_type": "stream",
     "text": [
      "/home/dylanpoh/anaconda3/envs/kagglehouse/lib/python3.7/site-packages/xgboost/core.py:587: FutureWarning: Series.base is deprecated and will be removed in a future version\n",
      "  if getattr(data, 'base', None) is not None and \\\n",
      "\n"
     ]
    },
    {
     "name": "stdout",
     "output_type": "stream",
     "text": [
      "SCORE:                                                                         \n",
      "16271.32838363299                                                              \n",
      "{'colsample_bytree': 0.65, 'gamma': 0.9, 'learning_rate': 0.1, 'max_depth': 25, 'min_child_weight': 5.0, 'n_estimators': 7800, 'subsample': 0.9293839728639034}\n",
      "[23:28:59] WARNING: src/objective/regression_obj.cu:152: reg:linear is now deprecated in favor of reg:squarederror.\n",
      " 73%|███████▎  | 73/100 [01:50<00:45,  1.67s/it, best loss: 15077.716761201484]"
     ]
    },
    {
     "name": "stderr",
     "output_type": "stream",
     "text": [
      "/home/dylanpoh/anaconda3/envs/kagglehouse/lib/python3.7/site-packages/xgboost/core.py:587: FutureWarning: Series.base is deprecated and will be removed in a future version\n",
      "  if getattr(data, 'base', None) is not None and \\\n",
      "\n"
     ]
    },
    {
     "name": "stdout",
     "output_type": "stream",
     "text": [
      "SCORE:                                                                         \n",
      "15607.432808932648                                                             \n",
      "{'colsample_bytree': 0.7000000000000001, 'gamma': 0.65, 'learning_rate': 0.125, 'max_depth': 13, 'min_child_weight': 2.0, 'n_estimators': 4300, 'subsample': 0.9074177511714394}\n",
      "[23:29:03] WARNING: src/objective/regression_obj.cu:152: reg:linear is now deprecated in favor of reg:squarederror.\n",
      " 74%|███████▍  | 74/100 [01:53<00:54,  2.11s/it, best loss: 15077.716761201484]"
     ]
    },
    {
     "name": "stderr",
     "output_type": "stream",
     "text": [
      "/home/dylanpoh/anaconda3/envs/kagglehouse/lib/python3.7/site-packages/xgboost/core.py:587: FutureWarning: Series.base is deprecated and will be removed in a future version\n",
      "  if getattr(data, 'base', None) is not None and \\\n",
      "\n"
     ]
    },
    {
     "name": "stdout",
     "output_type": "stream",
     "text": [
      "SCORE:                                                                         \n",
      "16551.284246575342                                                             \n",
      "{'colsample_bytree': 0.8500000000000001, 'gamma': 0.5, 'learning_rate': 0.025, 'max_depth': 22, 'min_child_weight': 7.0, 'n_estimators': 5600, 'subsample': 0.8502483369669133}\n",
      "[23:29:04] WARNING: src/objective/regression_obj.cu:152: reg:linear is now deprecated in favor of reg:squarederror.\n",
      " 75%|███████▌  | 75/100 [01:54<00:44,  1.77s/it, best loss: 15077.716761201484]"
     ]
    },
    {
     "name": "stderr",
     "output_type": "stream",
     "text": [
      "/home/dylanpoh/anaconda3/envs/kagglehouse/lib/python3.7/site-packages/xgboost/core.py:587: FutureWarning: Series.base is deprecated and will be removed in a future version\n",
      "  if getattr(data, 'base', None) is not None and \\\n",
      "\n"
     ]
    },
    {
     "name": "stdout",
     "output_type": "stream",
     "text": [
      "SCORE:                                                                         \n",
      "15570.066611372717                                                             \n",
      "{'colsample_bytree': 0.55, 'gamma': 0.8500000000000001, 'learning_rate': 0.05, 'max_depth': 24, 'min_child_weight': 11.0, 'n_estimators': 9400, 'subsample': 0.8780391928455158}\n",
      "[23:29:10] WARNING: src/objective/regression_obj.cu:152: reg:linear is now deprecated in favor of reg:squarederror.\n",
      " 76%|███████▌  | 76/100 [02:00<01:13,  3.05s/it, best loss: 15077.716761201484]"
     ]
    },
    {
     "name": "stderr",
     "output_type": "stream",
     "text": [
      "/home/dylanpoh/anaconda3/envs/kagglehouse/lib/python3.7/site-packages/xgboost/core.py:587: FutureWarning: Series.base is deprecated and will be removed in a future version\n",
      "  if getattr(data, 'base', None) is not None and \\\n",
      "\n"
     ]
    },
    {
     "name": "stdout",
     "output_type": "stream",
     "text": [
      "SCORE:                                                                         \n",
      "15222.649793093608                                                             \n",
      "{'colsample_bytree': 0.6000000000000001, 'gamma': 0.9500000000000001, 'learning_rate': 0.15000000000000002, 'max_depth': 28, 'min_child_weight': 6.0, 'n_estimators': 2500, 'subsample': 0.8123745522461867}\n",
      "[23:29:13] WARNING: src/objective/regression_obj.cu:152: reg:linear is now deprecated in favor of reg:squarederror.\n",
      " 77%|███████▋  | 77/100 [02:03<01:09,  3.03s/it, best loss: 15077.716761201484]"
     ]
    },
    {
     "name": "stderr",
     "output_type": "stream",
     "text": [
      "/home/dylanpoh/anaconda3/envs/kagglehouse/lib/python3.7/site-packages/xgboost/core.py:587: FutureWarning: Series.base is deprecated and will be removed in a future version\n",
      "  if getattr(data, 'base', None) is not None and \\\n",
      "\n"
     ]
    },
    {
     "name": "stdout",
     "output_type": "stream",
     "text": [
      "SCORE:                                                                         \n",
      "16166.01916559646                                                              \n",
      "{'colsample_bytree': 0.75, 'gamma': 0.7000000000000001, 'learning_rate': 0.30000000000000004, 'max_depth': 5, 'min_child_weight': 19.0, 'n_estimators': 3700, 'subsample': 0.8002702706941379}\n",
      "[23:29:14] WARNING: src/objective/regression_obj.cu:152: reg:linear is now deprecated in favor of reg:squarederror.\n",
      " 78%|███████▊  | 78/100 [02:04<00:54,  2.49s/it, best loss: 15077.716761201484]"
     ]
    },
    {
     "name": "stderr",
     "output_type": "stream",
     "text": [
      "/home/dylanpoh/anaconda3/envs/kagglehouse/lib/python3.7/site-packages/xgboost/core.py:587: FutureWarning: Series.base is deprecated and will be removed in a future version\n",
      "  if getattr(data, 'base', None) is not None and \\\n",
      "\n"
     ]
    },
    {
     "name": "stdout",
     "output_type": "stream",
     "text": [
      "SCORE:                                                                         \n",
      "16587.87854951484                                                              \n",
      "{'colsample_bytree': 0.5, 'gamma': 0.75, 'learning_rate': 0.2, 'max_depth': 26, 'min_child_weight': 8.0, 'n_estimators': 8500, 'subsample': 0.9149153671578035}\n",
      "[23:29:14] WARNING: src/objective/regression_obj.cu:152: reg:linear is now deprecated in favor of reg:squarederror.\n",
      " 79%|███████▉  | 79/100 [02:04<00:38,  1.84s/it, best loss: 15077.716761201484]"
     ]
    },
    {
     "name": "stderr",
     "output_type": "stream",
     "text": [
      "/home/dylanpoh/anaconda3/envs/kagglehouse/lib/python3.7/site-packages/xgboost/core.py:587: FutureWarning: Series.base is deprecated and will be removed in a future version\n",
      "  if getattr(data, 'base', None) is not None and \\\n",
      "\n"
     ]
    },
    {
     "name": "stdout",
     "output_type": "stream",
     "text": [
      "SCORE:                                                                         \n",
      "17706.919877283104                                                             \n",
      "{'colsample_bytree': 0.55, 'gamma': 0.8, 'learning_rate': 0.025, 'max_depth': 20, 'min_child_weight': 1.0, 'n_estimators': 7000, 'subsample': 0.821973546785376}\n",
      "[23:29:15] WARNING: src/objective/regression_obj.cu:152: reg:linear is now deprecated in favor of reg:squarederror.\n",
      " 80%|████████  | 80/100 [02:05<00:31,  1.55s/it, best loss: 15077.716761201484]"
     ]
    },
    {
     "name": "stderr",
     "output_type": "stream",
     "text": [
      "/home/dylanpoh/anaconda3/envs/kagglehouse/lib/python3.7/site-packages/xgboost/core.py:587: FutureWarning: Series.base is deprecated and will be removed in a future version\n",
      "  if getattr(data, 'base', None) is not None and \\\n",
      "\n"
     ]
    },
    {
     "name": "stdout",
     "output_type": "stream",
     "text": [
      "SCORE:                                                                         \n",
      "15078.540881849314                                                             \n",
      "{'colsample_bytree': 0.55, 'gamma': 0.8, 'learning_rate': 0.07500000000000001, 'max_depth': 20, 'min_child_weight': 3.0, 'n_estimators': 8800, 'subsample': 0.8197187599333827}\n",
      "[23:29:20] WARNING: src/objective/regression_obj.cu:152: reg:linear is now deprecated in favor of reg:squarederror.\n",
      " 81%|████████  | 81/100 [02:11<00:51,  2.70s/it, best loss: 15077.716761201484]"
     ]
    },
    {
     "name": "stderr",
     "output_type": "stream",
     "text": [
      "/home/dylanpoh/anaconda3/envs/kagglehouse/lib/python3.7/site-packages/xgboost/core.py:587: FutureWarning: Series.base is deprecated and will be removed in a future version\n",
      "  if getattr(data, 'base', None) is not None and \\\n",
      "\n"
     ]
    },
    {
     "name": "stdout",
     "output_type": "stream",
     "text": [
      "SCORE:                                                                         \n",
      "15824.486354880137                                                             \n",
      "{'colsample_bytree': 0.5, 'gamma': 0.75, 'learning_rate': 0.125, 'max_depth': 10, 'min_child_weight': 14.0, 'n_estimators': 7000, 'subsample': 0.8425335192396924}\n",
      "[23:29:22] WARNING: src/objective/regression_obj.cu:152: reg:linear is now deprecated in favor of reg:squarederror.\n",
      " 82%|████████▏ | 82/100 [02:12<00:43,  2.40s/it, best loss: 15077.716761201484]"
     ]
    },
    {
     "name": "stderr",
     "output_type": "stream",
     "text": [
      "/home/dylanpoh/anaconda3/envs/kagglehouse/lib/python3.7/site-packages/xgboost/core.py:587: FutureWarning: Series.base is deprecated and will be removed in a future version\n",
      "  if getattr(data, 'base', None) is not None and \\\n",
      "\n"
     ]
    },
    {
     "name": "stdout",
     "output_type": "stream",
     "text": [
      "SCORE:                                                                         \n",
      "15822.997984446347                                                             \n",
      "{'colsample_bytree': 0.5, 'gamma': 0.8, 'learning_rate': 0.275, 'max_depth': 20, 'min_child_weight': 2.0, 'n_estimators': 1400, 'subsample': 0.8326567677168741}\n",
      "[23:29:23] WARNING: src/objective/regression_obj.cu:152: reg:linear is now deprecated in favor of reg:squarederror.\n",
      " 83%|████████▎ | 83/100 [02:13<00:31,  1.87s/it, best loss: 15077.716761201484]"
     ]
    },
    {
     "name": "stderr",
     "output_type": "stream",
     "text": [
      "/home/dylanpoh/anaconda3/envs/kagglehouse/lib/python3.7/site-packages/xgboost/core.py:587: FutureWarning: Series.base is deprecated and will be removed in a future version\n",
      "  if getattr(data, 'base', None) is not None and \\\n",
      "\n"
     ]
    },
    {
     "name": "stdout",
     "output_type": "stream",
     "text": [
      "SCORE:                                                                         \n",
      "18905.87668557363                                                              \n",
      "{'colsample_bytree': 0.55, 'gamma': 0.8500000000000001, 'learning_rate': 0.1, 'max_depth': 20, 'min_child_weight': 1.0, 'n_estimators': 5800, 'subsample': 0.8027532789716323}\n",
      "[23:29:23] WARNING: src/objective/regression_obj.cu:152: reg:linear is now deprecated in favor of reg:squarederror.\n",
      " 84%|████████▍ | 84/100 [02:13<00:23,  1.48s/it, best loss: 15077.716761201484]"
     ]
    },
    {
     "name": "stderr",
     "output_type": "stream",
     "text": [
      "/home/dylanpoh/anaconda3/envs/kagglehouse/lib/python3.7/site-packages/xgboost/core.py:587: FutureWarning: Series.base is deprecated and will be removed in a future version\n",
      "  if getattr(data, 'base', None) is not None and \\\n",
      "\n"
     ]
    },
    {
     "name": "stdout",
     "output_type": "stream",
     "text": [
      "SCORE:                                                                         \n",
      "15706.88441780822                                                              \n",
      "{'colsample_bytree': 0.5, 'gamma': 0.7000000000000001, 'learning_rate': 0.325, 'max_depth': 16, 'min_child_weight': 4.0, 'n_estimators': 7700, 'subsample': 0.8147064206392527}\n",
      "[23:29:26] WARNING: src/objective/regression_obj.cu:152: reg:linear is now deprecated in favor of reg:squarederror.\n",
      " 85%|████████▌ | 85/100 [02:16<00:25,  1.70s/it, best loss: 15077.716761201484]"
     ]
    },
    {
     "name": "stderr",
     "output_type": "stream",
     "text": [
      "/home/dylanpoh/anaconda3/envs/kagglehouse/lib/python3.7/site-packages/xgboost/core.py:587: FutureWarning: Series.base is deprecated and will be removed in a future version\n",
      "  if getattr(data, 'base', None) is not None and \\\n",
      "\n"
     ]
    },
    {
     "name": "stdout",
     "output_type": "stream",
     "text": [
      "SCORE:                                                                         \n",
      "18720.757767908104                                                             \n",
      "{'colsample_bytree': 0.55, 'gamma': 0.75, 'learning_rate': 0.25, 'max_depth': 6, 'min_child_weight': 9.0, 'n_estimators': 8200, 'subsample': 0.828033668430097}\n",
      "[23:29:26] WARNING: src/objective/regression_obj.cu:152: reg:linear is now deprecated in favor of reg:squarederror.\n",
      " 86%|████████▌ | 86/100 [02:16<00:18,  1.31s/it, best loss: 15077.716761201484]"
     ]
    },
    {
     "name": "stderr",
     "output_type": "stream",
     "text": [
      "/home/dylanpoh/anaconda3/envs/kagglehouse/lib/python3.7/site-packages/xgboost/core.py:587: FutureWarning: Series.base is deprecated and will be removed in a future version\n",
      "  if getattr(data, 'base', None) is not None and \\\n",
      "\n"
     ]
    },
    {
     "name": "stdout",
     "output_type": "stream",
     "text": [
      "SCORE:                                                                         \n",
      "16780.10963363299                                                              \n",
      "{'colsample_bytree': 0.6000000000000001, 'gamma': 0.8, 'learning_rate': 0.025, 'max_depth': 11, 'min_child_weight': 5.0, 'n_estimators': 2600, 'subsample': 0.8207251635615156}\n",
      "[23:29:26] WARNING: src/objective/regression_obj.cu:152: reg:linear is now deprecated in favor of reg:squarederror.\n",
      " 87%|████████▋ | 87/100 [02:17<00:13,  1.05s/it, best loss: 15077.716761201484]"
     ]
    },
    {
     "name": "stderr",
     "output_type": "stream",
     "text": [
      "/home/dylanpoh/anaconda3/envs/kagglehouse/lib/python3.7/site-packages/xgboost/core.py:587: FutureWarning: Series.base is deprecated and will be removed in a future version\n",
      "  if getattr(data, 'base', None) is not None and \\\n",
      "\n"
     ]
    },
    {
     "name": "stdout",
     "output_type": "stream",
     "text": [
      "SCORE:                                                                         \n",
      "15051.155928938357                                                             \n",
      "{'colsample_bytree': 0.6000000000000001, 'gamma': 0.8, 'learning_rate': 0.07500000000000001, 'max_depth': 17, 'min_child_weight': 6.0, 'n_estimators': 2600, 'subsample': 0.8590930883766353}\n",
      "[23:29:29] WARNING: src/objective/regression_obj.cu:152: reg:linear is now deprecated in favor of reg:squarederror.\n",
      " 88%|████████▊ | 88/100 [02:20<00:20,  1.67s/it, best loss: 15051.155928938357]"
     ]
    },
    {
     "name": "stderr",
     "output_type": "stream",
     "text": [
      "/home/dylanpoh/anaconda3/envs/kagglehouse/lib/python3.7/site-packages/xgboost/core.py:587: FutureWarning: Series.base is deprecated and will be removed in a future version\n",
      "  if getattr(data, 'base', None) is not None and \\\n",
      "\n"
     ]
    },
    {
     "name": "stdout",
     "output_type": "stream",
     "text": [
      "SCORE:                                                                         \n",
      "15953.139091038813                                                             \n",
      "{'colsample_bytree': 0.65, 'gamma': 0.8500000000000001, 'learning_rate': 0.47500000000000003, 'max_depth': 21, 'min_child_weight': 7.0, 'n_estimators': 6700, 'subsample': 0.8665659735967068}\n",
      "[23:29:32] WARNING: src/objective/regression_obj.cu:152: reg:linear is now deprecated in favor of reg:squarederror.\n",
      " 89%|████████▉ | 89/100 [02:22<00:19,  1.80s/it, best loss: 15051.155928938357]"
     ]
    },
    {
     "name": "stderr",
     "output_type": "stream",
     "text": [
      "/home/dylanpoh/anaconda3/envs/kagglehouse/lib/python3.7/site-packages/xgboost/core.py:587: FutureWarning: Series.base is deprecated and will be removed in a future version\n",
      "  if getattr(data, 'base', None) is not None and \\\n",
      "\n"
     ]
    },
    {
     "name": "stdout",
     "output_type": "stream",
     "text": [
      "SCORE:                                                                         \n",
      "20022.59480236872                                                              \n",
      "{'colsample_bytree': 0.6000000000000001, 'gamma': 0.9, 'learning_rate': 0.225, 'max_depth': 11, 'min_child_weight': 8.0, 'n_estimators': 2600, 'subsample': 0.8059842193622219}\n",
      "[23:29:32] WARNING: src/objective/regression_obj.cu:152: reg:linear is now deprecated in favor of reg:squarederror.\n",
      " 90%|█████████ | 90/100 [02:22<00:14,  1.43s/it, best loss: 15051.155928938357]"
     ]
    },
    {
     "name": "stderr",
     "output_type": "stream",
     "text": [
      "/home/dylanpoh/anaconda3/envs/kagglehouse/lib/python3.7/site-packages/xgboost/core.py:587: FutureWarning: Series.base is deprecated and will be removed in a future version\n",
      "  if getattr(data, 'base', None) is not None and \\\n",
      "\n"
     ]
    },
    {
     "name": "stdout",
     "output_type": "stream",
     "text": [
      "SCORE:                                                                         \n",
      "16313.153262343036                                                             \n",
      "{'colsample_bytree': 0.7000000000000001, 'gamma': 0.8, 'learning_rate': 0.05, 'max_depth': 11, 'min_child_weight': 5.0, 'n_estimators': 7000, 'subsample': 0.821633299873791}\n",
      "[23:29:33] WARNING: src/objective/regression_obj.cu:152: reg:linear is now deprecated in favor of reg:squarederror.\n",
      " 91%|█████████ | 91/100 [02:23<00:10,  1.22s/it, best loss: 15051.155928938357]"
     ]
    },
    {
     "name": "stderr",
     "output_type": "stream",
     "text": [
      "/home/dylanpoh/anaconda3/envs/kagglehouse/lib/python3.7/site-packages/xgboost/core.py:587: FutureWarning: Series.base is deprecated and will be removed in a future version\n",
      "  if getattr(data, 'base', None) is not None and \\\n",
      "\n"
     ]
    },
    {
     "name": "stdout",
     "output_type": "stream",
     "text": [
      "SCORE:                                                                         \n",
      "15675.899436358448                                                             \n",
      "{'colsample_bytree': 0.65, 'gamma': 0.8500000000000001, 'learning_rate': 0.15000000000000002, 'max_depth': 11, 'min_child_weight': 9.0, 'n_estimators': 7200, 'subsample': 0.8566811202263431}\n",
      "[23:29:36] WARNING: src/objective/regression_obj.cu:152: reg:linear is now deprecated in favor of reg:squarederror.\n",
      " 92%|█████████▏| 92/100 [02:26<00:13,  1.69s/it, best loss: 15051.155928938357]"
     ]
    },
    {
     "name": "stderr",
     "output_type": "stream",
     "text": [
      "/home/dylanpoh/anaconda3/envs/kagglehouse/lib/python3.7/site-packages/xgboost/core.py:587: FutureWarning: Series.base is deprecated and will be removed in a future version\n",
      "  if getattr(data, 'base', None) is not None and \\\n",
      "\n"
     ]
    },
    {
     "name": "stdout",
     "output_type": "stream",
     "text": [
      "SCORE:                                                                         \n",
      "16198.679054295091                                                             \n",
      "{'colsample_bytree': 0.55, 'gamma': 0.7000000000000001, 'learning_rate': 0.125, 'max_depth': 29, 'min_child_weight': 10.0, 'n_estimators': 7400, 'subsample': 0.8483901523633783}\n",
      "[23:29:36] WARNING: src/objective/regression_obj.cu:152: reg:linear is now deprecated in favor of reg:squarederror.\n",
      " 93%|█████████▎| 93/100 [02:26<00:09,  1.37s/it, best loss: 15051.155928938357]"
     ]
    },
    {
     "name": "stderr",
     "output_type": "stream",
     "text": [
      "/home/dylanpoh/anaconda3/envs/kagglehouse/lib/python3.7/site-packages/xgboost/core.py:587: FutureWarning: Series.base is deprecated and will be removed in a future version\n",
      "  if getattr(data, 'base', None) is not None and \\\n",
      "\n"
     ]
    },
    {
     "name": "stdout",
     "output_type": "stream",
     "text": [
      "SCORE:                                                                         \n",
      "15586.312045162671                                                             \n",
      "{'colsample_bytree': 0.6000000000000001, 'gamma': 0.8, 'learning_rate': 0.025, 'max_depth': 27, 'min_child_weight': 5.0, 'n_estimators': 4500, 'subsample': 0.8430136794230647}\n",
      "[23:29:37] WARNING: src/objective/regression_obj.cu:152: reg:linear is now deprecated in favor of reg:squarederror.\n",
      " 94%|█████████▍| 94/100 [02:28<00:07,  1.30s/it, best loss: 15051.155928938357]"
     ]
    },
    {
     "name": "stderr",
     "output_type": "stream",
     "text": [
      "/home/dylanpoh/anaconda3/envs/kagglehouse/lib/python3.7/site-packages/xgboost/core.py:587: FutureWarning: Series.base is deprecated and will be removed in a future version\n",
      "  if getattr(data, 'base', None) is not None and \\\n",
      "\n"
     ]
    },
    {
     "name": "stdout",
     "output_type": "stream",
     "text": [
      "SCORE:                                                                         \n",
      "14961.378210616438                                                             \n",
      "{'colsample_bytree': 0.6000000000000001, 'gamma': 0.8500000000000001, 'learning_rate': 0.35000000000000003, 'max_depth': 9, 'min_child_weight': 11.0, 'n_estimators': 4500, 'subsample': 0.8851179301774561}\n",
      "[23:29:46] WARNING: src/objective/regression_obj.cu:152: reg:linear is now deprecated in favor of reg:squarederror.\n",
      " 95%|█████████▌| 95/100 [02:37<00:18,  3.61s/it, best loss: 14961.378210616438]"
     ]
    },
    {
     "name": "stderr",
     "output_type": "stream",
     "text": [
      "/home/dylanpoh/anaconda3/envs/kagglehouse/lib/python3.7/site-packages/xgboost/core.py:587: FutureWarning: Series.base is deprecated and will be removed in a future version\n",
      "  if getattr(data, 'base', None) is not None and \\\n",
      "\n"
     ]
    },
    {
     "name": "stdout",
     "output_type": "stream",
     "text": [
      "SCORE:                                                                         \n",
      "17877.46598530251                                                              \n",
      "{'colsample_bytree': 0.75, 'gamma': 0.9, 'learning_rate': 0.375, 'max_depth': 27, 'min_child_weight': 7.0, 'n_estimators': 6500, 'subsample': 0.8388845349025376}\n",
      "[23:29:47] WARNING: src/objective/regression_obj.cu:152: reg:linear is now deprecated in favor of reg:squarederror.\n",
      " 96%|█████████▌| 96/100 [02:37<00:10,  2.63s/it, best loss: 14961.378210616438]"
     ]
    },
    {
     "name": "stderr",
     "output_type": "stream",
     "text": [
      "/home/dylanpoh/anaconda3/envs/kagglehouse/lib/python3.7/site-packages/xgboost/core.py:587: FutureWarning: Series.base is deprecated and will be removed in a future version\n",
      "  if getattr(data, 'base', None) is not None and \\\n",
      "\n"
     ]
    },
    {
     "name": "stdout",
     "output_type": "stream",
     "text": [
      "SCORE:                                                                         \n",
      "17884.022608090752                                                             \n",
      "{'colsample_bytree': 0.65, 'gamma': 0.65, 'learning_rate': 0.17500000000000002, 'max_depth': 27, 'min_child_weight': 6.0, 'n_estimators': 7600, 'subsample': 0.8716153957967713}\n",
      "[23:29:48] WARNING: src/objective/regression_obj.cu:152: reg:linear is now deprecated in favor of reg:squarederror.\n",
      " 97%|█████████▋| 97/100 [02:38<00:06,  2.10s/it, best loss: 14961.378210616438]"
     ]
    },
    {
     "name": "stderr",
     "output_type": "stream",
     "text": [
      "/home/dylanpoh/anaconda3/envs/kagglehouse/lib/python3.7/site-packages/xgboost/core.py:587: FutureWarning: Series.base is deprecated and will be removed in a future version\n",
      "  if getattr(data, 'base', None) is not None and \\\n",
      "\n"
     ]
    },
    {
     "name": "stdout",
     "output_type": "stream",
     "text": [
      "SCORE:                                                                         \n",
      "16289.296277468608                                                             \n",
      "{'colsample_bytree': 0.7000000000000001, 'gamma': 0.8, 'learning_rate': 0.2, 'max_depth': 27, 'min_child_weight': 10.0, 'n_estimators': 5400, 'subsample': 0.8640705141902739}\n",
      "[23:29:49] WARNING: src/objective/regression_obj.cu:152: reg:linear is now deprecated in favor of reg:squarederror.\n",
      " 98%|█████████▊| 98/100 [02:39<00:03,  1.87s/it, best loss: 14961.378210616438]"
     ]
    },
    {
     "name": "stderr",
     "output_type": "stream",
     "text": [
      "/home/dylanpoh/anaconda3/envs/kagglehouse/lib/python3.7/site-packages/xgboost/core.py:587: FutureWarning: Series.base is deprecated and will be removed in a future version\n",
      "  if getattr(data, 'base', None) is not None and \\\n",
      "\n"
     ]
    },
    {
     "name": "stdout",
     "output_type": "stream",
     "text": [
      "SCORE:                                                                         \n",
      "16446.77877069064                                                              \n",
      "{'colsample_bytree': 0.9, 'gamma': 0.75, 'learning_rate': 0.025, 'max_depth': 19, 'min_child_weight': 5.0, 'n_estimators': 7500, 'subsample': 0.8426706136136468}\n",
      "[23:29:50] WARNING: src/objective/regression_obj.cu:152: reg:linear is now deprecated in favor of reg:squarederror.\n",
      " 99%|█████████▉| 99/100 [02:40<00:01,  1.59s/it, best loss: 14961.378210616438]"
     ]
    },
    {
     "name": "stderr",
     "output_type": "stream",
     "text": [
      "/home/dylanpoh/anaconda3/envs/kagglehouse/lib/python3.7/site-packages/xgboost/core.py:587: FutureWarning: Series.base is deprecated and will be removed in a future version\n",
      "  if getattr(data, 'base', None) is not None and \\\n",
      "\n"
     ]
    },
    {
     "name": "stdout",
     "output_type": "stream",
     "text": [
      "SCORE:                                                                         \n",
      "15518.149828767124                                                             \n",
      "100%|██████████| 100/100 [02:48<00:00,  1.69s/it, best loss: 14961.378210616438]\n",
      "Time taken to optimize the model: 2.814726543426514 min.\n",
      "\n",
      "{'colsample_bytree': 0.6000000000000001, 'gamma': 0.8, 'learning_rate': 0.025, 'max_depth': 22, 'min_child': 5.0, 'n_estimators': 35, 'subsample': 0.8430136794230647}\n"
     ]
    }
   ],
   "source": [
    "def objective(space):\n",
    "    print(space)\n",
    "    clf = XGBRegressor(n_estimators = space['n_estimators'],\n",
    "                           max_depth = space['max_depth'],\n",
    "                           min_child_weight = space['min_child_weight'],\n",
    "                           subsample = space['subsample'],\n",
    "                           learning_rate = space['learning_rate'],\n",
    "                           gamma = space['gamma'],\n",
    "                           colsample_bytree = space['colsample_bytree'],\n",
    "                           objective='reg:linear',\n",
    "                           random_state=42\n",
    "                      )\n",
    "\n",
    "    eval_set  = [(X_valid, y_valid)]\n",
    "\n",
    "    clf.fit(X_train, y_train,\n",
    "            eval_set=eval_set, eval_metric=\"mae\",\n",
    "            early_stopping_rounds=10,verbose=False)\n",
    "\n",
    "    pred = clf.predict(X_valid)\n",
    "    mae_scr = mean_absolute_error(y_valid, pred)\n",
    "    print (\"SCORE:\", mae_scr)\n",
    "\n",
    "    return {'loss':mae_scr, 'status': STATUS_OK }\n",
    "\n",
    "space ={'max_depth': hp.choice('max_depth', np.arange(5, 30, dtype=int)),\n",
    "        'min_child_weight': hp.quniform ('min_child', 1, 20, 1),\n",
    "        'subsample': hp.uniform ('subsample', 0.8, 1),\n",
    "        'n_estimators' : hp.choice('n_estimators', np.arange(1000, 10000, 100, dtype=int)),\n",
    "        'learning_rate' : hp.quniform('learning_rate', 0.025, 0.5, 0.025),\n",
    "        'gamma' : hp.quniform('gamma', 0.5, 1, 0.05),\n",
    "        'colsample_bytree' : hp.quniform('colsample_bytree', 0.5, 1, 0.05)\n",
    "    }\n",
    "\n",
    "start_time = time.time()\n",
    "\n",
    "trials = Trials()\n",
    "best = fmin(fn=objective,\n",
    "            space=space,\n",
    "            algo=tpe.suggest,\n",
    "            max_evals=100,\n",
    "            trials=trials)\n",
    "\n",
    "elapsed_time = (time.time() - start_time)/60\n",
    "print('Time taken to optimize the model: {} min.\\n'.format(elapsed_time))\n",
    "\n",
    "print (best)"
   ]
  },
  {
   "cell_type": "code",
   "execution_count": 23,
   "metadata": {},
   "outputs": [
    {
     "name": "stdout",
     "output_type": "stream",
     "text": [
      "{'colsample_bytree': 0.6000000000000001, 'gamma': 0.8, 'learning_rate': 0.025, 'max_depth': 22, 'min_child': 5.0, 'n_estimators': 35, 'subsample': 0.8430136794230647}\n"
     ]
    }
   ],
   "source": [
    "print(best)"
   ]
  },
  {
   "cell_type": "markdown",
   "metadata": {},
   "source": [
    "**Take Note: The best from fmin always returns the index for parameters defined using hp.choice.**\n",
    "\n",
    "See this issue which confirms this:\n",
    "\n",
    "https://github.com/hyperopt/hyperopt/issues/216\n",
    "To get the original values from best, use space_eval() function like this:"
   ]
  },
  {
   "cell_type": "code",
   "execution_count": 24,
   "metadata": {},
   "outputs": [
    {
     "data": {
      "text/plain": [
       "{'colsample_bytree': 0.6000000000000001,\n",
       " 'gamma': 0.8,\n",
       " 'learning_rate': 0.025,\n",
       " 'max_depth': 27,\n",
       " 'min_child_weight': 5.0,\n",
       " 'n_estimators': 4500,\n",
       " 'subsample': 0.8430136794230647}"
      ]
     },
     "execution_count": 24,
     "metadata": {},
     "output_type": "execute_result"
    }
   ],
   "source": [
    "from hyperopt import space_eval\n",
    "best_params = space_eval(space, best)\n",
    "best_params"
   ]
  },
  {
   "cell_type": "code",
   "execution_count": 25,
   "metadata": {},
   "outputs": [
    {
     "name": "stdout",
     "output_type": "stream",
     "text": [
      "[23:29:58] WARNING: src/objective/regression_obj.cu:152: reg:linear is now deprecated in favor of reg:squarederror.\n"
     ]
    },
    {
     "name": "stderr",
     "output_type": "stream",
     "text": [
      "/home/dylanpoh/anaconda3/envs/kagglehouse/lib/python3.7/site-packages/xgboost/core.py:587: FutureWarning: Series.base is deprecated and will be removed in a future version\n",
      "  if getattr(data, 'base', None) is not None and \\\n"
     ]
    },
    {
     "data": {
      "text/plain": [
       "XGBRegressor(base_score=0.5, booster='gbtree', colsample_bylevel=1,\n",
       "             colsample_bynode=1, colsample_bytree=0.6000000000000001, gamma=0.8,\n",
       "             importance_type='gain', learning_rate=0.025, max_delta_step=0,\n",
       "             max_depth=27, min_child_weight=5.0, missing=None,\n",
       "             n_estimators=4500, n_jobs=1, nthread=None, objective='reg:linear',\n",
       "             random_state=0, reg_alpha=0, reg_lambda=1, scale_pos_weight=1,\n",
       "             seed=None, silent=None, subsample=0.8430136794230647, verbosity=1)"
      ]
     },
     "execution_count": 25,
     "metadata": {},
     "output_type": "execute_result"
    }
   ],
   "source": [
    "hyperopt_bestmodel = XGBRegressor( **best_params)\n",
    "hyperopt_bestmodel.fit(X_train,y_train)"
   ]
  },
  {
   "cell_type": "code",
   "execution_count": 26,
   "metadata": {},
   "outputs": [
    {
     "name": "stdout",
     "output_type": "stream",
     "text": [
      "Mean Absolute Error: 14902.082860659246\n",
      "RMSE: 23269.87106022359\n"
     ]
    }
   ],
   "source": [
    "# Calculate MAE\n",
    "predict_hyperopt = hyperopt_bestmodel.predict(X_valid)\n",
    "mae_3 = mean_absolute_error(predict_hyperopt,y_valid)\n",
    "print(\"Mean Absolute Error:\" , mae_3)\n",
    "\n",
    "#Calculate RMSE\n",
    "mse_3 = mean_squared_error(predict_hyperopt, y_valid)\n",
    "rootMeanSquaredError_3 = sqrt(mse_3)\n",
    "print(\"RMSE:\", rootMeanSquaredError_3)\n"
   ]
  },
  {
   "cell_type": "code",
   "execution_count": 33,
   "metadata": {},
   "outputs": [
    {
     "name": "stderr",
     "output_type": "stream",
     "text": [
      "/home/dylanpoh/anaconda3/envs/kagglehouse/lib/python3.7/site-packages/xgboost/core.py:587: FutureWarning: Series.base is deprecated and will be removed in a future version\n",
      "  if getattr(data, 'base', None) is not None and \\\n",
      "/home/dylanpoh/anaconda3/envs/kagglehouse/lib/python3.7/site-packages/xgboost/core.py:588: FutureWarning: Series.base is deprecated and will be removed in a future version\n",
      "  data.base is not None and isinstance(data, np.ndarray) \\\n"
     ]
    },
    {
     "name": "stdout",
     "output_type": "stream",
     "text": [
      "[23:44:16] WARNING: src/objective/regression_obj.cu:152: reg:linear is now deprecated in favor of reg:squarederror.\n"
     ]
    }
   ],
   "source": [
    "#Refit the model with full set of data\n",
    "hyperopt_bestmodel.fit(X_full,y)\n",
    "\n",
    "predict_hyperopt_full = hyperopt_bestmodel.predict(X_test)"
   ]
  },
  {
   "cell_type": "code",
   "execution_count": 34,
   "metadata": {},
   "outputs": [
    {
     "data": {
      "text/plain": [
       "(1459,)"
      ]
     },
     "execution_count": 34,
     "metadata": {},
     "output_type": "execute_result"
    }
   ],
   "source": [
    "predict_hyperopt_full.shape"
   ]
  },
  {
   "cell_type": "code",
   "execution_count": 36,
   "metadata": {},
   "outputs": [],
   "source": [
    "\n",
    "# Save predictions in format used for competition scoring\n",
    "output = pd.DataFrame({'Id': X_test.index,\n",
    "                        'SalePrice': predict_hyperopt_full})\n",
    "output.to_csv('submission.csv', index=False)"
   ]
  },
  {
   "cell_type": "code",
   "execution_count": 37,
   "metadata": {},
   "outputs": [
    {
     "data": {
      "text/plain": [
       "(1459, 2)"
      ]
     },
     "execution_count": 37,
     "metadata": {},
     "output_type": "execute_result"
    }
   ],
   "source": [
    "output.shape"
   ]
  }
 ],
 "metadata": {
  "kernelspec": {
   "display_name": "Python 3",
   "language": "python",
   "name": "python3"
  },
  "language_info": {
   "codemirror_mode": {
    "name": "ipython",
    "version": 3
   },
   "file_extension": ".py",
   "mimetype": "text/x-python",
   "name": "python",
   "nbconvert_exporter": "python",
   "pygments_lexer": "ipython3",
   "version": "3.7.3"
  }
 },
 "nbformat": 4,
 "nbformat_minor": 4
}
