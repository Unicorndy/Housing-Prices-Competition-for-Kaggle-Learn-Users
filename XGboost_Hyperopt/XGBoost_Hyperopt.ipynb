{
 "cells": [
  {
   "cell_type": "markdown",
   "metadata": {},
   "source": [
    "# XGboost with Hyperopt (Mean Absolute Error: 14876.694713184932)\n",
    "\n",
    "Data from the [Housing Prices Competition for Kaggle Learn Users](https://www.kaggle.com/c/home-data-for-ml-course). \n",
    "Some of the codes are taken from the tutorial [Intermediate Machine Learning](https://www.kaggle.com/learn/intermediate-machine-learning)"
   ]
  },
  {
   "cell_type": "markdown",
   "metadata": {},
   "source": [
    "### Reading the file"
   ]
  },
  {
   "cell_type": "code",
   "execution_count": 1,
   "metadata": {},
   "outputs": [
    {
     "name": "stdout",
     "output_type": "stream",
     "text": [
      "Python 3.7.5\n"
     ]
    }
   ],
   "source": [
    "!python --version"
   ]
  },
  {
   "cell_type": "code",
   "execution_count": 2,
   "metadata": {},
   "outputs": [],
   "source": [
    "import pandas as pd\n",
    "import numpy as np\n",
    "from sklearn.model_selection import train_test_split\n",
    "from xgboost import XGBRegressor\n",
    "from sklearn.metrics import mean_absolute_error, mean_squared_error\n",
    "from sklearn.model_selection import GridSearchCV, cross_val_score\n",
    "from hyperopt import hp, fmin, tpe, STATUS_OK, Trials\n",
    "import matplotlib.pyplot as plt\n",
    "from sklearn.pipeline import Pipeline\n",
    "import time\n",
    "from math import sqrt\n",
    "\n"
   ]
  },
  {
   "cell_type": "code",
   "execution_count": 3,
   "metadata": {},
   "outputs": [],
   "source": [
    "# Read the data\n",
    "X = pd.read_csv('train.csv', index_col='Id')\n",
    "X_test_full = pd.read_csv('test.csv', index_col='Id')"
   ]
  },
  {
   "cell_type": "code",
   "execution_count": 4,
   "metadata": {},
   "outputs": [
    {
     "name": "stdout",
     "output_type": "stream",
     "text": [
      "(1460, 80)\n",
      "(1459, 79)\n"
     ]
    }
   ],
   "source": [
    "print(X.shape)\n",
    "print(X_test_full.shape)"
   ]
  },
  {
   "cell_type": "code",
   "execution_count": 5,
   "metadata": {},
   "outputs": [
    {
     "data": {
      "text/html": [
       "<div>\n",
       "<style scoped>\n",
       "    .dataframe tbody tr th:only-of-type {\n",
       "        vertical-align: middle;\n",
       "    }\n",
       "\n",
       "    .dataframe tbody tr th {\n",
       "        vertical-align: top;\n",
       "    }\n",
       "\n",
       "    .dataframe thead th {\n",
       "        text-align: right;\n",
       "    }\n",
       "</style>\n",
       "<table border=\"1\" class=\"dataframe\">\n",
       "  <thead>\n",
       "    <tr style=\"text-align: right;\">\n",
       "      <th></th>\n",
       "      <th>MSSubClass</th>\n",
       "      <th>MSZoning</th>\n",
       "      <th>LotFrontage</th>\n",
       "      <th>LotArea</th>\n",
       "      <th>Street</th>\n",
       "      <th>Alley</th>\n",
       "      <th>LotShape</th>\n",
       "      <th>LandContour</th>\n",
       "      <th>Utilities</th>\n",
       "      <th>LotConfig</th>\n",
       "      <th>...</th>\n",
       "      <th>PoolArea</th>\n",
       "      <th>PoolQC</th>\n",
       "      <th>Fence</th>\n",
       "      <th>MiscFeature</th>\n",
       "      <th>MiscVal</th>\n",
       "      <th>MoSold</th>\n",
       "      <th>YrSold</th>\n",
       "      <th>SaleType</th>\n",
       "      <th>SaleCondition</th>\n",
       "      <th>SalePrice</th>\n",
       "    </tr>\n",
       "    <tr>\n",
       "      <th>Id</th>\n",
       "      <th></th>\n",
       "      <th></th>\n",
       "      <th></th>\n",
       "      <th></th>\n",
       "      <th></th>\n",
       "      <th></th>\n",
       "      <th></th>\n",
       "      <th></th>\n",
       "      <th></th>\n",
       "      <th></th>\n",
       "      <th></th>\n",
       "      <th></th>\n",
       "      <th></th>\n",
       "      <th></th>\n",
       "      <th></th>\n",
       "      <th></th>\n",
       "      <th></th>\n",
       "      <th></th>\n",
       "      <th></th>\n",
       "      <th></th>\n",
       "      <th></th>\n",
       "    </tr>\n",
       "  </thead>\n",
       "  <tbody>\n",
       "    <tr>\n",
       "      <th>1</th>\n",
       "      <td>60</td>\n",
       "      <td>RL</td>\n",
       "      <td>65.0</td>\n",
       "      <td>8450</td>\n",
       "      <td>Pave</td>\n",
       "      <td>NaN</td>\n",
       "      <td>Reg</td>\n",
       "      <td>Lvl</td>\n",
       "      <td>AllPub</td>\n",
       "      <td>Inside</td>\n",
       "      <td>...</td>\n",
       "      <td>0</td>\n",
       "      <td>NaN</td>\n",
       "      <td>NaN</td>\n",
       "      <td>NaN</td>\n",
       "      <td>0</td>\n",
       "      <td>2</td>\n",
       "      <td>2008</td>\n",
       "      <td>WD</td>\n",
       "      <td>Normal</td>\n",
       "      <td>208500</td>\n",
       "    </tr>\n",
       "    <tr>\n",
       "      <th>2</th>\n",
       "      <td>20</td>\n",
       "      <td>RL</td>\n",
       "      <td>80.0</td>\n",
       "      <td>9600</td>\n",
       "      <td>Pave</td>\n",
       "      <td>NaN</td>\n",
       "      <td>Reg</td>\n",
       "      <td>Lvl</td>\n",
       "      <td>AllPub</td>\n",
       "      <td>FR2</td>\n",
       "      <td>...</td>\n",
       "      <td>0</td>\n",
       "      <td>NaN</td>\n",
       "      <td>NaN</td>\n",
       "      <td>NaN</td>\n",
       "      <td>0</td>\n",
       "      <td>5</td>\n",
       "      <td>2007</td>\n",
       "      <td>WD</td>\n",
       "      <td>Normal</td>\n",
       "      <td>181500</td>\n",
       "    </tr>\n",
       "    <tr>\n",
       "      <th>3</th>\n",
       "      <td>60</td>\n",
       "      <td>RL</td>\n",
       "      <td>68.0</td>\n",
       "      <td>11250</td>\n",
       "      <td>Pave</td>\n",
       "      <td>NaN</td>\n",
       "      <td>IR1</td>\n",
       "      <td>Lvl</td>\n",
       "      <td>AllPub</td>\n",
       "      <td>Inside</td>\n",
       "      <td>...</td>\n",
       "      <td>0</td>\n",
       "      <td>NaN</td>\n",
       "      <td>NaN</td>\n",
       "      <td>NaN</td>\n",
       "      <td>0</td>\n",
       "      <td>9</td>\n",
       "      <td>2008</td>\n",
       "      <td>WD</td>\n",
       "      <td>Normal</td>\n",
       "      <td>223500</td>\n",
       "    </tr>\n",
       "    <tr>\n",
       "      <th>4</th>\n",
       "      <td>70</td>\n",
       "      <td>RL</td>\n",
       "      <td>60.0</td>\n",
       "      <td>9550</td>\n",
       "      <td>Pave</td>\n",
       "      <td>NaN</td>\n",
       "      <td>IR1</td>\n",
       "      <td>Lvl</td>\n",
       "      <td>AllPub</td>\n",
       "      <td>Corner</td>\n",
       "      <td>...</td>\n",
       "      <td>0</td>\n",
       "      <td>NaN</td>\n",
       "      <td>NaN</td>\n",
       "      <td>NaN</td>\n",
       "      <td>0</td>\n",
       "      <td>2</td>\n",
       "      <td>2006</td>\n",
       "      <td>WD</td>\n",
       "      <td>Abnorml</td>\n",
       "      <td>140000</td>\n",
       "    </tr>\n",
       "    <tr>\n",
       "      <th>5</th>\n",
       "      <td>60</td>\n",
       "      <td>RL</td>\n",
       "      <td>84.0</td>\n",
       "      <td>14260</td>\n",
       "      <td>Pave</td>\n",
       "      <td>NaN</td>\n",
       "      <td>IR1</td>\n",
       "      <td>Lvl</td>\n",
       "      <td>AllPub</td>\n",
       "      <td>FR2</td>\n",
       "      <td>...</td>\n",
       "      <td>0</td>\n",
       "      <td>NaN</td>\n",
       "      <td>NaN</td>\n",
       "      <td>NaN</td>\n",
       "      <td>0</td>\n",
       "      <td>12</td>\n",
       "      <td>2008</td>\n",
       "      <td>WD</td>\n",
       "      <td>Normal</td>\n",
       "      <td>250000</td>\n",
       "    </tr>\n",
       "  </tbody>\n",
       "</table>\n",
       "<p>5 rows × 80 columns</p>\n",
       "</div>"
      ],
      "text/plain": [
       "    MSSubClass MSZoning  LotFrontage  LotArea Street Alley LotShape  \\\n",
       "Id                                                                    \n",
       "1           60       RL         65.0     8450   Pave   NaN      Reg   \n",
       "2           20       RL         80.0     9600   Pave   NaN      Reg   \n",
       "3           60       RL         68.0    11250   Pave   NaN      IR1   \n",
       "4           70       RL         60.0     9550   Pave   NaN      IR1   \n",
       "5           60       RL         84.0    14260   Pave   NaN      IR1   \n",
       "\n",
       "   LandContour Utilities LotConfig  ... PoolArea PoolQC Fence MiscFeature  \\\n",
       "Id                                  ...                                     \n",
       "1          Lvl    AllPub    Inside  ...        0    NaN   NaN         NaN   \n",
       "2          Lvl    AllPub       FR2  ...        0    NaN   NaN         NaN   \n",
       "3          Lvl    AllPub    Inside  ...        0    NaN   NaN         NaN   \n",
       "4          Lvl    AllPub    Corner  ...        0    NaN   NaN         NaN   \n",
       "5          Lvl    AllPub       FR2  ...        0    NaN   NaN         NaN   \n",
       "\n",
       "   MiscVal MoSold  YrSold  SaleType  SaleCondition  SalePrice  \n",
       "Id                                                             \n",
       "1        0      2    2008        WD         Normal     208500  \n",
       "2        0      5    2007        WD         Normal     181500  \n",
       "3        0      9    2008        WD         Normal     223500  \n",
       "4        0      2    2006        WD        Abnorml     140000  \n",
       "5        0     12    2008        WD         Normal     250000  \n",
       "\n",
       "[5 rows x 80 columns]"
      ]
     },
     "metadata": {},
     "output_type": "display_data"
    }
   ],
   "source": [
    "display(X.head())"
   ]
  },
  {
   "cell_type": "code",
   "execution_count": 6,
   "metadata": {},
   "outputs": [],
   "source": [
    "# Remove rows with missing target, separate target from predictors\n",
    "X.dropna(axis=0, subset=['SalePrice'], inplace=True)\n",
    "\n",
    "y = X.SalePrice              \n",
    "X.drop(['SalePrice'], axis=1, inplace=True)\n",
    "\n",
    "# Break off validation set from training data\n",
    "X_train_full, X_valid_full, y_train, y_valid = train_test_split(X, y, test_size=0.25, random_state=42)"
   ]
  },
  {
   "cell_type": "code",
   "execution_count": 7,
   "metadata": {},
   "outputs": [
    {
     "data": {
      "text/plain": [
       "(1460, 79)"
      ]
     },
     "metadata": {},
     "output_type": "display_data"
    },
    {
     "data": {
      "text/plain": [
       "(1460,)"
      ]
     },
     "metadata": {},
     "output_type": "display_data"
    }
   ],
   "source": [
    "display(X.shape)\n",
    "display(y.shape)"
   ]
  },
  {
   "cell_type": "code",
   "execution_count": 8,
   "metadata": {},
   "outputs": [
    {
     "name": "stdout",
     "output_type": "stream",
     "text": [
      "5189\n",
      "1776\n",
      "0\n",
      "0\n",
      "7000\n"
     ]
    }
   ],
   "source": [
    "print(X_train_full.isnull().sum().sum())\n",
    "print(X_valid_full.isnull().sum().sum())\n",
    "print(y_train.isnull().sum().sum())\n",
    "print(y_valid.isnull().sum().sum())\n",
    "print(X_test_full.isnull().sum().sum())"
   ]
  },
  {
   "cell_type": "code",
   "execution_count": 9,
   "metadata": {},
   "outputs": [],
   "source": [
    "# \"Cardinality\" means the number of unique values in a column\n",
    "# Select categorical columns with relatively low cardinality (convenient but arbitrary)\n",
    "low_cardinality_cols = [cname for cname in X_train_full.columns if X_train_full[cname].nunique() < 20 and \n",
    "                        X_train_full[cname].dtype == \"object\"]"
   ]
  },
  {
   "cell_type": "code",
   "execution_count": 10,
   "metadata": {},
   "outputs": [
    {
     "data": {
      "text/plain": [
       "42"
      ]
     },
     "execution_count": 10,
     "metadata": {},
     "output_type": "execute_result"
    }
   ],
   "source": [
    "len(low_cardinality_cols)"
   ]
  },
  {
   "cell_type": "code",
   "execution_count": 11,
   "metadata": {},
   "outputs": [],
   "source": [
    "# Select numeric columns\n",
    "numeric_cols = [cname for cname in X_train_full.columns if X_train_full[cname].dtype in ['int64', 'float64']]"
   ]
  },
  {
   "cell_type": "code",
   "execution_count": 12,
   "metadata": {},
   "outputs": [
    {
     "data": {
      "text/plain": [
       "36"
      ]
     },
     "execution_count": 12,
     "metadata": {},
     "output_type": "execute_result"
    }
   ],
   "source": [
    "len(numeric_cols)"
   ]
  },
  {
   "cell_type": "code",
   "execution_count": 13,
   "metadata": {},
   "outputs": [
    {
     "name": "stdout",
     "output_type": "stream",
     "text": [
      "(1095, 78)\n",
      "(365, 78)\n",
      "(1459, 78)\n",
      "(1460, 78)\n"
     ]
    }
   ],
   "source": [
    "# Keep selected columns only\n",
    "my_cols = low_cardinality_cols + numeric_cols\n",
    "X_train = X_train_full[my_cols].copy()\n",
    "X_valid = X_valid_full[my_cols].copy()\n",
    "X_test = X_test_full[my_cols].copy()\n",
    "X_full = X[my_cols].copy() #for fitting full set later\n",
    "\n",
    "print(X_train.shape)\n",
    "print(X_valid.shape)\n",
    "print(X_test.shape)\n",
    "print(X_full.shape)"
   ]
  },
  {
   "cell_type": "code",
   "execution_count": 14,
   "metadata": {},
   "outputs": [],
   "source": [
    "# One-hot encode the data\n",
    "X_train = pd.get_dummies(X_train)\n",
    "X_valid = pd.get_dummies(X_valid)\n",
    "X_test = pd.get_dummies(X_test)\n",
    "X_full = pd.get_dummies(X_full) #for fitting full set later\n",
    "X_train, X_valid = X_train.align(X_valid, join='left', axis=1)\n",
    "X_train, X_test = X_train.align(X_test, join='left', axis=1)\n",
    "X_train, X_full = X_train.align(X_full, join='left', axis=1, fill_value=0)"
   ]
  },
  {
   "cell_type": "code",
   "execution_count": 15,
   "metadata": {},
   "outputs": [
    {
     "name": "stdout",
     "output_type": "stream",
     "text": [
      "(1095, 259)\n",
      "(365, 259)\n",
      "(1459, 259)\n",
      "(1460, 259)\n"
     ]
    }
   ],
   "source": [
    "print(X_train.shape)\n",
    "print(X_valid.shape)\n",
    "print(X_test.shape)\n",
    "print(X_full.shape)"
   ]
  },
  {
   "cell_type": "code",
   "execution_count": 16,
   "metadata": {},
   "outputs": [
    {
     "name": "stdout",
     "output_type": "stream",
     "text": [
      "262\n",
      "12496\n",
      "22215\n",
      "348\n"
     ]
    }
   ],
   "source": [
    "print(X_train.isnull().sum().sum())\n",
    "print(X_valid.isnull().sum().sum())\n",
    "print(X_test.isnull().sum().sum())\n",
    "print(X_full.isnull().sum().sum())"
   ]
  },
  {
   "cell_type": "code",
   "execution_count": 17,
   "metadata": {},
   "outputs": [
    {
     "name": "stdout",
     "output_type": "stream",
     "text": [
      "[14:02:10] WARNING: src/objective/regression_obj.cu:152: reg:linear is now deprecated in favor of reg:squarederror.\n"
     ]
    },
    {
     "name": "stderr",
     "output_type": "stream",
     "text": [
      "/home/dylanpoh/anaconda3/envs/kagglehouse/lib/python3.7/site-packages/xgboost/core.py:587: FutureWarning: Series.base is deprecated and will be removed in a future version\n",
      "  if getattr(data, 'base', None) is not None and \\\n"
     ]
    }
   ],
   "source": [
    "# Define the model\n",
    "my_model_1 = XGBRegressor(random_state=0)\n",
    "\n",
    "# Fit the model\n",
    "my_model_1.fit(X_train, y_train)\n",
    "predictions_1 = my_model_1.predict(X_valid)"
   ]
  },
  {
   "cell_type": "code",
   "execution_count": 18,
   "metadata": {},
   "outputs": [],
   "source": [
    "# Get predictions\n",
    "predictions_1 = my_model_1.predict(X_valid)"
   ]
  },
  {
   "cell_type": "markdown",
   "metadata": {},
   "source": [
    "Finally, use the `mean_absolute_error()` function to calculate the mean absolute error (MAE) corresponding to the predictions for the validation set.  Recall that the labels for the validation data are stored in `y_valid`."
   ]
  },
  {
   "cell_type": "code",
   "execution_count": 19,
   "metadata": {},
   "outputs": [
    {
     "name": "stdout",
     "output_type": "stream",
     "text": [
      "Mean Absolute Error: 16776.11085188356\n",
      "RMSE: 28697.98346714432\n"
     ]
    }
   ],
   "source": [
    "# Calculate MAE\n",
    "mae_1 = mean_absolute_error(predictions_1,y_valid)\n",
    "print(\"Mean Absolute Error:\" , mae_1)\n",
    "\n",
    "mse_1 = mean_squared_error(predictions_1, y_valid)\n",
    "rootMeanSquaredError_1 = sqrt(mse_1)\n",
    "print(\"RMSE:\", rootMeanSquaredError_1)"
   ]
  },
  {
   "cell_type": "markdown",
   "metadata": {},
   "source": [
    "### Improving the model with Hyperopt"
   ]
  },
  {
   "cell_type": "code",
   "execution_count": 20,
   "metadata": {},
   "outputs": [
    {
     "name": "stdout",
     "output_type": "stream",
     "text": [
      "{'colsample_bytree': 0.55, 'gamma': 0.8500000000000001, 'learning_rate': 0.275, 'max_depth': 9, 'min_child_weight': 20.0, 'n_estimators': 7900, 'subsample': 0.9978726277558618}\n",
      "  0%|          | 0/200 [00:00<?, ?it/s, best loss: ?]"
     ]
    },
    {
     "name": "stderr",
     "output_type": "stream",
     "text": [
      "/home/dylanpoh/anaconda3/envs/kagglehouse/lib/python3.7/site-packages/xgboost/core.py:587: FutureWarning: Series.base is deprecated and will be removed in a future version\n",
      "  if getattr(data, 'base', None) is not None and \\\n",
      "\n"
     ]
    },
    {
     "name": "stdout",
     "output_type": "stream",
     "text": [
      "SCORE:                                               \n",
      "17532.902354452053                                   \n",
      "{'colsample_bytree': 0.9500000000000001, 'gamma': 0.75, 'learning_rate': 0.47500000000000003, 'max_depth': 9, 'min_child_weight': 15.0, 'n_estimators': 9300, 'subsample': 0.8194022245181215}\n",
      "  0%|          | 1/200 [00:00<01:39,  2.00it/s, best loss: 17532.902354452053]"
     ]
    },
    {
     "name": "stderr",
     "output_type": "stream",
     "text": [
      "/home/dylanpoh/anaconda3/envs/kagglehouse/lib/python3.7/site-packages/xgboost/core.py:587: FutureWarning: Series.base is deprecated and will be removed in a future version\n",
      "  if getattr(data, 'base', None) is not None and \\\n",
      "\n"
     ]
    },
    {
     "name": "stdout",
     "output_type": "stream",
     "text": [
      "SCORE:                                                                        \n",
      "20355.118600171234                                                            \n",
      "{'colsample_bytree': 1.0, 'gamma': 0.9, 'learning_rate': 0.125, 'max_depth': 15, 'min_child_weight': 15.0, 'n_estimators': 9000, 'subsample': 0.8711352874155033}\n",
      "  1%|          | 2/200 [00:00<01:33,  2.11it/s, best loss: 17532.902354452053]"
     ]
    },
    {
     "name": "stderr",
     "output_type": "stream",
     "text": [
      "/home/dylanpoh/anaconda3/envs/kagglehouse/lib/python3.7/site-packages/xgboost/core.py:587: FutureWarning: Series.base is deprecated and will be removed in a future version\n",
      "  if getattr(data, 'base', None) is not None and \\\n",
      "\n"
     ]
    },
    {
     "name": "stdout",
     "output_type": "stream",
     "text": [
      "SCORE:                                                                        \n",
      "16153.978178510273                                                            \n",
      "{'colsample_bytree': 0.8, 'gamma': 0.65, 'learning_rate': 0.2, 'max_depth': 20, 'min_child_weight': 15.0, 'n_estimators': 9400, 'subsample': 0.904269664105475}\n",
      "  2%|▏         | 3/200 [00:02<02:49,  1.16it/s, best loss: 16153.978178510273]"
     ]
    },
    {
     "name": "stderr",
     "output_type": "stream",
     "text": [
      "/home/dylanpoh/anaconda3/envs/kagglehouse/lib/python3.7/site-packages/xgboost/core.py:587: FutureWarning: Series.base is deprecated and will be removed in a future version\n",
      "  if getattr(data, 'base', None) is not None and \\\n",
      "\n"
     ]
    },
    {
     "name": "stdout",
     "output_type": "stream",
     "text": [
      "SCORE:                                                                        \n",
      "17431.924753852738                                                            \n",
      "{'colsample_bytree': 0.8, 'gamma': 0.8, 'learning_rate': 0.07500000000000001, 'max_depth': 16, 'min_child_weight': 13.0, 'n_estimators': 6400, 'subsample': 0.996359463585066}\n",
      "  2%|▏         | 4/200 [00:03<03:04,  1.06it/s, best loss: 16153.978178510273]"
     ]
    },
    {
     "name": "stderr",
     "output_type": "stream",
     "text": [
      "/home/dylanpoh/anaconda3/envs/kagglehouse/lib/python3.7/site-packages/xgboost/core.py:587: FutureWarning: Series.base is deprecated and will be removed in a future version\n",
      "  if getattr(data, 'base', None) is not None and \\\n",
      "\n"
     ]
    },
    {
     "name": "stdout",
     "output_type": "stream",
     "text": [
      "SCORE:                                                                        \n",
      "16336.555094178082                                                            \n",
      "{'colsample_bytree': 0.75, 'gamma': 1.0, 'learning_rate': 0.05, 'max_depth': 11, 'min_child_weight': 3.0, 'n_estimators': 7600, 'subsample': 0.816419815750972}\n",
      "  2%|▎         | 5/200 [00:06<04:18,  1.32s/it, best loss: 16153.978178510273]"
     ]
    },
    {
     "name": "stderr",
     "output_type": "stream",
     "text": [
      "/home/dylanpoh/anaconda3/envs/kagglehouse/lib/python3.7/site-packages/xgboost/core.py:587: FutureWarning: Series.base is deprecated and will be removed in a future version\n",
      "  if getattr(data, 'base', None) is not None and \\\n",
      "\n"
     ]
    },
    {
     "name": "stdout",
     "output_type": "stream",
     "text": [
      "SCORE:                                                                        \n",
      "15732.475128424658                                                            \n",
      "{'colsample_bytree': 0.55, 'gamma': 0.55, 'learning_rate': 0.47500000000000003, 'max_depth': 23, 'min_child_weight': 15.0, 'n_estimators': 2100, 'subsample': 0.8409482073264702}\n",
      "  3%|▎         | 6/200 [00:08<05:46,  1.79s/it, best loss: 15732.475128424658]"
     ]
    },
    {
     "name": "stderr",
     "output_type": "stream",
     "text": [
      "/home/dylanpoh/anaconda3/envs/kagglehouse/lib/python3.7/site-packages/xgboost/core.py:587: FutureWarning: Series.base is deprecated and will be removed in a future version\n",
      "  if getattr(data, 'base', None) is not None and \\\n",
      "\n"
     ]
    },
    {
     "name": "stdout",
     "output_type": "stream",
     "text": [
      "SCORE:                                                                        \n",
      "19202.117529965755                                                            \n",
      "{'colsample_bytree': 0.7000000000000001, 'gamma': 0.65, 'learning_rate': 0.1, 'max_depth': 9, 'min_child_weight': 8.0, 'n_estimators': 2700, 'subsample': 0.8197687561853302}\n",
      "  4%|▎         | 7/200 [00:09<04:28,  1.39s/it, best loss: 15732.475128424658]"
     ]
    },
    {
     "name": "stderr",
     "output_type": "stream",
     "text": [
      "/home/dylanpoh/anaconda3/envs/kagglehouse/lib/python3.7/site-packages/xgboost/core.py:587: FutureWarning: Series.base is deprecated and will be removed in a future version\n",
      "  if getattr(data, 'base', None) is not None and \\\n",
      "\n"
     ]
    },
    {
     "name": "stdout",
     "output_type": "stream",
     "text": [
      "SCORE:                                                                        \n",
      "15982.849101027397                                                            \n",
      "{'colsample_bytree': 0.55, 'gamma': 0.65, 'learning_rate': 0.5, 'max_depth': 27, 'min_child_weight': 9.0, 'n_estimators': 3700, 'subsample': 0.9417601603702459}\n",
      "  4%|▍         | 8/200 [00:11<04:56,  1.54s/it, best loss: 15732.475128424658]"
     ]
    },
    {
     "name": "stderr",
     "output_type": "stream",
     "text": [
      "/home/dylanpoh/anaconda3/envs/kagglehouse/lib/python3.7/site-packages/xgboost/core.py:587: FutureWarning: Series.base is deprecated and will be removed in a future version\n",
      "  if getattr(data, 'base', None) is not None and \\\n",
      "\n"
     ]
    },
    {
     "name": "stdout",
     "output_type": "stream",
     "text": [
      "SCORE:                                                                        \n",
      "19502.414340753425                                                            \n",
      "{'colsample_bytree': 0.55, 'gamma': 0.55, 'learning_rate': 0.225, 'max_depth': 14, 'min_child_weight': 14.0, 'n_estimators': 5500, 'subsample': 0.9754714832208801}\n",
      "  4%|▍         | 9/200 [00:11<03:54,  1.23s/it, best loss: 15732.475128424658]"
     ]
    },
    {
     "name": "stderr",
     "output_type": "stream",
     "text": [
      "/home/dylanpoh/anaconda3/envs/kagglehouse/lib/python3.7/site-packages/xgboost/core.py:587: FutureWarning: Series.base is deprecated and will be removed in a future version\n",
      "  if getattr(data, 'base', None) is not None and \\\n",
      "\n"
     ]
    },
    {
     "name": "stdout",
     "output_type": "stream",
     "text": [
      "SCORE:                                                                        \n",
      "17173.32382277397                                                             \n",
      "{'colsample_bytree': 0.6000000000000001, 'gamma': 1.0, 'learning_rate': 0.47500000000000003, 'max_depth': 23, 'min_child_weight': 12.0, 'n_estimators': 8200, 'subsample': 0.934600385481442}\n",
      "  5%|▌         | 10/200 [00:12<03:22,  1.06s/it, best loss: 15732.475128424658]"
     ]
    },
    {
     "name": "stderr",
     "output_type": "stream",
     "text": [
      "/home/dylanpoh/anaconda3/envs/kagglehouse/lib/python3.7/site-packages/xgboost/core.py:587: FutureWarning: Series.base is deprecated and will be removed in a future version\n",
      "  if getattr(data, 'base', None) is not None and \\\n",
      "\n"
     ]
    },
    {
     "name": "stdout",
     "output_type": "stream",
     "text": [
      "SCORE:                                                                         \n",
      "18984.674614726027                                                             \n",
      "{'colsample_bytree': 0.9500000000000001, 'gamma': 0.65, 'learning_rate': 0.275, 'max_depth': 25, 'min_child_weight': 2.0, 'n_estimators': 1600, 'subsample': 0.9032009123818436}\n",
      "  6%|▌         | 11/200 [00:13<03:04,  1.02it/s, best loss: 15732.475128424658]"
     ]
    },
    {
     "name": "stderr",
     "output_type": "stream",
     "text": [
      "/home/dylanpoh/anaconda3/envs/kagglehouse/lib/python3.7/site-packages/xgboost/core.py:587: FutureWarning: Series.base is deprecated and will be removed in a future version\n",
      "  if getattr(data, 'base', None) is not None and \\\n",
      "\n"
     ]
    },
    {
     "name": "stdout",
     "output_type": "stream",
     "text": [
      "SCORE:                                                                         \n",
      "17816.765528681506                                                             \n",
      "{'colsample_bytree': 0.8, 'gamma': 0.8500000000000001, 'learning_rate': 0.0, 'max_depth': 13, 'min_child_weight': 11.0, 'n_estimators': 5000, 'subsample': 0.8550748922127586}\n",
      "SCORE:                                                                         \n",
      "178547.42328767123                                                             \n",
      "  6%|▋         | 13/200 [00:14<02:38,  1.18it/s, best loss: 15732.475128424658]"
     ]
    },
    {
     "name": "stderr",
     "output_type": "stream",
     "text": [
      "/home/dylanpoh/anaconda3/envs/kagglehouse/lib/python3.7/site-packages/xgboost/core.py:587: FutureWarning: Series.base is deprecated and will be removed in a future version\n",
      "  if getattr(data, 'base', None) is not None and \\\n",
      "\n"
     ]
    },
    {
     "name": "stdout",
     "output_type": "stream",
     "text": [
      "{'colsample_bytree': 0.8, 'gamma': 0.75, 'learning_rate': 0.25, 'max_depth': 29, 'min_child_weight': 6.0, 'n_estimators': 5000, 'subsample': 0.987034227506925}\n",
      "  6%|▋         | 13/200 [00:14<02:38,  1.18it/s, best loss: 15732.475128424658]"
     ]
    },
    {
     "name": "stderr",
     "output_type": "stream",
     "text": [
      "/home/dylanpoh/anaconda3/envs/kagglehouse/lib/python3.7/site-packages/xgboost/core.py:587: FutureWarning: Series.base is deprecated and will be removed in a future version\n",
      "  if getattr(data, 'base', None) is not None and \\\n",
      "\n"
     ]
    },
    {
     "name": "stdout",
     "output_type": "stream",
     "text": [
      "SCORE:                                                                         \n",
      "18022.148651541094                                                             \n",
      "{'colsample_bytree': 0.5, 'gamma': 0.55, 'learning_rate': 0.45, 'max_depth': 23, 'min_child_weight': 9.0, 'n_estimators': 3400, 'subsample': 0.8900025126329821}\n",
      "  7%|▋         | 14/200 [00:16<02:56,  1.05it/s, best loss: 15732.475128424658]"
     ]
    },
    {
     "name": "stderr",
     "output_type": "stream",
     "text": [
      "/home/dylanpoh/anaconda3/envs/kagglehouse/lib/python3.7/site-packages/xgboost/core.py:587: FutureWarning: Series.base is deprecated and will be removed in a future version\n",
      "  if getattr(data, 'base', None) is not None and \\\n",
      "\n"
     ]
    },
    {
     "name": "stdout",
     "output_type": "stream",
     "text": [
      "SCORE:                                                                         \n",
      "20003.671821489726                                                             \n",
      "{'colsample_bytree': 0.65, 'gamma': 0.8500000000000001, 'learning_rate': 0.025, 'max_depth': 16, 'min_child_weight': 7.0, 'n_estimators': 4300, 'subsample': 0.9326574509294849}\n",
      "  8%|▊         | 15/200 [00:16<02:27,  1.26it/s, best loss: 15732.475128424658]"
     ]
    },
    {
     "name": "stderr",
     "output_type": "stream",
     "text": [
      "/home/dylanpoh/anaconda3/envs/kagglehouse/lib/python3.7/site-packages/xgboost/core.py:587: FutureWarning: Series.base is deprecated and will be removed in a future version\n",
      "  if getattr(data, 'base', None) is not None and \\\n",
      "\n"
     ]
    },
    {
     "name": "stdout",
     "output_type": "stream",
     "text": [
      "SCORE:                                                                         \n",
      "15772.680190496576                                                             \n",
      "{'colsample_bytree': 0.75, 'gamma': 0.55, 'learning_rate': 0.4, 'max_depth': 25, 'min_child_weight': 10.0, 'n_estimators': 2300, 'subsample': 0.8854980686576408}\n",
      "  8%|▊         | 16/200 [00:21<06:36,  2.15s/it, best loss: 15732.475128424658]"
     ]
    },
    {
     "name": "stderr",
     "output_type": "stream",
     "text": [
      "/home/dylanpoh/anaconda3/envs/kagglehouse/lib/python3.7/site-packages/xgboost/core.py:587: FutureWarning: Series.base is deprecated and will be removed in a future version\n",
      "  if getattr(data, 'base', None) is not None and \\\n",
      "\n"
     ]
    },
    {
     "name": "stdout",
     "output_type": "stream",
     "text": [
      "SCORE:                                                                         \n",
      "18939.336590325343                                                             \n",
      "{'colsample_bytree': 0.75, 'gamma': 0.8, 'learning_rate': 0.025, 'max_depth': 28, 'min_child_weight': 13.0, 'n_estimators': 4300, 'subsample': 0.881456098892501}\n",
      "  8%|▊         | 17/200 [00:22<05:14,  1.72s/it, best loss: 15732.475128424658]"
     ]
    },
    {
     "name": "stderr",
     "output_type": "stream",
     "text": [
      "/home/dylanpoh/anaconda3/envs/kagglehouse/lib/python3.7/site-packages/xgboost/core.py:587: FutureWarning: Series.base is deprecated and will be removed in a future version\n",
      "  if getattr(data, 'base', None) is not None and \\\n",
      "\n"
     ]
    },
    {
     "name": "stdout",
     "output_type": "stream",
     "text": [
      "SCORE:                                                                         \n",
      "16009.999914383561                                                             \n",
      "{'colsample_bytree': 0.7000000000000001, 'gamma': 0.7000000000000001, 'learning_rate': 0.1, 'max_depth': 18, 'min_child_weight': 18.0, 'n_estimators': 2600, 'subsample': 0.8861958931285857}\n",
      "  9%|▉         | 18/200 [00:29<09:40,  3.19s/it, best loss: 15732.475128424658]"
     ]
    },
    {
     "name": "stderr",
     "output_type": "stream",
     "text": [
      "/home/dylanpoh/anaconda3/envs/kagglehouse/lib/python3.7/site-packages/xgboost/core.py:587: FutureWarning: Series.base is deprecated and will be removed in a future version\n",
      "  if getattr(data, 'base', None) is not None and \\\n",
      "\n"
     ]
    },
    {
     "name": "stdout",
     "output_type": "stream",
     "text": [
      "SCORE:                                                                         \n",
      "16331.858561643836                                                             \n",
      "{'colsample_bytree': 1.0, 'gamma': 0.55, 'learning_rate': 0.4, 'max_depth': 19, 'min_child_weight': 8.0, 'n_estimators': 8500, 'subsample': 0.8063555328517511}\n",
      " 10%|▉         | 19/200 [00:30<08:04,  2.68s/it, best loss: 15732.475128424658]"
     ]
    },
    {
     "name": "stderr",
     "output_type": "stream",
     "text": [
      "/home/dylanpoh/anaconda3/envs/kagglehouse/lib/python3.7/site-packages/xgboost/core.py:587: FutureWarning: Series.base is deprecated and will be removed in a future version\n",
      "  if getattr(data, 'base', None) is not None and \\\n",
      "\n"
     ]
    },
    {
     "name": "stdout",
     "output_type": "stream",
     "text": [
      "SCORE:                                                                         \n",
      "19456.087168236303                                                             \n",
      "{'colsample_bytree': 0.65, 'gamma': 1.0, 'learning_rate': 0.17500000000000002, 'max_depth': 11, 'min_child_weight': 1.0, 'n_estimators': 9600, 'subsample': 0.9290257160700852}\n",
      " 10%|█         | 20/200 [00:31<06:46,  2.26s/it, best loss: 15732.475128424658]"
     ]
    },
    {
     "name": "stderr",
     "output_type": "stream",
     "text": [
      "/home/dylanpoh/anaconda3/envs/kagglehouse/lib/python3.7/site-packages/xgboost/core.py:587: FutureWarning: Series.base is deprecated and will be removed in a future version\n",
      "  if getattr(data, 'base', None) is not None and \\\n",
      "\n"
     ]
    },
    {
     "name": "stdout",
     "output_type": "stream",
     "text": [
      "SCORE:                                                                         \n",
      "16807.540903253426                                                             \n",
      "{'colsample_bytree': 0.65, 'gamma': 0.9500000000000001, 'learning_rate': 0.025, 'max_depth': 7, 'min_child_weight': 4.0, 'n_estimators': 4300, 'subsample': 0.9629016451311021}\n",
      " 10%|█         | 21/200 [00:32<05:35,  1.87s/it, best loss: 15732.475128424658]"
     ]
    },
    {
     "name": "stderr",
     "output_type": "stream",
     "text": [
      "/home/dylanpoh/anaconda3/envs/kagglehouse/lib/python3.7/site-packages/xgboost/core.py:587: FutureWarning: Series.base is deprecated and will be removed in a future version\n",
      "  if getattr(data, 'base', None) is not None and \\\n",
      "\n"
     ]
    },
    {
     "name": "stdout",
     "output_type": "stream",
     "text": [
      "SCORE:                                                                         \n",
      "15570.453499571919                                                             \n",
      "{'colsample_bytree': 0.8500000000000001, 'gamma': 0.9500000000000001, 'learning_rate': 0.05, 'max_depth': 8, 'min_child_weight': 4.0, 'n_estimators': 7600, 'subsample': 0.9556241177025983}\n",
      " 11%|█         | 22/200 [00:37<07:32,  2.54s/it, best loss: 15570.453499571919]"
     ]
    },
    {
     "name": "stderr",
     "output_type": "stream",
     "text": [
      "/home/dylanpoh/anaconda3/envs/kagglehouse/lib/python3.7/site-packages/xgboost/core.py:587: FutureWarning: Series.base is deprecated and will be removed in a future version\n",
      "  if getattr(data, 'base', None) is not None and \\\n",
      "\n"
     ]
    },
    {
     "name": "stdout",
     "output_type": "stream",
     "text": [
      "SCORE:                                                                         \n",
      "16018.828028681506                                                             \n",
      "{'colsample_bytree': 0.65, 'gamma': 0.9500000000000001, 'learning_rate': 0.325, 'max_depth': 11, 'min_child_weight': 4.0, 'n_estimators': 2200, 'subsample': 0.9680997873416318}\n",
      " 12%|█▏        | 23/200 [00:39<07:51,  2.67s/it, best loss: 15570.453499571919]"
     ]
    },
    {
     "name": "stderr",
     "output_type": "stream",
     "text": [
      "/home/dylanpoh/anaconda3/envs/kagglehouse/lib/python3.7/site-packages/xgboost/core.py:587: FutureWarning: Series.base is deprecated and will be removed in a future version\n",
      "  if getattr(data, 'base', None) is not None and \\\n",
      "\n"
     ]
    },
    {
     "name": "stdout",
     "output_type": "stream",
     "text": [
      "SCORE:                                                                         \n",
      "18150.958732876712                                                             \n",
      "{'colsample_bytree': 0.9, 'gamma': 0.9500000000000001, 'learning_rate': 0.17500000000000002, 'max_depth': 7, 'min_child_weight': 3.0, 'n_estimators': 7600, 'subsample': 0.9178890283384741}\n",
      " 12%|█▏        | 24/200 [00:40<05:56,  2.03s/it, best loss: 15570.453499571919]"
     ]
    },
    {
     "name": "stderr",
     "output_type": "stream",
     "text": [
      "/home/dylanpoh/anaconda3/envs/kagglehouse/lib/python3.7/site-packages/xgboost/core.py:587: FutureWarning: Series.base is deprecated and will be removed in a future version\n",
      "  if getattr(data, 'base', None) is not None and \\\n",
      "\n"
     ]
    },
    {
     "name": "stdout",
     "output_type": "stream",
     "text": [
      "SCORE:                                                                         \n",
      "16256.614479880138                                                             \n",
      "{'colsample_bytree': 0.7000000000000001, 'gamma': 0.9, 'learning_rate': 0.15000000000000002, 'max_depth': 7, 'min_child_weight': 5.0, 'n_estimators': 6000, 'subsample': 0.8383408779169526}\n",
      " 12%|█▎        | 25/200 [00:41<05:08,  1.76s/it, best loss: 15570.453499571919]"
     ]
    },
    {
     "name": "stderr",
     "output_type": "stream",
     "text": [
      "/home/dylanpoh/anaconda3/envs/kagglehouse/lib/python3.7/site-packages/xgboost/core.py:587: FutureWarning: Series.base is deprecated and will be removed in a future version\n",
      "  if getattr(data, 'base', None) is not None and \\\n",
      "\n"
     ]
    },
    {
     "name": "stdout",
     "output_type": "stream",
     "text": [
      "SCORE:                                                                         \n",
      "16395.129452054796                                                             \n",
      "{'colsample_bytree': 0.6000000000000001, 'gamma': 1.0, 'learning_rate': 0.05, 'max_depth': 10, 'min_child_weight': 2.0, 'n_estimators': 6700, 'subsample': 0.8004316826023508}\n",
      " 13%|█▎        | 26/200 [00:43<04:52,  1.68s/it, best loss: 15570.453499571919]"
     ]
    },
    {
     "name": "stderr",
     "output_type": "stream",
     "text": [
      "/home/dylanpoh/anaconda3/envs/kagglehouse/lib/python3.7/site-packages/xgboost/core.py:587: FutureWarning: Series.base is deprecated and will be removed in a future version\n",
      "  if getattr(data, 'base', None) is not None and \\\n",
      "\n"
     ]
    },
    {
     "name": "stdout",
     "output_type": "stream",
     "text": [
      "SCORE:                                                                         \n",
      "15400.34660744863                                                              \n",
      "{'colsample_bytree': 0.6000000000000001, 'gamma': 0.9, 'learning_rate': 0.325, 'max_depth': 10, 'min_child_weight': 1.0, 'n_estimators': 6700, 'subsample': 0.9561679358556613}\n",
      " 14%|█▎        | 27/200 [00:46<05:59,  2.08s/it, best loss: 15400.34660744863]"
     ]
    },
    {
     "name": "stderr",
     "output_type": "stream",
     "text": [
      "/home/dylanpoh/anaconda3/envs/kagglehouse/lib/python3.7/site-packages/xgboost/core.py:587: FutureWarning: Series.base is deprecated and will be removed in a future version\n",
      "  if getattr(data, 'base', None) is not None and \\\n",
      "\n"
     ]
    },
    {
     "name": "stdout",
     "output_type": "stream",
     "text": [
      "SCORE:                                                                        \n",
      "17342.61638484589                                                             \n",
      "{'colsample_bytree': 0.6000000000000001, 'gamma': 0.9500000000000001, 'learning_rate': 0.025, 'max_depth': 17, 'min_child_weight': 6.0, 'n_estimators': 8400, 'subsample': 0.9163219192968257}\n",
      " 14%|█▍        | 28/200 [00:47<05:06,  1.78s/it, best loss: 15400.34660744863]"
     ]
    },
    {
     "name": "stderr",
     "output_type": "stream",
     "text": [
      "/home/dylanpoh/anaconda3/envs/kagglehouse/lib/python3.7/site-packages/xgboost/core.py:587: FutureWarning: Series.base is deprecated and will be removed in a future version\n",
      "  if getattr(data, 'base', None) is not None and \\\n",
      "\n"
     ]
    },
    {
     "name": "stdout",
     "output_type": "stream",
     "text": [
      "SCORE:                                                                        \n",
      "15550.25343535959                                                             \n",
      "{'colsample_bytree': 0.5, 'gamma': 0.8500000000000001, 'learning_rate': 0.125, 'max_depth': 17, 'min_child_weight': 6.0, 'n_estimators': 2900, 'subsample': 0.8587005229224645}\n",
      " 14%|█▍        | 29/200 [00:53<08:46,  3.08s/it, best loss: 15400.34660744863]"
     ]
    },
    {
     "name": "stderr",
     "output_type": "stream",
     "text": [
      "/home/dylanpoh/anaconda3/envs/kagglehouse/lib/python3.7/site-packages/xgboost/core.py:587: FutureWarning: Series.base is deprecated and will be removed in a future version\n",
      "  if getattr(data, 'base', None) is not None and \\\n",
      "\n"
     ]
    },
    {
     "name": "stdout",
     "output_type": "stream",
     "text": [
      "SCORE:                                                                        \n",
      "16670.806860017125                                                            \n",
      "{'colsample_bytree': 0.6000000000000001, 'gamma': 1.0, 'learning_rate': 0.07500000000000001, 'max_depth': 17, 'min_child_weight': 2.0, 'n_estimators': 6800, 'subsample': 0.9155231140727954}\n",
      " 15%|█▌        | 30/200 [00:54<07:21,  2.60s/it, best loss: 15400.34660744863]"
     ]
    },
    {
     "name": "stderr",
     "output_type": "stream",
     "text": [
      "/home/dylanpoh/anaconda3/envs/kagglehouse/lib/python3.7/site-packages/xgboost/core.py:587: FutureWarning: Series.base is deprecated and will be removed in a future version\n",
      "  if getattr(data, 'base', None) is not None and \\\n",
      "\n"
     ]
    },
    {
     "name": "stdout",
     "output_type": "stream",
     "text": [
      "SCORE:                                                                        \n",
      "16041.659118150685                                                            \n",
      "{'colsample_bytree': 0.5, 'gamma': 0.9, 'learning_rate': 0.30000000000000004, 'max_depth': 5, 'min_child_weight': 19.0, 'n_estimators': 4600, 'subsample': 0.8648238432290384}\n",
      " 16%|█▌        | 31/200 [00:58<08:11,  2.91s/it, best loss: 15400.34660744863]"
     ]
    },
    {
     "name": "stderr",
     "output_type": "stream",
     "text": [
      "/home/dylanpoh/anaconda3/envs/kagglehouse/lib/python3.7/site-packages/xgboost/core.py:587: FutureWarning: Series.base is deprecated and will be removed in a future version\n",
      "  if getattr(data, 'base', None) is not None and \\\n",
      "\n"
     ]
    },
    {
     "name": "stdout",
     "output_type": "stream",
     "text": [
      "SCORE:                                                                        \n",
      "16916.285188356163                                                            \n",
      "{'colsample_bytree': 0.6000000000000001, 'gamma': 0.8, 'learning_rate': 0.125, 'max_depth': 22, 'min_child_weight': 6.0, 'n_estimators': 8400, 'subsample': 0.8368942225084359}\n",
      " 16%|█▌        | 32/200 [00:58<06:02,  2.16s/it, best loss: 15400.34660744863]"
     ]
    },
    {
     "name": "stderr",
     "output_type": "stream",
     "text": [
      "/home/dylanpoh/anaconda3/envs/kagglehouse/lib/python3.7/site-packages/xgboost/core.py:587: FutureWarning: Series.base is deprecated and will be removed in a future version\n",
      "  if getattr(data, 'base', None) is not None and \\\n",
      "\n"
     ]
    },
    {
     "name": "stdout",
     "output_type": "stream",
     "text": [
      "SCORE:                                                                        \n",
      "16831.99631849315                                                             \n",
      "{'colsample_bytree': 0.55, 'gamma': 0.9500000000000001, 'learning_rate': 0.07500000000000001, 'max_depth': 10, 'min_child_weight': 2.0, 'n_estimators': 8600, 'subsample': 0.9145680139423772}\n",
      " 16%|█▋        | 33/200 [01:00<05:58,  2.15s/it, best loss: 15400.34660744863]"
     ]
    },
    {
     "name": "stderr",
     "output_type": "stream",
     "text": [
      "/home/dylanpoh/anaconda3/envs/kagglehouse/lib/python3.7/site-packages/xgboost/core.py:587: FutureWarning: Series.base is deprecated and will be removed in a future version\n",
      "  if getattr(data, 'base', None) is not None and \\\n",
      "\n"
     ]
    },
    {
     "name": "stdout",
     "output_type": "stream",
     "text": [
      "SCORE:                                                                        \n",
      "15557.160498715753                                                            \n",
      "{'colsample_bytree': 0.7000000000000001, 'gamma': 0.7000000000000001, 'learning_rate': 0.2, 'max_depth': 26, 'min_child_weight': 5.0, 'n_estimators': 1500, 'subsample': 0.8956505535827992}\n",
      " 17%|█▋        | 34/200 [01:04<07:20,  2.65s/it, best loss: 15400.34660744863]"
     ]
    },
    {
     "name": "stderr",
     "output_type": "stream",
     "text": [
      "/home/dylanpoh/anaconda3/envs/kagglehouse/lib/python3.7/site-packages/xgboost/core.py:587: FutureWarning: Series.base is deprecated and will be removed in a future version\n",
      "  if getattr(data, 'base', None) is not None and \\\n",
      "\n"
     ]
    },
    {
     "name": "stdout",
     "output_type": "stream",
     "text": [
      "SCORE:                                                                        \n",
      "16559.37851027397                                                             \n",
      "{'colsample_bytree': 0.5, 'gamma': 1.0, 'learning_rate': 0.05, 'max_depth': 6, 'min_child_weight': 7.0, 'n_estimators': 1000, 'subsample': 0.8749908256063983}\n",
      " 18%|█▊        | 35/200 [01:06<06:43,  2.44s/it, best loss: 15400.34660744863]"
     ]
    },
    {
     "name": "stderr",
     "output_type": "stream",
     "text": [
      "/home/dylanpoh/anaconda3/envs/kagglehouse/lib/python3.7/site-packages/xgboost/core.py:587: FutureWarning: Series.base is deprecated and will be removed in a future version\n",
      "  if getattr(data, 'base', None) is not None and \\\n",
      "\n"
     ]
    },
    {
     "name": "stdout",
     "output_type": "stream",
     "text": [
      "SCORE:                                                                        \n",
      "15720.264051797945                                                            \n",
      "{'colsample_bytree': 0.55, 'gamma': 0.5, 'learning_rate': 0.15000000000000002, 'max_depth': 24, 'min_child_weight': 17.0, 'n_estimators': 5700, 'subsample': 0.803350503108666}\n",
      " 18%|█▊        | 36/200 [01:07<05:34,  2.04s/it, best loss: 15400.34660744863]"
     ]
    },
    {
     "name": "stderr",
     "output_type": "stream",
     "text": [
      "/home/dylanpoh/anaconda3/envs/kagglehouse/lib/python3.7/site-packages/xgboost/core.py:587: FutureWarning: Series.base is deprecated and will be removed in a future version\n",
      "  if getattr(data, 'base', None) is not None and \\\n",
      "\n"
     ]
    },
    {
     "name": "stdout",
     "output_type": "stream",
     "text": [
      "SCORE:                                                                        \n",
      "16323.208219178083                                                            \n",
      "{'colsample_bytree': 0.6000000000000001, 'gamma': 0.9, 'learning_rate': 0.0, 'max_depth': 21, 'min_child_weight': 3.0, 'n_estimators': 1100, 'subsample': 0.9985354630720815}\n",
      "SCORE:                                                                        \n",
      "178547.42328767123                                                            \n",
      "{'colsample_bytree': 0.65, 'gamma': 0.8, 'learning_rate': 0.0, 'max_depth': 12, 'min_child_weight': 10.0, 'n_estimators': 5200, 'subsample': 0.9441088068576642}\n",
      " 19%|█▉        | 38/200 [01:09<03:39,  1.35s/it, best loss: 15400.34660744863]"
     ]
    },
    {
     "name": "stderr",
     "output_type": "stream",
     "text": [
      "/home/dylanpoh/anaconda3/envs/kagglehouse/lib/python3.7/site-packages/xgboost/core.py:587: FutureWarning: Series.base is deprecated and will be removed in a future version\n",
      "  if getattr(data, 'base', None) is not None and \\\n",
      "\n",
      "/home/dylanpoh/anaconda3/envs/kagglehouse/lib/python3.7/site-packages/xgboost/core.py:587: FutureWarning: Series.base is deprecated and will be removed in a future version\n",
      "  if getattr(data, 'base', None) is not None and \\\n",
      "\n"
     ]
    },
    {
     "name": "stdout",
     "output_type": "stream",
     "text": [
      "SCORE:                                                                        \n",
      "178547.42328767123                                                            \n",
      "{'colsample_bytree': 0.8500000000000001, 'gamma': 0.75, 'learning_rate': 0.225, 'max_depth': 15, 'min_child_weight': 8.0, 'n_estimators': 3300, 'subsample': 0.8468981945089811}\n",
      " 20%|█▉        | 39/200 [01:09<02:42,  1.01s/it, best loss: 15400.34660744863]"
     ]
    },
    {
     "name": "stderr",
     "output_type": "stream",
     "text": [
      "/home/dylanpoh/anaconda3/envs/kagglehouse/lib/python3.7/site-packages/xgboost/core.py:587: FutureWarning: Series.base is deprecated and will be removed in a future version\n",
      "  if getattr(data, 'base', None) is not None and \\\n",
      "\n"
     ]
    },
    {
     "name": "stdout",
     "output_type": "stream",
     "text": [
      "SCORE:                                                                        \n",
      "17471.804280821918                                                            \n",
      "{'colsample_bytree': 0.7000000000000001, 'gamma': 0.7000000000000001, 'learning_rate': 0.1, 'max_depth': 17, 'min_child_weight': 5.0, 'n_estimators': 2400, 'subsample': 0.8241642253607653}\n",
      " 20%|██        | 40/200 [01:10<02:43,  1.02s/it, best loss: 15400.34660744863]"
     ]
    },
    {
     "name": "stderr",
     "output_type": "stream",
     "text": [
      "/home/dylanpoh/anaconda3/envs/kagglehouse/lib/python3.7/site-packages/xgboost/core.py:587: FutureWarning: Series.base is deprecated and will be removed in a future version\n",
      "  if getattr(data, 'base', None) is not None and \\\n",
      "\n"
     ]
    },
    {
     "name": "stdout",
     "output_type": "stream",
     "text": [
      "SCORE:                                                                        \n",
      "16270.441909246576                                                            \n",
      "{'colsample_bytree': 0.6000000000000001, 'gamma': 0.8500000000000001, 'learning_rate': 0.07500000000000001, 'max_depth': 20, 'min_child_weight': 1.0, 'n_estimators': 5600, 'subsample': 0.9082441811676417}\n",
      " 20%|██        | 41/200 [01:14<04:35,  1.73s/it, best loss: 15400.34660744863]"
     ]
    },
    {
     "name": "stderr",
     "output_type": "stream",
     "text": [
      "/home/dylanpoh/anaconda3/envs/kagglehouse/lib/python3.7/site-packages/xgboost/core.py:587: FutureWarning: Series.base is deprecated and will be removed in a future version\n",
      "  if getattr(data, 'base', None) is not None and \\\n",
      "\n"
     ]
    },
    {
     "name": "stdout",
     "output_type": "stream",
     "text": [
      "SCORE:                                                                        \n",
      "16128.368824914383                                                            \n",
      "{'colsample_bytree': 0.55, 'gamma': 1.0, 'learning_rate': 0.05, 'max_depth': 10, 'min_child_weight': 11.0, 'n_estimators': 6700, 'subsample': 0.8761352770204649}\n",
      " 21%|██        | 42/200 [01:18<06:54,  2.62s/it, best loss: 15400.34660744863]"
     ]
    },
    {
     "name": "stderr",
     "output_type": "stream",
     "text": [
      "/home/dylanpoh/anaconda3/envs/kagglehouse/lib/python3.7/site-packages/xgboost/core.py:587: FutureWarning: Series.base is deprecated and will be removed in a future version\n",
      "  if getattr(data, 'base', None) is not None and \\\n",
      "\n"
     ]
    },
    {
     "name": "stdout",
     "output_type": "stream",
     "text": [
      "SCORE:                                                                        \n",
      "15628.700642123287                                                            \n",
      "{'colsample_bytree': 0.5, 'gamma': 0.9, 'learning_rate': 0.375, 'max_depth': 27, 'min_child_weight': 3.0, 'n_estimators': 8400, 'subsample': 0.9776487828803601}\n",
      " 22%|██▏       | 43/200 [01:20<06:10,  2.36s/it, best loss: 15400.34660744863]"
     ]
    },
    {
     "name": "stderr",
     "output_type": "stream",
     "text": [
      "/home/dylanpoh/anaconda3/envs/kagglehouse/lib/python3.7/site-packages/xgboost/core.py:587: FutureWarning: Series.base is deprecated and will be removed in a future version\n",
      "  if getattr(data, 'base', None) is not None and \\\n",
      "\n"
     ]
    },
    {
     "name": "stdout",
     "output_type": "stream",
     "text": [
      "SCORE:                                                                        \n",
      "18931.39299015411                                                             \n",
      "{'colsample_bytree': 0.55, 'gamma': 0.6000000000000001, 'learning_rate': 0.15000000000000002, 'max_depth': 9, 'min_child_weight': 7.0, 'n_estimators': 6200, 'subsample': 0.8964250231829469}\n",
      " 22%|██▏       | 44/200 [01:21<04:48,  1.85s/it, best loss: 15400.34660744863]"
     ]
    },
    {
     "name": "stderr",
     "output_type": "stream",
     "text": [
      "/home/dylanpoh/anaconda3/envs/kagglehouse/lib/python3.7/site-packages/xgboost/core.py:587: FutureWarning: Series.base is deprecated and will be removed in a future version\n",
      "  if getattr(data, 'base', None) is not None and \\\n",
      "\n"
     ]
    },
    {
     "name": "stdout",
     "output_type": "stream",
     "text": [
      "SCORE:                                                                        \n",
      "16603.787157534247                                                            \n",
      "{'colsample_bytree': 0.65, 'gamma': 0.9500000000000001, 'learning_rate': 0.25, 'max_depth': 14, 'min_child_weight': 16.0, 'n_estimators': 8000, 'subsample': 0.945392003164748}\n",
      " 22%|██▎       | 45/200 [01:22<04:00,  1.55s/it, best loss: 15400.34660744863]"
     ]
    },
    {
     "name": "stderr",
     "output_type": "stream",
     "text": [
      "/home/dylanpoh/anaconda3/envs/kagglehouse/lib/python3.7/site-packages/xgboost/core.py:587: FutureWarning: Series.base is deprecated and will be removed in a future version\n",
      "  if getattr(data, 'base', None) is not None and \\\n",
      "\n"
     ]
    },
    {
     "name": "stdout",
     "output_type": "stream",
     "text": [
      "SCORE:                                                                        \n",
      "17385.52509631849                                                             \n",
      "{'colsample_bytree': 0.75, 'gamma': 1.0, 'learning_rate': 0.1, 'max_depth': 13, 'min_child_weight': 12.0, 'n_estimators': 2800, 'subsample': 0.9223953592863591}\n",
      " 23%|██▎       | 46/200 [01:23<03:31,  1.37s/it, best loss: 15400.34660744863]"
     ]
    },
    {
     "name": "stderr",
     "output_type": "stream",
     "text": [
      "/home/dylanpoh/anaconda3/envs/kagglehouse/lib/python3.7/site-packages/xgboost/core.py:587: FutureWarning: Series.base is deprecated and will be removed in a future version\n",
      "  if getattr(data, 'base', None) is not None and \\\n",
      "\n"
     ]
    },
    {
     "name": "stdout",
     "output_type": "stream",
     "text": [
      "SCORE:                                                                        \n",
      "16953.16571061644                                                             \n",
      "{'colsample_bytree': 0.8500000000000001, 'gamma': 0.8500000000000001, 'learning_rate': 0.025, 'max_depth': 29, 'min_child_weight': 2.0, 'n_estimators': 9200, 'subsample': 0.8298576693157832}\n",
      " 24%|██▎       | 47/200 [01:24<03:29,  1.37s/it, best loss: 15400.34660744863]"
     ]
    },
    {
     "name": "stderr",
     "output_type": "stream",
     "text": [
      "/home/dylanpoh/anaconda3/envs/kagglehouse/lib/python3.7/site-packages/xgboost/core.py:587: FutureWarning: Series.base is deprecated and will be removed in a future version\n",
      "  if getattr(data, 'base', None) is not None and \\\n",
      "\n"
     ]
    },
    {
     "name": "stdout",
     "output_type": "stream",
     "text": [
      "SCORE:                                                                        \n",
      "16212.95705265411                                                             \n",
      "{'colsample_bytree': 0.8, 'gamma': 0.8, 'learning_rate': 0.17500000000000002, 'max_depth': 28, 'min_child_weight': 8.0, 'n_estimators': 5800, 'subsample': 0.9882276646091446}\n",
      " 24%|██▍       | 48/200 [01:39<13:55,  5.49s/it, best loss: 15400.34660744863]"
     ]
    },
    {
     "name": "stderr",
     "output_type": "stream",
     "text": [
      "/home/dylanpoh/anaconda3/envs/kagglehouse/lib/python3.7/site-packages/xgboost/core.py:587: FutureWarning: Series.base is deprecated and will be removed in a future version\n",
      "  if getattr(data, 'base', None) is not None and \\\n",
      "\n"
     ]
    },
    {
     "name": "stdout",
     "output_type": "stream",
     "text": [
      "SCORE:                                                                        \n",
      "16919.381089469178                                                            \n",
      "{'colsample_bytree': 0.6000000000000001, 'gamma': 0.6000000000000001, 'learning_rate': 0.2, 'max_depth': 18, 'min_child_weight': 9.0, 'n_estimators': 4800, 'subsample': 0.9066833138694145}\n",
      " 24%|██▍       | 49/200 [01:41<11:24,  4.54s/it, best loss: 15400.34660744863]"
     ]
    },
    {
     "name": "stderr",
     "output_type": "stream",
     "text": [
      "/home/dylanpoh/anaconda3/envs/kagglehouse/lib/python3.7/site-packages/xgboost/core.py:587: FutureWarning: Series.base is deprecated and will be removed in a future version\n",
      "  if getattr(data, 'base', None) is not None and \\\n",
      "\n"
     ]
    },
    {
     "name": "stdout",
     "output_type": "stream",
     "text": [
      "SCORE:                                                                        \n",
      "16646.919156678083                                                            \n",
      "{'colsample_bytree': 0.9500000000000001, 'gamma': 0.9500000000000001, 'learning_rate': 0.125, 'max_depth': 19, 'min_child_weight': 5.0, 'n_estimators': 6500, 'subsample': 0.8490295627878705}\n",
      " 25%|██▌       | 50/200 [01:43<09:04,  3.63s/it, best loss: 15400.34660744863]"
     ]
    },
    {
     "name": "stderr",
     "output_type": "stream",
     "text": [
      "/home/dylanpoh/anaconda3/envs/kagglehouse/lib/python3.7/site-packages/xgboost/core.py:587: FutureWarning: Series.base is deprecated and will be removed in a future version\n",
      "  if getattr(data, 'base', None) is not None and \\\n",
      "\n"
     ]
    },
    {
     "name": "stdout",
     "output_type": "stream",
     "text": [
      "SCORE:                                                                        \n",
      "15938.33203125                                                                \n",
      "{'colsample_bytree': 0.75, 'gamma': 1.0, 'learning_rate': 0.275, 'max_depth': 8, 'min_child_weight': 4.0, 'n_estimators': 3600, 'subsample': 0.8669233658972028}\n",
      " 26%|██▌       | 51/200 [01:45<08:14,  3.32s/it, best loss: 15400.34660744863]"
     ]
    },
    {
     "name": "stderr",
     "output_type": "stream",
     "text": [
      "/home/dylanpoh/anaconda3/envs/kagglehouse/lib/python3.7/site-packages/xgboost/core.py:587: FutureWarning: Series.base is deprecated and will be removed in a future version\n",
      "  if getattr(data, 'base', None) is not None and \\\n",
      "\n"
     ]
    },
    {
     "name": "stdout",
     "output_type": "stream",
     "text": [
      "SCORE:                                                                        \n",
      "17236.92937714041                                                             \n",
      "{'colsample_bytree': 0.7000000000000001, 'gamma': 0.8500000000000001, 'learning_rate': 0.225, 'max_depth': 16, 'min_child_weight': 6.0, 'n_estimators': 9800, 'subsample': 0.9250621568137304}\n",
      " 26%|██▌       | 52/200 [01:46<06:19,  2.56s/it, best loss: 15400.34660744863]"
     ]
    },
    {
     "name": "stderr",
     "output_type": "stream",
     "text": [
      "/home/dylanpoh/anaconda3/envs/kagglehouse/lib/python3.7/site-packages/xgboost/core.py:587: FutureWarning: Series.base is deprecated and will be removed in a future version\n",
      "  if getattr(data, 'base', None) is not None and \\\n",
      "\n"
     ]
    },
    {
     "name": "stdout",
     "output_type": "stream",
     "text": [
      "SCORE:                                                                        \n",
      "16799.612992294522                                                            \n",
      "{'colsample_bytree': 0.55, 'gamma': 0.8, 'learning_rate': 0.45, 'max_depth': 26, 'min_child_weight': 14.0, 'n_estimators': 3500, 'subsample': 0.8119058195072156}\n",
      " 26%|██▋       | 53/200 [01:47<05:01,  2.05s/it, best loss: 15400.34660744863]"
     ]
    },
    {
     "name": "stderr",
     "output_type": "stream",
     "text": [
      "/home/dylanpoh/anaconda3/envs/kagglehouse/lib/python3.7/site-packages/xgboost/core.py:587: FutureWarning: Series.base is deprecated and will be removed in a future version\n",
      "  if getattr(data, 'base', None) is not None and \\\n",
      "\n"
     ]
    },
    {
     "name": "stdout",
     "output_type": "stream",
     "text": [
      "SCORE:                                                                        \n",
      "19060.175321061644                                                            \n",
      "{'colsample_bytree': 0.65, 'gamma': 0.9500000000000001, 'learning_rate': 0.025, 'max_depth': 22, 'min_child_weight': 9.0, 'n_estimators': 7000, 'subsample': 0.9409642468640448}\n",
      " 27%|██▋       | 54/200 [01:48<03:50,  1.58s/it, best loss: 15400.34660744863]"
     ]
    },
    {
     "name": "stderr",
     "output_type": "stream",
     "text": [
      "/home/dylanpoh/anaconda3/envs/kagglehouse/lib/python3.7/site-packages/xgboost/core.py:587: FutureWarning: Series.base is deprecated and will be removed in a future version\n",
      "  if getattr(data, 'base', None) is not None and \\\n",
      "\n"
     ]
    },
    {
     "name": "stdout",
     "output_type": "stream",
     "text": [
      "SCORE:                                                                        \n",
      "15789.434781678083                                                            \n",
      "{'colsample_bytree': 0.8, 'gamma': 0.75, 'learning_rate': 0.35000000000000003, 'max_depth': 10, 'min_child_weight': 12.0, 'n_estimators': 6600, 'subsample': 0.9532976483315824}\n",
      " 28%|██▊       | 55/200 [01:56<09:07,  3.78s/it, best loss: 15400.34660744863]"
     ]
    },
    {
     "name": "stderr",
     "output_type": "stream",
     "text": [
      "/home/dylanpoh/anaconda3/envs/kagglehouse/lib/python3.7/site-packages/xgboost/core.py:587: FutureWarning: Series.base is deprecated and will be removed in a future version\n",
      "  if getattr(data, 'base', None) is not None and \\\n",
      "\n"
     ]
    },
    {
     "name": "stdout",
     "output_type": "stream",
     "text": [
      "SCORE:                                                                        \n",
      "18120.007641267122                                                            \n",
      "{'colsample_bytree': 0.5, 'gamma': 0.9, 'learning_rate': 0.0, 'max_depth': 17, 'min_child_weight': 10.0, 'n_estimators': 9500, 'subsample': 0.8908893816919319}\n",
      "SCORE:                                                                        \n",
      "178547.42328767123                                                            \n",
      "{'colsample_bytree': 1.0, 'gamma': 0.7000000000000001, 'learning_rate': 0.05, 'max_depth': 24, 'min_child_weight': 7.0, 'n_estimators': 7300, 'subsample': 0.9720593971020728}\n",
      " 28%|██▊       | 57/200 [01:57<04:49,  2.02s/it, best loss: 15400.34660744863]"
     ]
    },
    {
     "name": "stderr",
     "output_type": "stream",
     "text": [
      "/home/dylanpoh/anaconda3/envs/kagglehouse/lib/python3.7/site-packages/xgboost/core.py:587: FutureWarning: Series.base is deprecated and will be removed in a future version\n",
      "  if getattr(data, 'base', None) is not None and \\\n",
      "\n",
      "/home/dylanpoh/anaconda3/envs/kagglehouse/lib/python3.7/site-packages/xgboost/core.py:587: FutureWarning: Series.base is deprecated and will be removed in a future version\n",
      "  if getattr(data, 'base', None) is not None and \\\n",
      "\n"
     ]
    },
    {
     "name": "stdout",
     "output_type": "stream",
     "text": [
      "SCORE:                                                                        \n",
      "15916.858476027397                                                            \n",
      "{'colsample_bytree': 0.75, 'gamma': 0.5, 'learning_rate': 0.5, 'max_depth': 5, 'min_child_weight': 3.0, 'n_estimators': 5400, 'subsample': 0.9330713400338883}\n",
      " 29%|██▉       | 58/200 [02:02<06:47,  2.87s/it, best loss: 15400.34660744863]"
     ]
    },
    {
     "name": "stderr",
     "output_type": "stream",
     "text": [
      "/home/dylanpoh/anaconda3/envs/kagglehouse/lib/python3.7/site-packages/xgboost/core.py:587: FutureWarning: Series.base is deprecated and will be removed in a future version\n",
      "  if getattr(data, 'base', None) is not None and \\\n",
      "\n"
     ]
    },
    {
     "name": "stdout",
     "output_type": "stream",
     "text": [
      "SCORE:                                                                        \n",
      "19275.93869327911                                                             \n",
      "{'colsample_bytree': 0.9, 'gamma': 0.9, 'learning_rate': 0.125, 'max_depth': 12, 'min_child_weight': 1.0, 'n_estimators': 3200, 'subsample': 0.9033431437302257}\n",
      " 30%|██▉       | 59/200 [02:03<05:08,  2.19s/it, best loss: 15400.34660744863]"
     ]
    },
    {
     "name": "stderr",
     "output_type": "stream",
     "text": [
      "/home/dylanpoh/anaconda3/envs/kagglehouse/lib/python3.7/site-packages/xgboost/core.py:587: FutureWarning: Series.base is deprecated and will be removed in a future version\n",
      "  if getattr(data, 'base', None) is not None and \\\n",
      "\n"
     ]
    },
    {
     "name": "stdout",
     "output_type": "stream",
     "text": [
      "SCORE:                                                                        \n",
      "16855.891855736303                                                            \n",
      "{'colsample_bytree': 0.7000000000000001, 'gamma': 0.9500000000000001, 'learning_rate': 0.17500000000000002, 'max_depth': 23, 'min_child_weight': 2.0, 'n_estimators': 4500, 'subsample': 0.9816544504383933}\n",
      " 30%|███       | 60/200 [02:05<05:26,  2.33s/it, best loss: 15400.34660744863]"
     ]
    },
    {
     "name": "stderr",
     "output_type": "stream",
     "text": [
      "/home/dylanpoh/anaconda3/envs/kagglehouse/lib/python3.7/site-packages/xgboost/core.py:587: FutureWarning: Series.base is deprecated and will be removed in a future version\n",
      "  if getattr(data, 'base', None) is not None and \\\n",
      "\n"
     ]
    },
    {
     "name": "stdout",
     "output_type": "stream",
     "text": [
      "SCORE:                                                                        \n",
      "16504.84490582192                                                             \n",
      "{'colsample_bytree': 0.55, 'gamma': 0.65, 'learning_rate': 0.07500000000000001, 'max_depth': 25, 'min_child_weight': 4.0, 'n_estimators': 6900, 'subsample': 0.8587627276064562}\n",
      " 30%|███       | 61/200 [02:08<05:21,  2.32s/it, best loss: 15400.34660744863]"
     ]
    },
    {
     "name": "stderr",
     "output_type": "stream",
     "text": [
      "/home/dylanpoh/anaconda3/envs/kagglehouse/lib/python3.7/site-packages/xgboost/core.py:587: FutureWarning: Series.base is deprecated and will be removed in a future version\n",
      "  if getattr(data, 'base', None) is not None and \\\n",
      "\n"
     ]
    },
    {
     "name": "stdout",
     "output_type": "stream",
     "text": [
      "SCORE:                                                                        \n",
      "15778.655950342465                                                            \n",
      "{'colsample_bytree': 0.65, 'gamma': 1.0, 'learning_rate': 0.0, 'max_depth': 6, 'min_child_weight': 13.0, 'n_estimators': 5300, 'subsample': 0.8802196609337329}\n",
      "SCORE:                                                                        \n",
      "178547.42328767123                                                            \n",
      "{'colsample_bytree': 0.5, 'gamma': 0.8500000000000001, 'learning_rate': 0.1, 'max_depth': 21, 'min_child_weight': 5.0, 'n_estimators': 2500, 'subsample': 0.8321817456376517}\n",
      " 32%|███▏      | 63/200 [02:12<04:53,  2.14s/it, best loss: 15400.34660744863]"
     ]
    },
    {
     "name": "stderr",
     "output_type": "stream",
     "text": [
      "/home/dylanpoh/anaconda3/envs/kagglehouse/lib/python3.7/site-packages/xgboost/core.py:587: FutureWarning: Series.base is deprecated and will be removed in a future version\n",
      "  if getattr(data, 'base', None) is not None and \\\n",
      "\n",
      "/home/dylanpoh/anaconda3/envs/kagglehouse/lib/python3.7/site-packages/xgboost/core.py:587: FutureWarning: Series.base is deprecated and will be removed in a future version\n",
      "  if getattr(data, 'base', None) is not None and \\\n",
      "\n"
     ]
    },
    {
     "name": "stdout",
     "output_type": "stream",
     "text": [
      "SCORE:                                                                        \n",
      "15991.148961900684                                                            \n",
      "{'colsample_bytree': 0.6000000000000001, 'gamma': 1.0, 'learning_rate': 0.2, 'max_depth': 15, 'min_child_weight': 20.0, 'n_estimators': 9100, 'subsample': 0.9638277202332631}\n",
      " 32%|███▏      | 64/200 [02:14<04:28,  1.97s/it, best loss: 15400.34660744863]"
     ]
    },
    {
     "name": "stderr",
     "output_type": "stream",
     "text": [
      "/home/dylanpoh/anaconda3/envs/kagglehouse/lib/python3.7/site-packages/xgboost/core.py:587: FutureWarning: Series.base is deprecated and will be removed in a future version\n",
      "  if getattr(data, 'base', None) is not None and \\\n",
      "\n"
     ]
    },
    {
     "name": "stdout",
     "output_type": "stream",
     "text": [
      "SCORE:                                                                        \n",
      "17362.235605736303                                                            \n",
      "{'colsample_bytree': 0.55, 'gamma': 0.9500000000000001, 'learning_rate': 0.0, 'max_depth': 10, 'min_child_weight': 2.0, 'n_estimators': 7500, 'subsample': 0.9112554082584988}\n",
      "SCORE:                                                                        \n",
      "178547.42328767123                                                            \n",
      "{'colsample_bytree': 0.6000000000000001, 'gamma': 0.9500000000000001, 'learning_rate': 0.07500000000000001, 'max_depth': 10, 'min_child_weight': 2.0, 'n_estimators': 6300, 'subsample': 0.9136863366819231}\n",
      " 33%|███▎      | 66/200 [02:15<02:38,  1.18s/it, best loss: 15400.34660744863]"
     ]
    },
    {
     "name": "stderr",
     "output_type": "stream",
     "text": [
      "/home/dylanpoh/anaconda3/envs/kagglehouse/lib/python3.7/site-packages/xgboost/core.py:587: FutureWarning: Series.base is deprecated and will be removed in a future version\n",
      "  if getattr(data, 'base', None) is not None and \\\n",
      "\n",
      "/home/dylanpoh/anaconda3/envs/kagglehouse/lib/python3.7/site-packages/xgboost/core.py:587: FutureWarning: Series.base is deprecated and will be removed in a future version\n",
      "  if getattr(data, 'base', None) is not None and \\\n",
      "\n"
     ]
    },
    {
     "name": "stdout",
     "output_type": "stream",
     "text": [
      "SCORE:                                                                        \n",
      "15651.95881849315                                                             \n",
      "{'colsample_bytree': 0.55, 'gamma': 0.9, 'learning_rate': 0.05, 'max_depth': 10, 'min_child_weight': 1.0, 'n_estimators': 3000, 'subsample': 0.9237720675977771}\n",
      " 34%|███▎      | 67/200 [02:17<03:17,  1.49s/it, best loss: 15400.34660744863]"
     ]
    },
    {
     "name": "stderr",
     "output_type": "stream",
     "text": [
      "/home/dylanpoh/anaconda3/envs/kagglehouse/lib/python3.7/site-packages/xgboost/core.py:587: FutureWarning: Series.base is deprecated and will be removed in a future version\n",
      "  if getattr(data, 'base', None) is not None and \\\n",
      "\n"
     ]
    },
    {
     "name": "stdout",
     "output_type": "stream",
     "text": [
      "SCORE:                                                                        \n",
      "15669.746436215753                                                            \n",
      "{'colsample_bytree': 0.55, 'gamma': 1.0, 'learning_rate': 0.025, 'max_depth': 20, 'min_child_weight': 6.0, 'n_estimators': 8600, 'subsample': 0.898985441920002}\n",
      " 34%|███▍      | 68/200 [02:20<04:09,  1.89s/it, best loss: 15400.34660744863]"
     ]
    },
    {
     "name": "stderr",
     "output_type": "stream",
     "text": [
      "/home/dylanpoh/anaconda3/envs/kagglehouse/lib/python3.7/site-packages/xgboost/core.py:587: FutureWarning: Series.base is deprecated and will be removed in a future version\n",
      "  if getattr(data, 'base', None) is not None and \\\n",
      "\n"
     ]
    },
    {
     "name": "stdout",
     "output_type": "stream",
     "text": [
      "SCORE:                                                                        \n",
      "15522.117241010274                                                            \n",
      "{'colsample_bytree': 0.5, 'gamma': 1.0, 'learning_rate': 0.025, 'max_depth': 20, 'min_child_weight': 6.0, 'n_estimators': 8300, 'subsample': 0.9499607342596159}\n",
      " 34%|███▍      | 69/200 [02:25<05:57,  2.73s/it, best loss: 15400.34660744863]"
     ]
    },
    {
     "name": "stderr",
     "output_type": "stream",
     "text": [
      "/home/dylanpoh/anaconda3/envs/kagglehouse/lib/python3.7/site-packages/xgboost/core.py:587: FutureWarning: Series.base is deprecated and will be removed in a future version\n",
      "  if getattr(data, 'base', None) is not None and \\\n",
      "\n"
     ]
    },
    {
     "name": "stdout",
     "output_type": "stream",
     "text": [
      "SCORE:                                                                        \n",
      "15862.873052226027                                                            \n",
      "{'colsample_bytree': 0.65, 'gamma': 1.0, 'learning_rate': 0.025, 'max_depth': 20, 'min_child_weight': 8.0, 'n_estimators': 9900, 'subsample': 0.9368728747737867}\n",
      " 35%|███▌      | 70/200 [02:31<08:27,  3.90s/it, best loss: 15400.34660744863]"
     ]
    },
    {
     "name": "stderr",
     "output_type": "stream",
     "text": [
      "/home/dylanpoh/anaconda3/envs/kagglehouse/lib/python3.7/site-packages/xgboost/core.py:587: FutureWarning: Series.base is deprecated and will be removed in a future version\n",
      "  if getattr(data, 'base', None) is not None and \\\n",
      "\n"
     ]
    },
    {
     "name": "stdout",
     "output_type": "stream",
     "text": [
      "SCORE:                                                                        \n",
      "15932.905993150685                                                            \n",
      "{'colsample_bytree': 0.6000000000000001, 'gamma': 0.9, 'learning_rate': 0.0, 'max_depth': 20, 'min_child_weight': 9.0, 'n_estimators': 7700, 'subsample': 0.8991104748983346}\n",
      "SCORE:                                                                        \n",
      "178547.42328767123                                                            \n",
      "{'colsample_bytree': 0.7000000000000001, 'gamma': 0.9500000000000001, 'learning_rate': 0.15000000000000002, 'max_depth': 17, 'min_child_weight': 11.0, 'n_estimators': 8600, 'subsample': 0.8102357183433273}\n",
      " 36%|███▌      | 72/200 [02:38<07:14,  3.40s/it, best loss: 15400.34660744863]"
     ]
    },
    {
     "name": "stderr",
     "output_type": "stream",
     "text": [
      "/home/dylanpoh/anaconda3/envs/kagglehouse/lib/python3.7/site-packages/xgboost/core.py:587: FutureWarning: Series.base is deprecated and will be removed in a future version\n",
      "  if getattr(data, 'base', None) is not None and \\\n",
      "\n",
      "/home/dylanpoh/anaconda3/envs/kagglehouse/lib/python3.7/site-packages/xgboost/core.py:587: FutureWarning: Series.base is deprecated and will be removed in a future version\n",
      "  if getattr(data, 'base', None) is not None and \\\n",
      "\n"
     ]
    },
    {
     "name": "stdout",
     "output_type": "stream",
     "text": [
      "SCORE:                                                                        \n",
      "16464.438602311642                                                            \n",
      "{'colsample_bytree': 0.5, 'gamma': 1.0, 'learning_rate': 0.05, 'max_depth': 11, 'min_child_weight': 7.0, 'n_estimators': 1400, 'subsample': 0.8918137601361443}\n",
      " 36%|███▋      | 73/200 [02:40<06:02,  2.86s/it, best loss: 15400.34660744863]"
     ]
    },
    {
     "name": "stderr",
     "output_type": "stream",
     "text": [
      "/home/dylanpoh/anaconda3/envs/kagglehouse/lib/python3.7/site-packages/xgboost/core.py:587: FutureWarning: Series.base is deprecated and will be removed in a future version\n",
      "  if getattr(data, 'base', None) is not None and \\\n",
      "\n"
     ]
    },
    {
     "name": "stdout",
     "output_type": "stream",
     "text": [
      "SCORE:                                                                        \n",
      "15658.912392979451                                                            \n",
      "{'colsample_bytree': 0.65, 'gamma': 0.9500000000000001, 'learning_rate': 0.0, 'max_depth': 14, 'min_child_weight': 3.0, 'n_estimators': 3800, 'subsample': 0.8007441151142236}\n",
      "SCORE:                                                                        \n",
      "178547.42328767123                                                            \n",
      " 38%|███▊      | 75/200 [02:42<03:48,  1.83s/it, best loss: 15400.34660744863]"
     ]
    },
    {
     "name": "stderr",
     "output_type": "stream",
     "text": [
      "/home/dylanpoh/anaconda3/envs/kagglehouse/lib/python3.7/site-packages/xgboost/core.py:587: FutureWarning: Series.base is deprecated and will be removed in a future version\n",
      "  if getattr(data, 'base', None) is not None and \\\n",
      "\n"
     ]
    },
    {
     "name": "stdout",
     "output_type": "stream",
     "text": [
      "{'colsample_bytree': 0.55, 'gamma': 0.8500000000000001, 'learning_rate': 0.1, 'max_depth': 27, 'min_child_weight': 4.0, 'n_estimators': 8100, 'subsample': 0.8691053231063072}\n",
      " 38%|███▊      | 75/200 [02:42<03:48,  1.83s/it, best loss: 15400.34660744863]"
     ]
    },
    {
     "name": "stderr",
     "output_type": "stream",
     "text": [
      "/home/dylanpoh/anaconda3/envs/kagglehouse/lib/python3.7/site-packages/xgboost/core.py:587: FutureWarning: Series.base is deprecated and will be removed in a future version\n",
      "  if getattr(data, 'base', None) is not None and \\\n",
      "\n"
     ]
    },
    {
     "name": "stdout",
     "output_type": "stream",
     "text": [
      "SCORE:                                                                        \n",
      "16227.59747431507                                                             \n",
      "{'colsample_bytree': 0.6000000000000001, 'gamma': 0.6000000000000001, 'learning_rate': 0.07500000000000001, 'max_depth': 9, 'min_child_weight': 6.0, 'n_estimators': 7100, 'subsample': 0.844096431741175}\n",
      " 38%|███▊      | 76/200 [02:44<03:57,  1.92s/it, best loss: 15400.34660744863]"
     ]
    },
    {
     "name": "stderr",
     "output_type": "stream",
     "text": [
      "/home/dylanpoh/anaconda3/envs/kagglehouse/lib/python3.7/site-packages/xgboost/core.py:587: FutureWarning: Series.base is deprecated and will be removed in a future version\n",
      "  if getattr(data, 'base', None) is not None and \\\n",
      "\n"
     ]
    },
    {
     "name": "stdout",
     "output_type": "stream",
     "text": [
      "SCORE:                                                                        \n",
      "16084.081710188357                                                            \n",
      "{'colsample_bytree': 0.5, 'gamma': 0.9, 'learning_rate': 0.125, 'max_depth': 13, 'min_child_weight': 14.0, 'n_estimators': 4100, 'subsample': 0.8533605993368254}\n",
      " 38%|███▊      | 77/200 [02:45<03:36,  1.76s/it, best loss: 15400.34660744863]"
     ]
    },
    {
     "name": "stderr",
     "output_type": "stream",
     "text": [
      "/home/dylanpoh/anaconda3/envs/kagglehouse/lib/python3.7/site-packages/xgboost/core.py:587: FutureWarning: Series.base is deprecated and will be removed in a future version\n",
      "  if getattr(data, 'base', None) is not None and \\\n",
      "\n"
     ]
    },
    {
     "name": "stdout",
     "output_type": "stream",
     "text": [
      "SCORE:                                                                        \n",
      "16118.331100171234                                                            \n",
      "{'colsample_bytree': 0.7000000000000001, 'gamma': 1.0, 'learning_rate': 0.0, 'max_depth': 29, 'min_child_weight': 5.0, 'n_estimators': 7800, 'subsample': 0.8859291596620105}\n",
      "SCORE:                                                                        \n",
      "178547.42328767123                                                            \n",
      " 40%|███▉      | 79/200 [02:47<02:23,  1.18s/it, best loss: 15400.34660744863]"
     ]
    },
    {
     "name": "stderr",
     "output_type": "stream",
     "text": [
      "/home/dylanpoh/anaconda3/envs/kagglehouse/lib/python3.7/site-packages/xgboost/core.py:587: FutureWarning: Series.base is deprecated and will be removed in a future version\n",
      "  if getattr(data, 'base', None) is not None and \\\n",
      "\n"
     ]
    },
    {
     "name": "stdout",
     "output_type": "stream",
     "text": [
      "{'colsample_bytree': 0.55, 'gamma': 1.0, 'learning_rate': 0.1, 'max_depth': 28, 'min_child_weight': 10.0, 'n_estimators': 5100, 'subsample': 0.9917381623665825}\n",
      " 40%|███▉      | 79/200 [02:47<02:23,  1.18s/it, best loss: 15400.34660744863]"
     ]
    },
    {
     "name": "stderr",
     "output_type": "stream",
     "text": [
      "/home/dylanpoh/anaconda3/envs/kagglehouse/lib/python3.7/site-packages/xgboost/core.py:587: FutureWarning: Series.base is deprecated and will be removed in a future version\n",
      "  if getattr(data, 'base', None) is not None and \\\n",
      "\n"
     ]
    },
    {
     "name": "stdout",
     "output_type": "stream",
     "text": [
      "SCORE:                                                                        \n",
      "16703.294809503426                                                            \n",
      "{'colsample_bytree': 0.6000000000000001, 'gamma': 0.8, 'learning_rate': 0.025, 'max_depth': 7, 'min_child_weight': 7.0, 'n_estimators': 5900, 'subsample': 0.8182456645807117}\n",
      " 40%|████      | 80/200 [02:49<02:46,  1.39s/it, best loss: 15400.34660744863]"
     ]
    },
    {
     "name": "stderr",
     "output_type": "stream",
     "text": [
      "/home/dylanpoh/anaconda3/envs/kagglehouse/lib/python3.7/site-packages/xgboost/core.py:587: FutureWarning: Series.base is deprecated and will be removed in a future version\n",
      "  if getattr(data, 'base', None) is not None and \\\n",
      "\n"
     ]
    },
    {
     "name": "stdout",
     "output_type": "stream",
     "text": [
      "SCORE:                                                                        \n",
      "16011.787146832192                                                            \n",
      "{'colsample_bytree': 0.65, 'gamma': 0.9, 'learning_rate': 0.05, 'max_depth': 18, 'min_child_weight': 8.0, 'n_estimators': 1800, 'subsample': 0.9610693587693131}\n",
      " 40%|████      | 81/200 [02:51<03:36,  1.82s/it, best loss: 15400.34660744863]"
     ]
    },
    {
     "name": "stderr",
     "output_type": "stream",
     "text": [
      "/home/dylanpoh/anaconda3/envs/kagglehouse/lib/python3.7/site-packages/xgboost/core.py:587: FutureWarning: Series.base is deprecated and will be removed in a future version\n",
      "  if getattr(data, 'base', None) is not None and \\\n",
      "\n"
     ]
    },
    {
     "name": "stdout",
     "output_type": "stream",
     "text": [
      "SCORE:                                                                        \n",
      "15921.298876284247                                                            \n",
      "{'colsample_bytree': 0.65, 'gamma': 0.9500000000000001, 'learning_rate': 0.30000000000000004, 'max_depth': 8, 'min_child_weight': 4.0, 'n_estimators': 9700, 'subsample': 0.8617289074375757}\n",
      " 41%|████      | 82/200 [02:55<04:27,  2.27s/it, best loss: 15400.34660744863]"
     ]
    },
    {
     "name": "stderr",
     "output_type": "stream",
     "text": [
      "/home/dylanpoh/anaconda3/envs/kagglehouse/lib/python3.7/site-packages/xgboost/core.py:587: FutureWarning: Series.base is deprecated and will be removed in a future version\n",
      "  if getattr(data, 'base', None) is not None and \\\n",
      "\n"
     ]
    },
    {
     "name": "stdout",
     "output_type": "stream",
     "text": [
      "SCORE:                                                                        \n",
      "18555.131239297945                                                            \n",
      "{'colsample_bytree': 0.6000000000000001, 'gamma': 0.75, 'learning_rate': 0.42500000000000004, 'max_depth': 19, 'min_child_weight': 5.0, 'n_estimators': 2000, 'subsample': 0.9290286320522657}\n",
      " 42%|████▏     | 83/200 [02:55<03:23,  1.74s/it, best loss: 15400.34660744863]"
     ]
    },
    {
     "name": "stderr",
     "output_type": "stream",
     "text": [
      "/home/dylanpoh/anaconda3/envs/kagglehouse/lib/python3.7/site-packages/xgboost/core.py:587: FutureWarning: Series.base is deprecated and will be removed in a future version\n",
      "  if getattr(data, 'base', None) is not None and \\\n",
      "\n"
     ]
    },
    {
     "name": "stdout",
     "output_type": "stream",
     "text": [
      "SCORE:                                                                        \n",
      "18442.220098458904                                                            \n",
      "{'colsample_bytree': 0.5, 'gamma': 0.8500000000000001, 'learning_rate': 0.07500000000000001, 'max_depth': 16, 'min_child_weight': 3.0, 'n_estimators': 3100, 'subsample': 0.8734051266915709}\n",
      " 42%|████▏     | 84/200 [02:56<02:53,  1.49s/it, best loss: 15400.34660744863]"
     ]
    },
    {
     "name": "stderr",
     "output_type": "stream",
     "text": [
      "/home/dylanpoh/anaconda3/envs/kagglehouse/lib/python3.7/site-packages/xgboost/core.py:587: FutureWarning: Series.base is deprecated and will be removed in a future version\n",
      "  if getattr(data, 'base', None) is not None and \\\n",
      "\n"
     ]
    },
    {
     "name": "stdout",
     "output_type": "stream",
     "text": [
      "SCORE:                                                                        \n",
      "15650.031763698631                                                            \n",
      "{'colsample_bytree': 0.55, 'gamma': 1.0, 'learning_rate': 0.25, 'max_depth': 17, 'min_child_weight': 9.0, 'n_estimators': 1200, 'subsample': 0.8231669706606035}\n",
      " 42%|████▎     | 85/200 [02:58<03:10,  1.65s/it, best loss: 15400.34660744863]"
     ]
    },
    {
     "name": "stderr",
     "output_type": "stream",
     "text": [
      "/home/dylanpoh/anaconda3/envs/kagglehouse/lib/python3.7/site-packages/xgboost/core.py:587: FutureWarning: Series.base is deprecated and will be removed in a future version\n",
      "  if getattr(data, 'base', None) is not None and \\\n",
      "\n"
     ]
    },
    {
     "name": "stdout",
     "output_type": "stream",
     "text": [
      "SCORE:                                                                        \n",
      "17977.911151541095                                                            \n",
      "{'colsample_bytree': 0.7000000000000001, 'gamma': 0.9500000000000001, 'learning_rate': 0.225, 'max_depth': 26, 'min_child_weight': 11.0, 'n_estimators': 1700, 'subsample': 0.9364623247673624}\n",
      " 43%|████▎     | 86/200 [02:59<02:47,  1.47s/it, best loss: 15400.34660744863]"
     ]
    },
    {
     "name": "stderr",
     "output_type": "stream",
     "text": [
      "/home/dylanpoh/anaconda3/envs/kagglehouse/lib/python3.7/site-packages/xgboost/core.py:587: FutureWarning: Series.base is deprecated and will be removed in a future version\n",
      "  if getattr(data, 'base', None) is not None and \\\n",
      "\n"
     ]
    },
    {
     "name": "stdout",
     "output_type": "stream",
     "text": [
      "SCORE:                                                                        \n",
      "16642.460284674657                                                            \n",
      "{'colsample_bytree': 0.6000000000000001, 'gamma': 0.8, 'learning_rate': 0.15000000000000002, 'max_depth': 20, 'min_child_weight': 6.0, 'n_estimators': 8800, 'subsample': 0.9201735818431157}\n",
      " 44%|████▎     | 87/200 [03:00<02:31,  1.34s/it, best loss: 15400.34660744863]"
     ]
    },
    {
     "name": "stderr",
     "output_type": "stream",
     "text": [
      "/home/dylanpoh/anaconda3/envs/kagglehouse/lib/python3.7/site-packages/xgboost/core.py:587: FutureWarning: Series.base is deprecated and will be removed in a future version\n",
      "  if getattr(data, 'base', None) is not None and \\\n",
      "\n"
     ]
    },
    {
     "name": "stdout",
     "output_type": "stream",
     "text": [
      "SCORE:                                                                        \n",
      "15827.614907962328                                                            \n",
      "{'colsample_bytree': 0.5, 'gamma': 0.7000000000000001, 'learning_rate': 0.025, 'max_depth': 5, 'min_child_weight': 15.0, 'n_estimators': 4700, 'subsample': 0.851191688163859}\n",
      " 44%|████▍     | 88/200 [03:02<02:38,  1.42s/it, best loss: 15400.34660744863]"
     ]
    },
    {
     "name": "stderr",
     "output_type": "stream",
     "text": [
      "/home/dylanpoh/anaconda3/envs/kagglehouse/lib/python3.7/site-packages/xgboost/core.py:587: FutureWarning: Series.base is deprecated and will be removed in a future version\n",
      "  if getattr(data, 'base', None) is not None and \\\n",
      "\n"
     ]
    },
    {
     "name": "stdout",
     "output_type": "stream",
     "text": [
      "SCORE:                                                                        \n",
      "16186.795216181506                                                            \n",
      "{'colsample_bytree': 0.75, 'gamma': 1.0, 'learning_rate': 0.0, 'max_depth': 24, 'min_child_weight': 8.0, 'n_estimators': 4200, 'subsample': 0.9499878988224294}\n",
      "SCORE:                                                                        \n",
      "178547.42328767123                                                            \n",
      " 45%|████▌     | 90/200 [03:04<02:00,  1.09s/it, best loss: 15400.34660744863]"
     ]
    },
    {
     "name": "stderr",
     "output_type": "stream",
     "text": [
      "/home/dylanpoh/anaconda3/envs/kagglehouse/lib/python3.7/site-packages/xgboost/core.py:587: FutureWarning: Series.base is deprecated and will be removed in a future version\n",
      "  if getattr(data, 'base', None) is not None and \\\n",
      "\n"
     ]
    },
    {
     "name": "stdout",
     "output_type": "stream",
     "text": [
      "{'colsample_bytree': 0.8, 'gamma': 0.65, 'learning_rate': 0.0, 'max_depth': 23, 'min_child_weight': 1.0, 'n_estimators': 4000, 'subsample': 0.8834262661168938}\n",
      "SCORE:                                                                        \n",
      "178547.42328767123                                                            \n",
      " 46%|████▌     | 91/200 [03:04<01:31,  1.19it/s, best loss: 15400.34660744863]"
     ]
    },
    {
     "name": "stderr",
     "output_type": "stream",
     "text": [
      "/home/dylanpoh/anaconda3/envs/kagglehouse/lib/python3.7/site-packages/xgboost/core.py:587: FutureWarning: Series.base is deprecated and will be removed in a future version\n",
      "  if getattr(data, 'base', None) is not None and \\\n",
      "\n"
     ]
    },
    {
     "name": "stdout",
     "output_type": "stream",
     "text": [
      "{'colsample_bytree': 0.65, 'gamma': 0.9500000000000001, 'learning_rate': 0.0, 'max_depth': 25, 'min_child_weight': 4.0, 'n_estimators': 4900, 'subsample': 0.8408405093248241}\n",
      "SCORE:                                                                        \n",
      "178547.42328767123                                                            \n",
      "{'colsample_bytree': 0.55, 'gamma': 0.8500000000000001, 'learning_rate': 0.0, 'max_depth': 12, 'min_child_weight': 3.0, 'n_estimators': 7400, 'subsample': 0.907887894732431}\n",
      " 46%|████▌     | 92/200 [03:04<01:10,  1.54it/s, best loss: 15400.34660744863]"
     ]
    },
    {
     "name": "stderr",
     "output_type": "stream",
     "text": [
      "/home/dylanpoh/anaconda3/envs/kagglehouse/lib/python3.7/site-packages/xgboost/core.py:587: FutureWarning: Series.base is deprecated and will be removed in a future version\n",
      "  if getattr(data, 'base', None) is not None and \\\n",
      "\n"
     ]
    },
    {
     "name": "stdout",
     "output_type": "stream",
     "text": [
      "SCORE:                                                                        \n",
      "178547.42328767123                                                            \n",
      "{'colsample_bytree': 0.9, 'gamma': 0.9, 'learning_rate': 0.2, 'max_depth': 22, 'min_child_weight': 7.0, 'n_estimators': 6700, 'subsample': 0.831688157149334}\n",
      " 46%|████▋     | 93/200 [03:04<00:55,  1.94it/s, best loss: 15400.34660744863]"
     ]
    },
    {
     "name": "stderr",
     "output_type": "stream",
     "text": [
      "/home/dylanpoh/anaconda3/envs/kagglehouse/lib/python3.7/site-packages/xgboost/core.py:587: FutureWarning: Series.base is deprecated and will be removed in a future version\n",
      "  if getattr(data, 'base', None) is not None and \\\n",
      "\n",
      "/home/dylanpoh/anaconda3/envs/kagglehouse/lib/python3.7/site-packages/xgboost/core.py:587: FutureWarning: Series.base is deprecated and will be removed in a future version\n",
      "  if getattr(data, 'base', None) is not None and \\\n",
      "\n"
     ]
    },
    {
     "name": "stdout",
     "output_type": "stream",
     "text": [
      "SCORE:                                                                        \n",
      "17169.8212114726                                                              \n",
      "{'colsample_bytree': 0.6000000000000001, 'gamma': 1.0, 'learning_rate': 0.30000000000000004, 'max_depth': 6, 'min_child_weight': 12.0, 'n_estimators': 3900, 'subsample': 0.9014054356037371}\n",
      " 47%|████▋     | 94/200 [03:06<01:33,  1.13it/s, best loss: 15400.34660744863]"
     ]
    },
    {
     "name": "stderr",
     "output_type": "stream",
     "text": [
      "/home/dylanpoh/anaconda3/envs/kagglehouse/lib/python3.7/site-packages/xgboost/core.py:587: FutureWarning: Series.base is deprecated and will be removed in a future version\n",
      "  if getattr(data, 'base', None) is not None and \\\n",
      "\n"
     ]
    },
    {
     "name": "stdout",
     "output_type": "stream",
     "text": [
      "SCORE:                                                                        \n",
      "18342.229837328767                                                            \n",
      "{'colsample_bytree': 0.7000000000000001, 'gamma': 0.9500000000000001, 'learning_rate': 0.125, 'max_depth': 21, 'min_child_weight': 2.0, 'n_estimators': 4400, 'subsample': 0.8950535533877124}\n",
      " 48%|████▊     | 95/200 [03:06<01:15,  1.40it/s, best loss: 15400.34660744863]"
     ]
    },
    {
     "name": "stderr",
     "output_type": "stream",
     "text": [
      "/home/dylanpoh/anaconda3/envs/kagglehouse/lib/python3.7/site-packages/xgboost/core.py:587: FutureWarning: Series.base is deprecated and will be removed in a future version\n",
      "  if getattr(data, 'base', None) is not None and \\\n",
      "\n"
     ]
    },
    {
     "name": "stdout",
     "output_type": "stream",
     "text": [
      "SCORE:                                                                        \n",
      "16841.063623715752                                                            \n",
      "{'colsample_bytree': 0.5, 'gamma': 0.9, 'learning_rate': 0.0, 'max_depth': 17, 'min_child_weight': 10.0, 'n_estimators': 7900, 'subsample': 0.8799185493927933}\n",
      "SCORE:                                                                        \n",
      "178547.42328767123                                                            \n",
      " 48%|████▊     | 97/200 [03:12<02:39,  1.55s/it, best loss: 15400.34660744863]"
     ]
    },
    {
     "name": "stderr",
     "output_type": "stream",
     "text": [
      "/home/dylanpoh/anaconda3/envs/kagglehouse/lib/python3.7/site-packages/xgboost/core.py:587: FutureWarning: Series.base is deprecated and will be removed in a future version\n",
      "  if getattr(data, 'base', None) is not None and \\\n",
      "\n"
     ]
    },
    {
     "name": "stdout",
     "output_type": "stream",
     "text": [
      "{'colsample_bytree': 0.55, 'gamma': 0.75, 'learning_rate': 0.05, 'max_depth': 15, 'min_child_weight': 5.0, 'n_estimators': 7200, 'subsample': 0.968239751986257}\n",
      " 48%|████▊     | 97/200 [03:12<02:39,  1.55s/it, best loss: 15400.34660744863]"
     ]
    },
    {
     "name": "stderr",
     "output_type": "stream",
     "text": [
      "/home/dylanpoh/anaconda3/envs/kagglehouse/lib/python3.7/site-packages/xgboost/core.py:587: FutureWarning: Series.base is deprecated and will be removed in a future version\n",
      "  if getattr(data, 'base', None) is not None and \\\n",
      "\n"
     ]
    },
    {
     "name": "stdout",
     "output_type": "stream",
     "text": [
      "SCORE:                                                                        \n",
      "15577.24163099315                                                             \n",
      "{'colsample_bytree': 0.65, 'gamma': 0.9500000000000001, 'learning_rate': 0.0, 'max_depth': 11, 'min_child_weight': 1.0, 'n_estimators': 6100, 'subsample': 0.9300798451244341}\n",
      "SCORE:                                                                        \n",
      "178547.42328767123                                                            \n",
      " 50%|████▉     | 99/200 [03:16<02:55,  1.74s/it, best loss: 15400.34660744863]"
     ]
    },
    {
     "name": "stderr",
     "output_type": "stream",
     "text": [
      "/home/dylanpoh/anaconda3/envs/kagglehouse/lib/python3.7/site-packages/xgboost/core.py:587: FutureWarning: Series.base is deprecated and will be removed in a future version\n",
      "  if getattr(data, 'base', None) is not None and \\\n",
      "\n"
     ]
    },
    {
     "name": "stdout",
     "output_type": "stream",
     "text": [
      "{'colsample_bytree': 0.75, 'gamma': 1.0, 'learning_rate': 0.15000000000000002, 'max_depth': 27, 'min_child_weight': 6.0, 'n_estimators': 8900, 'subsample': 0.982266720511552}\n",
      " 50%|████▉     | 99/200 [03:17<02:55,  1.74s/it, best loss: 15400.34660744863]"
     ]
    },
    {
     "name": "stderr",
     "output_type": "stream",
     "text": [
      "/home/dylanpoh/anaconda3/envs/kagglehouse/lib/python3.7/site-packages/xgboost/core.py:587: FutureWarning: Series.base is deprecated and will be removed in a future version\n",
      "  if getattr(data, 'base', None) is not None and \\\n",
      "\n"
     ]
    },
    {
     "name": "stdout",
     "output_type": "stream",
     "text": [
      "SCORE:                                                                        \n",
      "16517.11723030822                                                             \n",
      "{'colsample_bytree': 0.6000000000000001, 'gamma': 0.5, 'learning_rate': 0.0, 'max_depth': 20, 'min_child_weight': 18.0, 'n_estimators': 9300, 'subsample': 0.9162269880153381}\n",
      "SCORE:                                                                         \n",
      "178547.42328767123                                                             \n",
      "{'colsample_bytree': 0.7000000000000001, 'gamma': 0.8, 'learning_rate': 0.17500000000000002, 'max_depth': 14, 'min_child_weight': 13.0, 'n_estimators': 1900, 'subsample': 0.940245636777822}\n",
      " 50%|█████     | 101/200 [03:18<02:06,  1.28s/it, best loss: 15400.34660744863]"
     ]
    },
    {
     "name": "stderr",
     "output_type": "stream",
     "text": [
      "/home/dylanpoh/anaconda3/envs/kagglehouse/lib/python3.7/site-packages/xgboost/core.py:587: FutureWarning: Series.base is deprecated and will be removed in a future version\n",
      "  if getattr(data, 'base', None) is not None and \\\n",
      "\n",
      "/home/dylanpoh/anaconda3/envs/kagglehouse/lib/python3.7/site-packages/xgboost/core.py:587: FutureWarning: Series.base is deprecated and will be removed in a future version\n",
      "  if getattr(data, 'base', None) is not None and \\\n",
      "\n"
     ]
    },
    {
     "name": "stdout",
     "output_type": "stream",
     "text": [
      "SCORE:                                                                         \n",
      "16721.934974315067                                                             \n",
      "{'colsample_bytree': 0.8500000000000001, 'gamma': 0.9, 'learning_rate': 0.0, 'max_depth': 9, 'min_child_weight': 4.0, 'n_estimators': 1300, 'subsample': 0.9263486275854556}\n",
      "SCORE:                                                                         \n",
      "178547.42328767123                                                             \n",
      " 52%|█████▏    | 103/200 [03:20<01:26,  1.12it/s, best loss: 15400.34660744863]"
     ]
    },
    {
     "name": "stderr",
     "output_type": "stream",
     "text": [
      "/home/dylanpoh/anaconda3/envs/kagglehouse/lib/python3.7/site-packages/xgboost/core.py:587: FutureWarning: Series.base is deprecated and will be removed in a future version\n",
      "  if getattr(data, 'base', None) is not None and \\\n",
      "\n"
     ]
    },
    {
     "name": "stdout",
     "output_type": "stream",
     "text": [
      "{'colsample_bytree': 0.55, 'gamma': 1.0, 'learning_rate': 0.1, 'max_depth': 29, 'min_child_weight': 9.0, 'n_estimators': 8400, 'subsample': 0.9581505300347923}\n",
      " 52%|█████▏    | 103/200 [03:20<01:26,  1.12it/s, best loss: 15400.34660744863]"
     ]
    },
    {
     "name": "stderr",
     "output_type": "stream",
     "text": [
      "/home/dylanpoh/anaconda3/envs/kagglehouse/lib/python3.7/site-packages/xgboost/core.py:587: FutureWarning: Series.base is deprecated and will be removed in a future version\n",
      "  if getattr(data, 'base', None) is not None and \\\n",
      "\n"
     ]
    },
    {
     "name": "stdout",
     "output_type": "stream",
     "text": [
      "SCORE:                                                                         \n",
      "16180.001701626712                                                             \n",
      "{'colsample_bytree': 0.5, 'gamma': 0.8500000000000001, 'learning_rate': 0.025, 'max_depth': 13, 'min_child_weight': 7.0, 'n_estimators': 2300, 'subsample': 0.910785399895781}\n",
      " 52%|█████▏    | 104/200 [03:21<01:45,  1.09s/it, best loss: 15400.34660744863]"
     ]
    },
    {
     "name": "stderr",
     "output_type": "stream",
     "text": [
      "/home/dylanpoh/anaconda3/envs/kagglehouse/lib/python3.7/site-packages/xgboost/core.py:587: FutureWarning: Series.base is deprecated and will be removed in a future version\n",
      "  if getattr(data, 'base', None) is not None and \\\n",
      "\n"
     ]
    },
    {
     "name": "stdout",
     "output_type": "stream",
     "text": [
      "SCORE:                                                                         \n",
      "15876.333946917808                                                             \n",
      "{'colsample_bytree': 0.65, 'gamma': 0.9500000000000001, 'learning_rate': 0.0, 'max_depth': 10, 'min_child_weight': 3.0, 'n_estimators': 9000, 'subsample': 0.812627022737136}\n",
      "SCORE:                                                                         \n",
      "178547.42328767123                                                             \n",
      "{'colsample_bytree': 0.6000000000000001, 'gamma': 0.9, 'learning_rate': 0.375, 'max_depth': 28, 'min_child_weight': 2.0, 'n_estimators': 8600, 'subsample': 0.9997211054740237}\n",
      " 53%|█████▎    | 106/200 [03:25<02:10,  1.39s/it, best loss: 15400.34660744863]"
     ]
    },
    {
     "name": "stderr",
     "output_type": "stream",
     "text": [
      "/home/dylanpoh/anaconda3/envs/kagglehouse/lib/python3.7/site-packages/xgboost/core.py:587: FutureWarning: Series.base is deprecated and will be removed in a future version\n",
      "  if getattr(data, 'base', None) is not None and \\\n",
      "\n",
      "/home/dylanpoh/anaconda3/envs/kagglehouse/lib/python3.7/site-packages/xgboost/core.py:587: FutureWarning: Series.base is deprecated and will be removed in a future version\n",
      "  if getattr(data, 'base', None) is not None and \\\n",
      "\n"
     ]
    },
    {
     "name": "stdout",
     "output_type": "stream",
     "text": [
      "SCORE:                                                                         \n",
      "19740.044477739724                                                             \n",
      "{'colsample_bytree': 0.5, 'gamma': 0.55, 'learning_rate': 0.07500000000000001, 'max_depth': 18, 'min_child_weight': 5.0, 'n_estimators': 6400, 'subsample': 0.888899635234966}\n",
      " 54%|█████▎    | 107/200 [03:28<02:45,  1.78s/it, best loss: 15400.34660744863]"
     ]
    },
    {
     "name": "stderr",
     "output_type": "stream",
     "text": [
      "/home/dylanpoh/anaconda3/envs/kagglehouse/lib/python3.7/site-packages/xgboost/core.py:587: FutureWarning: Series.base is deprecated and will be removed in a future version\n",
      "  if getattr(data, 'base', None) is not None and \\\n",
      "\n"
     ]
    },
    {
     "name": "stdout",
     "output_type": "stream",
     "text": [
      "SCORE:                                                                         \n",
      "15371.609942208905                                                             \n",
      "{'colsample_bytree': 0.5, 'gamma': 0.6000000000000001, 'learning_rate': 0.17500000000000002, 'max_depth': 18, 'min_child_weight': 1.0, 'n_estimators': 2700, 'subsample': 0.8773371142950056}\n",
      " 54%|█████▍    | 108/200 [03:31<03:29,  2.28s/it, best loss: 15371.609942208905]"
     ]
    },
    {
     "name": "stderr",
     "output_type": "stream",
     "text": [
      "/home/dylanpoh/anaconda3/envs/kagglehouse/lib/python3.7/site-packages/xgboost/core.py:587: FutureWarning: Series.base is deprecated and will be removed in a future version\n",
      "  if getattr(data, 'base', None) is not None and \\\n",
      "\n"
     ]
    },
    {
     "name": "stdout",
     "output_type": "stream",
     "text": [
      "SCORE:                                                                          \n",
      "16778.888516695206                                                              \n",
      "{'colsample_bytree': 0.5, 'gamma': 0.55, 'learning_rate': 0.07500000000000001, 'max_depth': 7, 'min_child_weight': 8.0, 'n_estimators': 8700, 'subsample': 0.8640846578883585}\n",
      " 55%|█████▍    | 109/200 [03:33<03:23,  2.23s/it, best loss: 15371.609942208905]"
     ]
    },
    {
     "name": "stderr",
     "output_type": "stream",
     "text": [
      "/home/dylanpoh/anaconda3/envs/kagglehouse/lib/python3.7/site-packages/xgboost/core.py:587: FutureWarning: Series.base is deprecated and will be removed in a future version\n",
      "  if getattr(data, 'base', None) is not None and \\\n",
      "\n"
     ]
    },
    {
     "name": "stdout",
     "output_type": "stream",
     "text": [
      "SCORE:                                                                          \n",
      "15606.37035530822                                                               \n",
      "{'colsample_bytree': 0.55, 'gamma': 0.65, 'learning_rate': 0.1, 'max_depth': 18, 'min_child_weight': 5.0, 'n_estimators': 6400, 'subsample': 0.8566694015753623}\n",
      " 55%|█████▌    | 110/200 [03:34<02:45,  1.84s/it, best loss: 15371.609942208905]"
     ]
    },
    {
     "name": "stderr",
     "output_type": "stream",
     "text": [
      "/home/dylanpoh/anaconda3/envs/kagglehouse/lib/python3.7/site-packages/xgboost/core.py:587: FutureWarning: Series.base is deprecated and will be removed in a future version\n",
      "  if getattr(data, 'base', None) is not None and \\\n",
      "\n"
     ]
    },
    {
     "name": "stdout",
     "output_type": "stream",
     "text": [
      "SCORE:                                                                          \n",
      "16646.76363441781                                                               \n",
      "{'colsample_bytree': 0.5, 'gamma': 0.55, 'learning_rate': 0.275, 'max_depth': 18, 'min_child_weight': 6.0, 'n_estimators': 2100, 'subsample': 0.8366435063994357}\n",
      " 56%|█████▌    | 111/200 [03:36<02:39,  1.79s/it, best loss: 15371.609942208905]"
     ]
    },
    {
     "name": "stderr",
     "output_type": "stream",
     "text": [
      "/home/dylanpoh/anaconda3/envs/kagglehouse/lib/python3.7/site-packages/xgboost/core.py:587: FutureWarning: Series.base is deprecated and will be removed in a future version\n",
      "  if getattr(data, 'base', None) is not None and \\\n",
      "\n"
     ]
    },
    {
     "name": "stdout",
     "output_type": "stream",
     "text": [
      "SCORE:                                                                          \n",
      "18254.051573202054                                                              \n",
      "{'colsample_bytree': 0.55, 'gamma': 0.55, 'learning_rate': 0.05, 'max_depth': 19, 'min_child_weight': 4.0, 'n_estimators': 5500, 'subsample': 0.8718370606227429}\n",
      " 56%|█████▌    | 112/200 [03:37<02:13,  1.52s/it, best loss: 15371.609942208905]"
     ]
    },
    {
     "name": "stderr",
     "output_type": "stream",
     "text": [
      "/home/dylanpoh/anaconda3/envs/kagglehouse/lib/python3.7/site-packages/xgboost/core.py:587: FutureWarning: Series.base is deprecated and will be removed in a future version\n",
      "  if getattr(data, 'base', None) is not None and \\\n",
      "\n"
     ]
    },
    {
     "name": "stdout",
     "output_type": "stream",
     "text": [
      "SCORE:                                                                          \n",
      "15509.735466609589                                                              \n",
      "{'colsample_bytree': 1.0, 'gamma': 0.55, 'learning_rate': 0.125, 'max_depth': 19, 'min_child_weight': 3.0, 'n_estimators': 6400, 'subsample': 0.826731410088556}\n",
      " 56%|█████▋    | 113/200 [03:41<03:16,  2.26s/it, best loss: 15371.609942208905]"
     ]
    },
    {
     "name": "stderr",
     "output_type": "stream",
     "text": [
      "/home/dylanpoh/anaconda3/envs/kagglehouse/lib/python3.7/site-packages/xgboost/core.py:587: FutureWarning: Series.base is deprecated and will be removed in a future version\n",
      "  if getattr(data, 'base', None) is not None and \\\n",
      "\n"
     ]
    },
    {
     "name": "stdout",
     "output_type": "stream",
     "text": [
      "SCORE:                                                                          \n",
      "16209.841834332192                                                              \n",
      "{'colsample_bytree': 0.5, 'gamma': 0.5, 'learning_rate': 0.47500000000000003, 'max_depth': 19, 'min_child_weight': 16.0, 'n_estimators': 9400, 'subsample': 0.8700275217822256}\n",
      " 57%|█████▋    | 114/200 [03:44<03:25,  2.39s/it, best loss: 15371.609942208905]"
     ]
    },
    {
     "name": "stderr",
     "output_type": "stream",
     "text": [
      "/home/dylanpoh/anaconda3/envs/kagglehouse/lib/python3.7/site-packages/xgboost/core.py:587: FutureWarning: Series.base is deprecated and will be removed in a future version\n",
      "  if getattr(data, 'base', None) is not None and \\\n",
      "\n"
     ]
    },
    {
     "name": "stdout",
     "output_type": "stream",
     "text": [
      "SCORE:                                                                          \n",
      "19356.815282534248                                                              \n",
      "{'colsample_bytree': 0.9500000000000001, 'gamma': 0.6000000000000001, 'learning_rate': 0.2, 'max_depth': 19, 'min_child_weight': 2.0, 'n_estimators': 8200, 'subsample': 0.8055236790903082}\n",
      " 57%|█████▊    | 115/200 [03:44<02:33,  1.80s/it, best loss: 15371.609942208905]"
     ]
    },
    {
     "name": "stderr",
     "output_type": "stream",
     "text": [
      "/home/dylanpoh/anaconda3/envs/kagglehouse/lib/python3.7/site-packages/xgboost/core.py:587: FutureWarning: Series.base is deprecated and will be removed in a future version\n",
      "  if getattr(data, 'base', None) is not None and \\\n",
      "\n"
     ]
    },
    {
     "name": "stdout",
     "output_type": "stream",
     "text": [
      "SCORE:                                                                          \n",
      "17430.207555650686                                                              \n",
      "{'colsample_bytree': 0.55, 'gamma': 0.5, 'learning_rate': 0.25, 'max_depth': 16, 'min_child_weight': 1.0, 'n_estimators': 5500, 'subsample': 0.888629523335155}\n",
      " 58%|█████▊    | 116/200 [03:47<02:58,  2.13s/it, best loss: 15371.609942208905]"
     ]
    },
    {
     "name": "stderr",
     "output_type": "stream",
     "text": [
      "/home/dylanpoh/anaconda3/envs/kagglehouse/lib/python3.7/site-packages/xgboost/core.py:587: FutureWarning: Series.base is deprecated and will be removed in a future version\n",
      "  if getattr(data, 'base', None) is not None and \\\n",
      "\n"
     ]
    },
    {
     "name": "stdout",
     "output_type": "stream",
     "text": [
      "SCORE:                                                                          \n",
      "18273.425492294522                                                              \n",
      "{'colsample_bytree': 0.55, 'gamma': 0.65, 'learning_rate': 0.0, 'max_depth': 19, 'min_child_weight': 4.0, 'n_estimators': 5500, 'subsample': 0.8464944960211329}\n",
      "SCORE:                                                                          \n",
      "178547.42328767123                                                              \n",
      "{'colsample_bytree': 0.8, 'gamma': 0.6000000000000001, 'learning_rate': 0.225, 'max_depth': 8, 'min_child_weight': 2.0, 'n_estimators': 3700, 'subsample': 0.8356877504212546}\n",
      " 59%|█████▉    | 118/200 [03:48<01:48,  1.33s/it, best loss: 15371.609942208905]"
     ]
    },
    {
     "name": "stderr",
     "output_type": "stream",
     "text": [
      "/home/dylanpoh/anaconda3/envs/kagglehouse/lib/python3.7/site-packages/xgboost/core.py:587: FutureWarning: Series.base is deprecated and will be removed in a future version\n",
      "  if getattr(data, 'base', None) is not None and \\\n",
      "\n",
      "/home/dylanpoh/anaconda3/envs/kagglehouse/lib/python3.7/site-packages/xgboost/core.py:587: FutureWarning: Series.base is deprecated and will be removed in a future version\n",
      "  if getattr(data, 'base', None) is not None and \\\n",
      "\n"
     ]
    },
    {
     "name": "stdout",
     "output_type": "stream",
     "text": [
      "SCORE:                                                                          \n",
      "17124.529291523973                                                              \n",
      "{'colsample_bytree': 0.8500000000000001, 'gamma': 0.55, 'learning_rate': 0.07500000000000001, 'max_depth': 18, 'min_child_weight': 4.0, 'n_estimators': 2600, 'subsample': 0.8733534765108487}\n",
      " 60%|█████▉    | 119/200 [03:49<01:36,  1.20s/it, best loss: 15371.609942208905]"
     ]
    },
    {
     "name": "stderr",
     "output_type": "stream",
     "text": [
      "/home/dylanpoh/anaconda3/envs/kagglehouse/lib/python3.7/site-packages/xgboost/core.py:587: FutureWarning: Series.base is deprecated and will be removed in a future version\n",
      "  if getattr(data, 'base', None) is not None and \\\n",
      "\n"
     ]
    },
    {
     "name": "stdout",
     "output_type": "stream",
     "text": [
      "SCORE:                                                                          \n",
      "16325.801765839042                                                              \n",
      "{'colsample_bytree': 0.5, 'gamma': 0.7000000000000001, 'learning_rate': 0.0, 'max_depth': 26, 'min_child_weight': 3.0, 'n_estimators': 3400, 'subsample': 0.8012917869507543}\n",
      "SCORE:                                                                          \n",
      "178547.42328767123                                                              \n",
      "{'colsample_bytree': 0.6000000000000001, 'gamma': 0.5, 'learning_rate': 0.05, 'max_depth': 5, 'min_child_weight': 5.0, 'n_estimators': 9600, 'subsample': 0.842787830145461}\n",
      " 60%|██████    | 121/200 [03:55<02:18,  1.75s/it, best loss: 15371.609942208905]"
     ]
    },
    {
     "name": "stderr",
     "output_type": "stream",
     "text": [
      "/home/dylanpoh/anaconda3/envs/kagglehouse/lib/python3.7/site-packages/xgboost/core.py:587: FutureWarning: Series.base is deprecated and will be removed in a future version\n",
      "  if getattr(data, 'base', None) is not None and \\\n",
      "\n",
      "/home/dylanpoh/anaconda3/envs/kagglehouse/lib/python3.7/site-packages/xgboost/core.py:587: FutureWarning: Series.base is deprecated and will be removed in a future version\n",
      "  if getattr(data, 'base', None) is not None and \\\n",
      "\n"
     ]
    },
    {
     "name": "stdout",
     "output_type": "stream",
     "text": [
      "SCORE:                                                                          \n",
      "15554.696596746575                                                              \n",
      "{'colsample_bytree': 0.65, 'gamma': 0.6000000000000001, 'learning_rate': 0.15000000000000002, 'max_depth': 10, 'min_child_weight': 7.0, 'n_estimators': 6000, 'subsample': 0.8614517334851954}\n",
      " 61%|██████    | 122/200 [03:56<02:10,  1.68s/it, best loss: 15371.609942208905]"
     ]
    },
    {
     "name": "stderr",
     "output_type": "stream",
     "text": [
      "/home/dylanpoh/anaconda3/envs/kagglehouse/lib/python3.7/site-packages/xgboost/core.py:587: FutureWarning: Series.base is deprecated and will be removed in a future version\n",
      "  if getattr(data, 'base', None) is not None and \\\n",
      "\n"
     ]
    },
    {
     "name": "stdout",
     "output_type": "stream",
     "text": [
      "SCORE:                                                                          \n",
      "16506.019873715755                                                              \n",
      "{'colsample_bytree': 0.6000000000000001, 'gamma': 0.5, 'learning_rate': 0.125, 'max_depth': 22, 'min_child_weight': 1.0, 'n_estimators': 1000, 'subsample': 0.8157231886634472}\n",
      " 62%|██████▏   | 123/200 [03:57<01:54,  1.48s/it, best loss: 15371.609942208905]"
     ]
    },
    {
     "name": "stderr",
     "output_type": "stream",
     "text": [
      "/home/dylanpoh/anaconda3/envs/kagglehouse/lib/python3.7/site-packages/xgboost/core.py:587: FutureWarning: Series.base is deprecated and will be removed in a future version\n",
      "  if getattr(data, 'base', None) is not None and \\\n",
      "\n"
     ]
    },
    {
     "name": "stdout",
     "output_type": "stream",
     "text": [
      "SCORE:                                                                          \n",
      "16600.87575984589                                                               \n",
      "{'colsample_bytree': 0.55, 'gamma': 0.65, 'learning_rate': 0.05, 'max_depth': 25, 'min_child_weight': 2.0, 'n_estimators': 8500, 'subsample': 0.8937788377850973}\n",
      " 62%|██████▏   | 124/200 [04:00<02:24,  1.91s/it, best loss: 15371.609942208905]"
     ]
    },
    {
     "name": "stderr",
     "output_type": "stream",
     "text": [
      "/home/dylanpoh/anaconda3/envs/kagglehouse/lib/python3.7/site-packages/xgboost/core.py:587: FutureWarning: Series.base is deprecated and will be removed in a future version\n",
      "  if getattr(data, 'base', None) is not None and \\\n",
      "\n"
     ]
    },
    {
     "name": "stdout",
     "output_type": "stream",
     "text": [
      "SCORE:                                                                          \n",
      "15628.772228167809                                                              \n",
      "{'colsample_bytree': 0.5, 'gamma': 0.55, 'learning_rate': 0.0, 'max_depth': 23, 'min_child_weight': 3.0, 'n_estimators': 1600, 'subsample': 0.8525820926873781}\n",
      "SCORE:                                                                          \n",
      "178547.42328767123                                                              \n",
      "{'colsample_bytree': 0.55, 'gamma': 0.7000000000000001, 'learning_rate': 0.0, 'max_depth': 24, 'min_child_weight': 12.0, 'n_estimators': 6700, 'subsample': 0.8877584039339295}\n",
      " 63%|██████▎   | 126/200 [04:06<02:38,  2.14s/it, best loss: 15371.609942208905]"
     ]
    },
    {
     "name": "stderr",
     "output_type": "stream",
     "text": [
      "/home/dylanpoh/anaconda3/envs/kagglehouse/lib/python3.7/site-packages/xgboost/core.py:587: FutureWarning: Series.base is deprecated and will be removed in a future version\n",
      "  if getattr(data, 'base', None) is not None and \\\n",
      "\n",
      "/home/dylanpoh/anaconda3/envs/kagglehouse/lib/python3.7/site-packages/xgboost/core.py:587: FutureWarning: Series.base is deprecated and will be removed in a future version\n",
      "  if getattr(data, 'base', None) is not None and \\\n",
      "\n"
     ]
    },
    {
     "name": "stdout",
     "output_type": "stream",
     "text": [
      "SCORE:                                                                          \n",
      "178547.42328767123                                                              \n",
      "{'colsample_bytree': 0.7000000000000001, 'gamma': 0.55, 'learning_rate': 0.07500000000000001, 'max_depth': 12, 'min_child_weight': 5.0, 'n_estimators': 6800, 'subsample': 0.8276764579359208}\n",
      " 64%|██████▎   | 127/200 [04:06<01:53,  1.55s/it, best loss: 15371.609942208905]"
     ]
    },
    {
     "name": "stderr",
     "output_type": "stream",
     "text": [
      "/home/dylanpoh/anaconda3/envs/kagglehouse/lib/python3.7/site-packages/xgboost/core.py:587: FutureWarning: Series.base is deprecated and will be removed in a future version\n",
      "  if getattr(data, 'base', None) is not None and \\\n",
      "\n"
     ]
    },
    {
     "name": "stdout",
     "output_type": "stream",
     "text": [
      "SCORE:                                                                          \n",
      "15552.246083047945                                                              \n",
      "{'colsample_bytree': 0.75, 'gamma': 0.6000000000000001, 'learning_rate': 0.1, 'max_depth': 15, 'min_child_weight': 6.0, 'n_estimators': 5000, 'subsample': 0.905314201118339}\n",
      " 64%|██████▍   | 128/200 [04:09<02:32,  2.12s/it, best loss: 15371.609942208905]"
     ]
    },
    {
     "name": "stderr",
     "output_type": "stream",
     "text": [
      "/home/dylanpoh/anaconda3/envs/kagglehouse/lib/python3.7/site-packages/xgboost/core.py:587: FutureWarning: Series.base is deprecated and will be removed in a future version\n",
      "  if getattr(data, 'base', None) is not None and \\\n",
      "\n"
     ]
    },
    {
     "name": "stdout",
     "output_type": "stream",
     "text": [
      "SCORE:                                                                          \n",
      "16224.762318065068                                                              \n",
      "{'colsample_bytree': 0.6000000000000001, 'gamma': 0.55, 'learning_rate': 0.0, 'max_depth': 11, 'min_child_weight': 11.0, 'n_estimators': 2200, 'subsample': 0.8192828614121729}\n",
      "SCORE:                                                                          \n",
      "178547.42328767123                                                              \n",
      "{'colsample_bytree': 0.55, 'gamma': 0.65, 'learning_rate': 0.35000000000000003, 'max_depth': 6, 'min_child_weight': 4.0, 'n_estimators': 5700, 'subsample': 0.9201290402711235}\n",
      " 65%|██████▌   | 130/200 [04:11<01:41,  1.45s/it, best loss: 15371.609942208905]"
     ]
    },
    {
     "name": "stderr",
     "output_type": "stream",
     "text": [
      "/home/dylanpoh/anaconda3/envs/kagglehouse/lib/python3.7/site-packages/xgboost/core.py:587: FutureWarning: Series.base is deprecated and will be removed in a future version\n",
      "  if getattr(data, 'base', None) is not None and \\\n",
      "\n",
      "/home/dylanpoh/anaconda3/envs/kagglehouse/lib/python3.7/site-packages/xgboost/core.py:587: FutureWarning: Series.base is deprecated and will be removed in a future version\n",
      "  if getattr(data, 'base', None) is not None and \\\n",
      "\n"
     ]
    },
    {
     "name": "stdout",
     "output_type": "stream",
     "text": [
      "SCORE:                                                                          \n",
      "17694.469477739727                                                              \n",
      "{'colsample_bytree': 0.9, 'gamma': 0.7000000000000001, 'learning_rate': 0.275, 'max_depth': 10, 'min_child_weight': 8.0, 'n_estimators': 4600, 'subsample': 0.8665306121094964}\n",
      " 66%|██████▌   | 131/200 [04:12<01:21,  1.18s/it, best loss: 15371.609942208905]"
     ]
    },
    {
     "name": "stderr",
     "output_type": "stream",
     "text": [
      "/home/dylanpoh/anaconda3/envs/kagglehouse/lib/python3.7/site-packages/xgboost/core.py:587: FutureWarning: Series.base is deprecated and will be removed in a future version\n",
      "  if getattr(data, 'base', None) is not None and \\\n",
      "\n"
     ]
    },
    {
     "name": "stdout",
     "output_type": "stream",
     "text": [
      "SCORE:                                                                          \n",
      "17219.084589041096                                                              \n",
      "{'colsample_bytree': 0.5, 'gamma': 0.75, 'learning_rate': 0.17500000000000002, 'max_depth': 21, 'min_child_weight': 9.0, 'n_estimators': 2900, 'subsample': 0.8805550551835969}\n",
      " 66%|██████▌   | 132/200 [04:13<01:22,  1.21s/it, best loss: 15371.609942208905]"
     ]
    },
    {
     "name": "stderr",
     "output_type": "stream",
     "text": [
      "/home/dylanpoh/anaconda3/envs/kagglehouse/lib/python3.7/site-packages/xgboost/core.py:587: FutureWarning: Series.base is deprecated and will be removed in a future version\n",
      "  if getattr(data, 'base', None) is not None and \\\n",
      "\n"
     ]
    },
    {
     "name": "stdout",
     "output_type": "stream",
     "text": [
      "SCORE:                                                                          \n",
      "17047.73367936644                                                               \n",
      "{'colsample_bytree': 0.65, 'gamma': 0.5, 'learning_rate': 0.0, 'max_depth': 27, 'min_child_weight': 20.0, 'n_estimators': 1100, 'subsample': 0.8098995245686855}\n",
      "SCORE:                                                                          \n",
      "178547.42328767123                                                              \n",
      "{'colsample_bytree': 0.65, 'gamma': 0.6000000000000001, 'learning_rate': 0.125, 'max_depth': 14, 'min_child_weight': 10.0, 'n_estimators': 3300, 'subsample': 0.9464178017565612}\n",
      " 67%|██████▋   | 134/200 [04:14<00:54,  1.21it/s, best loss: 15371.609942208905]"
     ]
    },
    {
     "name": "stderr",
     "output_type": "stream",
     "text": [
      "/home/dylanpoh/anaconda3/envs/kagglehouse/lib/python3.7/site-packages/xgboost/core.py:587: FutureWarning: Series.base is deprecated and will be removed in a future version\n",
      "  if getattr(data, 'base', None) is not None and \\\n",
      "\n",
      "/home/dylanpoh/anaconda3/envs/kagglehouse/lib/python3.7/site-packages/xgboost/core.py:587: FutureWarning: Series.base is deprecated and will be removed in a future version\n",
      "  if getattr(data, 'base', None) is not None and \\\n",
      "\n"
     ]
    },
    {
     "name": "stdout",
     "output_type": "stream",
     "text": [
      "SCORE:                                                                          \n",
      "16368.571425513699                                                              \n",
      "{'colsample_bytree': 0.8, 'gamma': 0.5, 'learning_rate': 0.325, 'max_depth': 9, 'min_child_weight': 5.0, 'n_estimators': 5600, 'subsample': 0.8984988309648507}\n",
      " 68%|██████▊   | 135/200 [04:15<01:01,  1.06it/s, best loss: 15371.609942208905]"
     ]
    },
    {
     "name": "stderr",
     "output_type": "stream",
     "text": [
      "/home/dylanpoh/anaconda3/envs/kagglehouse/lib/python3.7/site-packages/xgboost/core.py:587: FutureWarning: Series.base is deprecated and will be removed in a future version\n",
      "  if getattr(data, 'base', None) is not None and \\\n",
      "\n"
     ]
    },
    {
     "name": "stdout",
     "output_type": "stream",
     "text": [
      "SCORE:                                                                          \n",
      "18456.923844178084                                                              \n",
      "{'colsample_bytree': 0.6000000000000001, 'gamma': 0.55, 'learning_rate': 0.025, 'max_depth': 18, 'min_child_weight': 1.0, 'n_estimators': 6200, 'subsample': 0.8583062601200855}\n",
      " 68%|██████▊   | 136/200 [04:16<01:02,  1.02it/s, best loss: 15371.609942208905]"
     ]
    },
    {
     "name": "stderr",
     "output_type": "stream",
     "text": [
      "/home/dylanpoh/anaconda3/envs/kagglehouse/lib/python3.7/site-packages/xgboost/core.py:587: FutureWarning: Series.base is deprecated and will be removed in a future version\n",
      "  if getattr(data, 'base', None) is not None and \\\n",
      "\n"
     ]
    },
    {
     "name": "stdout",
     "output_type": "stream",
     "text": [
      "SCORE:                                                                          \n",
      "15872.186900684932                                                              \n",
      "{'colsample_bytree': 0.5, 'gamma': 0.65, 'learning_rate': 0.05, 'max_depth': 13, 'min_child_weight': 7.0, 'n_estimators': 5200, 'subsample': 0.8489781269740496}\n",
      " 68%|██████▊   | 137/200 [04:29<04:52,  4.64s/it, best loss: 15371.609942208905]"
     ]
    },
    {
     "name": "stderr",
     "output_type": "stream",
     "text": [
      "/home/dylanpoh/anaconda3/envs/kagglehouse/lib/python3.7/site-packages/xgboost/core.py:587: FutureWarning: Series.base is deprecated and will be removed in a future version\n",
      "  if getattr(data, 'base', None) is not None and \\\n",
      "\n"
     ]
    },
    {
     "name": "stdout",
     "output_type": "stream",
     "text": [
      "SCORE:                                                                          \n",
      "15682.16408390411                                                               \n",
      "{'colsample_bytree': 0.7000000000000001, 'gamma': 0.6000000000000001, 'learning_rate': 0.1, 'max_depth': 19, 'min_child_weight': 13.0, 'n_estimators': 2400, 'subsample': 0.8244680710493751}\n",
      " 69%|██████▉   | 138/200 [04:32<04:00,  3.87s/it, best loss: 15371.609942208905]"
     ]
    },
    {
     "name": "stderr",
     "output_type": "stream",
     "text": [
      "/home/dylanpoh/anaconda3/envs/kagglehouse/lib/python3.7/site-packages/xgboost/core.py:587: FutureWarning: Series.base is deprecated and will be removed in a future version\n",
      "  if getattr(data, 'base', None) is not None and \\\n",
      "\n"
     ]
    },
    {
     "name": "stdout",
     "output_type": "stream",
     "text": [
      "SCORE:                                                                          \n",
      "16539.599250856165                                                              \n",
      "{'colsample_bytree': 0.55, 'gamma': 0.7000000000000001, 'learning_rate': 0.45, 'max_depth': 29, 'min_child_weight': 2.0, 'n_estimators': 8000, 'subsample': 0.8847570976604066}\n",
      " 70%|██████▉   | 139/200 [04:33<03:14,  3.19s/it, best loss: 15371.609942208905]"
     ]
    },
    {
     "name": "stderr",
     "output_type": "stream",
     "text": [
      "/home/dylanpoh/anaconda3/envs/kagglehouse/lib/python3.7/site-packages/xgboost/core.py:587: FutureWarning: Series.base is deprecated and will be removed in a future version\n",
      "  if getattr(data, 'base', None) is not None and \\\n",
      "\n"
     ]
    },
    {
     "name": "stdout",
     "output_type": "stream",
     "text": [
      "SCORE:                                                                          \n",
      "20357.685862585615                                                              \n",
      "{'colsample_bytree': 0.75, 'gamma': 0.75, 'learning_rate': 0.15000000000000002, 'max_depth': 28, 'min_child_weight': 4.0, 'n_estimators': 3600, 'subsample': 0.833097018737515}\n",
      " 70%|███████   | 140/200 [04:34<02:27,  2.45s/it, best loss: 15371.609942208905]"
     ]
    },
    {
     "name": "stderr",
     "output_type": "stream",
     "text": [
      "/home/dylanpoh/anaconda3/envs/kagglehouse/lib/python3.7/site-packages/xgboost/core.py:587: FutureWarning: Series.base is deprecated and will be removed in a future version\n",
      "  if getattr(data, 'base', None) is not None and \\\n",
      "\n"
     ]
    },
    {
     "name": "stdout",
     "output_type": "stream",
     "text": [
      "SCORE:                                                                          \n",
      "16526.330329623288                                                              \n",
      "{'colsample_bytree': 0.5, 'gamma': 0.65, 'learning_rate': 0.07500000000000001, 'max_depth': 7, 'min_child_weight': 3.0, 'n_estimators': 1500, 'subsample': 0.8773529916080056}\n",
      " 70%|███████   | 141/200 [04:39<03:08,  3.19s/it, best loss: 15371.609942208905]"
     ]
    },
    {
     "name": "stderr",
     "output_type": "stream",
     "text": [
      "/home/dylanpoh/anaconda3/envs/kagglehouse/lib/python3.7/site-packages/xgboost/core.py:587: FutureWarning: Series.base is deprecated and will be removed in a future version\n",
      "  if getattr(data, 'base', None) is not None and \\\n",
      "\n"
     ]
    },
    {
     "name": "stdout",
     "output_type": "stream",
     "text": [
      "SCORE:                                                                          \n",
      "15871.460798373288                                                              \n",
      "{'colsample_bytree': 0.6000000000000001, 'gamma': 0.55, 'learning_rate': 0.0, 'max_depth': 8, 'min_child_weight': 8.0, 'n_estimators': 9200, 'subsample': 0.9120045446619358}\n",
      "SCORE:                                                                          \n",
      "178547.42328767123                                                              \n",
      "{'colsample_bytree': 0.55, 'gamma': 0.65, 'learning_rate': 0.0, 'max_depth': 16, 'min_child_weight': 19.0, 'n_estimators': 2800, 'subsample': 0.8709825445036387}\n",
      " 72%|███████▏  | 143/200 [04:40<01:48,  1.91s/it, best loss: 15371.609942208905]"
     ]
    },
    {
     "name": "stderr",
     "output_type": "stream",
     "text": [
      "/home/dylanpoh/anaconda3/envs/kagglehouse/lib/python3.7/site-packages/xgboost/core.py:587: FutureWarning: Series.base is deprecated and will be removed in a future version\n",
      "  if getattr(data, 'base', None) is not None and \\\n",
      "\n",
      "/home/dylanpoh/anaconda3/envs/kagglehouse/lib/python3.7/site-packages/xgboost/core.py:587: FutureWarning: Series.base is deprecated and will be removed in a future version\n",
      "  if getattr(data, 'base', None) is not None and \\\n",
      "\n"
     ]
    },
    {
     "name": "stdout",
     "output_type": "stream",
     "text": [
      "SCORE:                                                                          \n",
      "178547.42328767123                                                              \n",
      "{'colsample_bytree': 0.65, 'gamma': 0.5, 'learning_rate': 0.17500000000000002, 'max_depth': 10, 'min_child_weight': 2.0, 'n_estimators': 4800, 'subsample': 0.8415198865556707}\n",
      " 72%|███████▏  | 144/200 [04:41<01:17,  1.39s/it, best loss: 15371.609942208905]"
     ]
    },
    {
     "name": "stderr",
     "output_type": "stream",
     "text": [
      "/home/dylanpoh/anaconda3/envs/kagglehouse/lib/python3.7/site-packages/xgboost/core.py:587: FutureWarning: Series.base is deprecated and will be removed in a future version\n",
      "  if getattr(data, 'base', None) is not None and \\\n",
      "\n"
     ]
    },
    {
     "name": "stdout",
     "output_type": "stream",
     "text": [
      "SCORE:                                                                          \n",
      "17182.443942636986                                                              \n",
      "{'colsample_bytree': 0.5, 'gamma': 0.6000000000000001, 'learning_rate': 0.0, 'max_depth': 20, 'min_child_weight': 6.0, 'n_estimators': 6500, 'subsample': 0.9034745873033921}\n",
      "SCORE:                                                                          \n",
      "178547.42328767123                                                              \n",
      "{'colsample_bytree': 0.55, 'gamma': 0.55, 'learning_rate': 0.0, 'max_depth': 20, 'min_child_weight': 7.0, 'n_estimators': 8600, 'subsample': 0.8935323839367628}\n",
      " 73%|███████▎  | 146/200 [04:41<00:48,  1.12it/s, best loss: 15371.609942208905]"
     ]
    },
    {
     "name": "stderr",
     "output_type": "stream",
     "text": [
      "/home/dylanpoh/anaconda3/envs/kagglehouse/lib/python3.7/site-packages/xgboost/core.py:587: FutureWarning: Series.base is deprecated and will be removed in a future version\n",
      "  if getattr(data, 'base', None) is not None and \\\n",
      "\n",
      "/home/dylanpoh/anaconda3/envs/kagglehouse/lib/python3.7/site-packages/xgboost/core.py:587: FutureWarning: Series.base is deprecated and will be removed in a future version\n",
      "  if getattr(data, 'base', None) is not None and \\\n",
      "\n"
     ]
    },
    {
     "name": "stdout",
     "output_type": "stream",
     "text": [
      "SCORE:                                                                          \n",
      "178547.42328767123                                                              \n",
      "{'colsample_bytree': 0.6000000000000001, 'gamma': 0.8, 'learning_rate': 0.025, 'max_depth': 20, 'min_child_weight': 6.0, 'n_estimators': 7000, 'subsample': 0.907499500687578}\n",
      " 74%|███████▎  | 147/200 [04:42<00:36,  1.46it/s, best loss: 15371.609942208905]"
     ]
    },
    {
     "name": "stderr",
     "output_type": "stream",
     "text": [
      "/home/dylanpoh/anaconda3/envs/kagglehouse/lib/python3.7/site-packages/xgboost/core.py:587: FutureWarning: Series.base is deprecated and will be removed in a future version\n",
      "  if getattr(data, 'base', None) is not None and \\\n",
      "\n"
     ]
    },
    {
     "name": "stdout",
     "output_type": "stream",
     "text": [
      "SCORE:                                                                          \n",
      "15662.235488013699                                                              \n",
      "{'colsample_bytree': 0.5, 'gamma': 0.5, 'learning_rate': 0.025, 'max_depth': 18, 'min_child_weight': 5.0, 'n_estimators': 6600, 'subsample': 0.8634490670776062}\n",
      " 74%|███████▍  | 148/200 [04:47<01:51,  2.15s/it, best loss: 15371.609942208905]"
     ]
    },
    {
     "name": "stderr",
     "output_type": "stream",
     "text": [
      "/home/dylanpoh/anaconda3/envs/kagglehouse/lib/python3.7/site-packages/xgboost/core.py:587: FutureWarning: Series.base is deprecated and will be removed in a future version\n",
      "  if getattr(data, 'base', None) is not None and \\\n",
      "\n"
     ]
    },
    {
     "name": "stdout",
     "output_type": "stream",
     "text": [
      "SCORE:                                                                          \n",
      "15180.650695633562                                                              \n",
      "{'colsample_bytree': 0.5, 'gamma': 0.55, 'learning_rate': 0.07500000000000001, 'max_depth': 18, 'min_child_weight': 5.0, 'n_estimators': 6400, 'subsample': 0.8656296714244419}\n",
      " 74%|███████▍  | 149/200 [04:54<03:05,  3.65s/it, best loss: 15180.650695633562]"
     ]
    },
    {
     "name": "stderr",
     "output_type": "stream",
     "text": [
      "/home/dylanpoh/anaconda3/envs/kagglehouse/lib/python3.7/site-packages/xgboost/core.py:587: FutureWarning: Series.base is deprecated and will be removed in a future version\n",
      "  if getattr(data, 'base', None) is not None and \\\n",
      "\n"
     ]
    },
    {
     "name": "stdout",
     "output_type": "stream",
     "text": [
      "SCORE:                                                                          \n",
      "15937.914768835617                                                              \n",
      "{'colsample_bytree': 0.55, 'gamma': 0.55, 'learning_rate': 0.0, 'max_depth': 18, 'min_child_weight': 3.0, 'n_estimators': 6600, 'subsample': 0.8750342992231592}\n",
      "SCORE:                                                                          \n",
      "178547.42328767123                                                              \n",
      "{'colsample_bytree': 0.5, 'gamma': 0.5, 'learning_rate': 0.05, 'max_depth': 26, 'min_child_weight': 4.0, 'n_estimators': 5500, 'subsample': 0.859858145683834}\n",
      " 76%|███████▌  | 151/200 [04:56<01:48,  2.22s/it, best loss: 15180.650695633562]"
     ]
    },
    {
     "name": "stderr",
     "output_type": "stream",
     "text": [
      "/home/dylanpoh/anaconda3/envs/kagglehouse/lib/python3.7/site-packages/xgboost/core.py:587: FutureWarning: Series.base is deprecated and will be removed in a future version\n",
      "  if getattr(data, 'base', None) is not None and \\\n",
      "\n",
      "/home/dylanpoh/anaconda3/envs/kagglehouse/lib/python3.7/site-packages/xgboost/core.py:587: FutureWarning: Series.base is deprecated and will be removed in a future version\n",
      "  if getattr(data, 'base', None) is not None and \\\n",
      "\n"
     ]
    },
    {
     "name": "stdout",
     "output_type": "stream",
     "text": [
      "SCORE:                                                                          \n",
      "15547.176220034247                                                              \n",
      "{'colsample_bytree': 0.5, 'gamma': 0.5, 'learning_rate': 0.025, 'max_depth': 18, 'min_child_weight': 3.0, 'n_estimators': 5800, 'subsample': 0.8542523131381448}\n",
      " 76%|███████▌  | 152/200 [05:01<02:16,  2.83s/it, best loss: 15180.650695633562]"
     ]
    },
    {
     "name": "stderr",
     "output_type": "stream",
     "text": [
      "/home/dylanpoh/anaconda3/envs/kagglehouse/lib/python3.7/site-packages/xgboost/core.py:587: FutureWarning: Series.base is deprecated and will be removed in a future version\n",
      "  if getattr(data, 'base', None) is not None and \\\n",
      "\n"
     ]
    },
    {
     "name": "stdout",
     "output_type": "stream",
     "text": [
      "SCORE:                                                                          \n",
      "15711.794071061644                                                              \n",
      "{'colsample_bytree': 0.55, 'gamma': 0.5, 'learning_rate': 0.05, 'max_depth': 18, 'min_child_weight': 4.0, 'n_estimators': 7500, 'subsample': 0.882938385537602}\n",
      " 76%|███████▋  | 153/200 [05:07<02:59,  3.83s/it, best loss: 15180.650695633562]"
     ]
    },
    {
     "name": "stderr",
     "output_type": "stream",
     "text": [
      "/home/dylanpoh/anaconda3/envs/kagglehouse/lib/python3.7/site-packages/xgboost/core.py:587: FutureWarning: Series.base is deprecated and will be removed in a future version\n",
      "  if getattr(data, 'base', None) is not None and \\\n",
      "\n"
     ]
    },
    {
     "name": "stdout",
     "output_type": "stream",
     "text": [
      "SCORE:                                                                          \n",
      "15431.651990582192                                                              \n",
      "{'colsample_bytree': 0.5, 'gamma': 0.5, 'learning_rate': 0.0, 'max_depth': 18, 'min_child_weight': 1.0, 'n_estimators': 7500, 'subsample': 0.9010866557304059}\n",
      "SCORE:                                                                          \n",
      "178547.42328767123                                                              \n",
      "{'colsample_bytree': 0.55, 'gamma': 0.5, 'learning_rate': 0.0, 'max_depth': 18, 'min_child_weight': 5.0, 'n_estimators': 6600, 'subsample': 0.889313942434539}\n",
      " 78%|███████▊  | 155/200 [05:10<01:59,  2.64s/it, best loss: 15180.650695633562]"
     ]
    },
    {
     "name": "stderr",
     "output_type": "stream",
     "text": [
      "/home/dylanpoh/anaconda3/envs/kagglehouse/lib/python3.7/site-packages/xgboost/core.py:587: FutureWarning: Series.base is deprecated and will be removed in a future version\n",
      "  if getattr(data, 'base', None) is not None and \\\n",
      "\n",
      "/home/dylanpoh/anaconda3/envs/kagglehouse/lib/python3.7/site-packages/xgboost/core.py:587: FutureWarning: Series.base is deprecated and will be removed in a future version\n",
      "  if getattr(data, 'base', None) is not None and \\\n",
      "\n"
     ]
    },
    {
     "name": "stdout",
     "output_type": "stream",
     "text": [
      "SCORE:                                                                          \n",
      "178547.42328767123                                                              \n",
      "{'colsample_bytree': 0.6000000000000001, 'gamma': 0.5, 'learning_rate': 0.1, 'max_depth': 18, 'min_child_weight': 7.0, 'n_estimators': 7500, 'subsample': 0.8815185811948923}\n",
      " 78%|███████▊  | 156/200 [05:11<01:24,  1.91s/it, best loss: 15180.650695633562]"
     ]
    },
    {
     "name": "stderr",
     "output_type": "stream",
     "text": [
      "/home/dylanpoh/anaconda3/envs/kagglehouse/lib/python3.7/site-packages/xgboost/core.py:587: FutureWarning: Series.base is deprecated and will be removed in a future version\n",
      "  if getattr(data, 'base', None) is not None and \\\n",
      "\n"
     ]
    },
    {
     "name": "stdout",
     "output_type": "stream",
     "text": [
      "SCORE:                                                                          \n",
      "15968.52948416096                                                               \n",
      "{'colsample_bytree': 0.55, 'gamma': 0.5, 'learning_rate': 0.125, 'max_depth': 18, 'min_child_weight': 2.0, 'n_estimators': 5400, 'subsample': 0.9251123734870802}\n",
      " 78%|███████▊  | 157/200 [05:12<01:15,  1.77s/it, best loss: 15180.650695633562]"
     ]
    },
    {
     "name": "stderr",
     "output_type": "stream",
     "text": [
      "/home/dylanpoh/anaconda3/envs/kagglehouse/lib/python3.7/site-packages/xgboost/core.py:587: FutureWarning: Series.base is deprecated and will be removed in a future version\n",
      "  if getattr(data, 'base', None) is not None and \\\n",
      "\n"
     ]
    },
    {
     "name": "stdout",
     "output_type": "stream",
     "text": [
      "SCORE:                                                                          \n",
      "16737.11593535959                                                               \n",
      "{'colsample_bytree': 0.5, 'gamma': 0.6000000000000001, 'learning_rate': 0.1, 'max_depth': 5, 'min_child_weight': 3.0, 'n_estimators': 9800, 'subsample': 0.8846285823616225}\n",
      " 79%|███████▉  | 158/200 [05:13<01:09,  1.66s/it, best loss: 15180.650695633562]"
     ]
    },
    {
     "name": "stderr",
     "output_type": "stream",
     "text": [
      "/home/dylanpoh/anaconda3/envs/kagglehouse/lib/python3.7/site-packages/xgboost/core.py:587: FutureWarning: Series.base is deprecated and will be removed in a future version\n",
      "  if getattr(data, 'base', None) is not None and \\\n",
      "\n"
     ]
    },
    {
     "name": "stdout",
     "output_type": "stream",
     "text": [
      "SCORE:                                                                          \n",
      "16049.723779965754                                                              \n",
      "{'colsample_bytree': 0.6000000000000001, 'gamma': 0.5, 'learning_rate': 0.05, 'max_depth': 22, 'min_child_weight': 6.0, 'n_estimators': 4500, 'subsample': 0.8967447666095845}\n",
      " 80%|███████▉  | 159/200 [05:14<00:57,  1.40s/it, best loss: 15180.650695633562]"
     ]
    },
    {
     "name": "stderr",
     "output_type": "stream",
     "text": [
      "/home/dylanpoh/anaconda3/envs/kagglehouse/lib/python3.7/site-packages/xgboost/core.py:587: FutureWarning: Series.base is deprecated and will be removed in a future version\n",
      "  if getattr(data, 'base', None) is not None and \\\n",
      "\n"
     ]
    },
    {
     "name": "stdout",
     "output_type": "stream",
     "text": [
      "SCORE:                                                                          \n",
      "15488.185776969178                                                              \n",
      "{'colsample_bytree': 0.5, 'gamma': 0.55, 'learning_rate': 0.025, 'max_depth': 25, 'min_child_weight': 4.0, 'n_estimators': 9900, 'subsample': 0.9328623156010497}\n",
      " 80%|████████  | 160/200 [05:18<01:21,  2.03s/it, best loss: 15180.650695633562]"
     ]
    },
    {
     "name": "stderr",
     "output_type": "stream",
     "text": [
      "/home/dylanpoh/anaconda3/envs/kagglehouse/lib/python3.7/site-packages/xgboost/core.py:587: FutureWarning: Series.base is deprecated and will be removed in a future version\n",
      "  if getattr(data, 'base', None) is not None and \\\n",
      "\n"
     ]
    },
    {
     "name": "stdout",
     "output_type": "stream",
     "text": [
      "SCORE:                                                                          \n",
      "15751.725877568493                                                              \n",
      "{'colsample_bytree': 0.5, 'gamma': 0.5, 'learning_rate': 0.07500000000000001, 'max_depth': 18, 'min_child_weight': 5.0, 'n_estimators': 7600, 'subsample': 0.916218051450997}\n",
      " 80%|████████  | 161/200 [05:23<01:55,  2.97s/it, best loss: 15180.650695633562]"
     ]
    },
    {
     "name": "stderr",
     "output_type": "stream",
     "text": [
      "/home/dylanpoh/anaconda3/envs/kagglehouse/lib/python3.7/site-packages/xgboost/core.py:587: FutureWarning: Series.base is deprecated and will be removed in a future version\n",
      "  if getattr(data, 'base', None) is not None and \\\n",
      "\n"
     ]
    },
    {
     "name": "stdout",
     "output_type": "stream",
     "text": [
      "SCORE:                                                                          \n",
      "15646.505821917808                                                              \n",
      "{'colsample_bytree': 0.55, 'gamma': 0.55, 'learning_rate': 0.0, 'max_depth': 24, 'min_child_weight': 8.0, 'n_estimators': 9500, 'subsample': 0.86283281883371}\n",
      "SCORE:                                                                          \n",
      "178547.42328767123                                                              \n",
      "{'colsample_bytree': 0.6000000000000001, 'gamma': 0.6000000000000001, 'learning_rate': 0.0, 'max_depth': 23, 'min_child_weight': 1.0, 'n_estimators': 3200, 'subsample': 0.8899167836726167}\n",
      " 82%|████████▏ | 163/200 [05:25<01:12,  1.96s/it, best loss: 15180.650695633562]"
     ]
    },
    {
     "name": "stderr",
     "output_type": "stream",
     "text": [
      "/home/dylanpoh/anaconda3/envs/kagglehouse/lib/python3.7/site-packages/xgboost/core.py:587: FutureWarning: Series.base is deprecated and will be removed in a future version\n",
      "  if getattr(data, 'base', None) is not None and \\\n",
      "\n",
      "/home/dylanpoh/anaconda3/envs/kagglehouse/lib/python3.7/site-packages/xgboost/core.py:587: FutureWarning: Series.base is deprecated and will be removed in a future version\n",
      "  if getattr(data, 'base', None) is not None and \\\n",
      "\n"
     ]
    },
    {
     "name": "stdout",
     "output_type": "stream",
     "text": [
      "SCORE:                                                                          \n",
      "178547.42328767123                                                              \n",
      "{'colsample_bytree': 0.55, 'gamma': 0.55, 'learning_rate': 0.07500000000000001, 'max_depth': 12, 'min_child_weight': 9.0, 'n_estimators': 7300, 'subsample': 0.8461568371978645}\n",
      " 82%|████████▏ | 164/200 [05:25<00:51,  1.44s/it, best loss: 15180.650695633562]"
     ]
    },
    {
     "name": "stderr",
     "output_type": "stream",
     "text": [
      "/home/dylanpoh/anaconda3/envs/kagglehouse/lib/python3.7/site-packages/xgboost/core.py:587: FutureWarning: Series.base is deprecated and will be removed in a future version\n",
      "  if getattr(data, 'base', None) is not None and \\\n",
      "\n"
     ]
    },
    {
     "name": "stdout",
     "output_type": "stream",
     "text": [
      "SCORE:                                                                          \n",
      "15774.184845890411                                                              \n",
      "{'colsample_bytree': 0.5, 'gamma': 0.75, 'learning_rate': 0.2, 'max_depth': 6, 'min_child_weight': 4.0, 'n_estimators': 3500, 'subsample': 0.8501213568070087}\n",
      " 82%|████████▎ | 165/200 [05:28<00:58,  1.67s/it, best loss: 15180.650695633562]"
     ]
    },
    {
     "name": "stderr",
     "output_type": "stream",
     "text": [
      "/home/dylanpoh/anaconda3/envs/kagglehouse/lib/python3.7/site-packages/xgboost/core.py:587: FutureWarning: Series.base is deprecated and will be removed in a future version\n",
      "  if getattr(data, 'base', None) is not None and \\\n",
      "\n"
     ]
    },
    {
     "name": "stdout",
     "output_type": "stream",
     "text": [
      "SCORE:                                                                          \n",
      "16355.499935787671                                                              \n",
      "{'colsample_bytree': 0.65, 'gamma': 0.5, 'learning_rate': 0.05, 'max_depth': 21, 'min_child_weight': 5.0, 'n_estimators': 9100, 'subsample': 0.8390235178698733}\n",
      " 83%|████████▎ | 166/200 [05:28<00:45,  1.35s/it, best loss: 15180.650695633562]"
     ]
    },
    {
     "name": "stderr",
     "output_type": "stream",
     "text": [
      "/home/dylanpoh/anaconda3/envs/kagglehouse/lib/python3.7/site-packages/xgboost/core.py:587: FutureWarning: Series.base is deprecated and will be removed in a future version\n",
      "  if getattr(data, 'base', None) is not None and \\\n",
      "\n"
     ]
    },
    {
     "name": "stdout",
     "output_type": "stream",
     "text": [
      "SCORE:                                                                          \n",
      "15345.686633133562                                                              \n",
      "{'colsample_bytree': 0.7000000000000001, 'gamma': 0.6000000000000001, 'learning_rate': 0.15000000000000002, 'max_depth': 11, 'min_child_weight': 9.0, 'n_estimators': 9100, 'subsample': 0.8079266232375849}\n",
      " 84%|████████▎ | 167/200 [05:33<01:17,  2.36s/it, best loss: 15180.650695633562]"
     ]
    },
    {
     "name": "stderr",
     "output_type": "stream",
     "text": [
      "/home/dylanpoh/anaconda3/envs/kagglehouse/lib/python3.7/site-packages/xgboost/core.py:587: FutureWarning: Series.base is deprecated and will be removed in a future version\n",
      "  if getattr(data, 'base', None) is not None and \\\n",
      "\n"
     ]
    },
    {
     "name": "stdout",
     "output_type": "stream",
     "text": [
      "SCORE:                                                                          \n",
      "16334.256549657533                                                              \n",
      "{'colsample_bytree': 0.65, 'gamma': 0.5, 'learning_rate': 0.0, 'max_depth': 21, 'min_child_weight': 11.0, 'n_estimators': 9100, 'subsample': 0.8137965166104307}\n",
      "SCORE:                                                                          \n",
      "178547.42328767123                                                              \n",
      " 84%|████████▍ | 169/200 [05:35<00:50,  1.62s/it, best loss: 15180.650695633562]"
     ]
    },
    {
     "name": "stderr",
     "output_type": "stream",
     "text": [
      "/home/dylanpoh/anaconda3/envs/kagglehouse/lib/python3.7/site-packages/xgboost/core.py:587: FutureWarning: Series.base is deprecated and will be removed in a future version\n",
      "  if getattr(data, 'base', None) is not None and \\\n",
      "\n"
     ]
    },
    {
     "name": "stdout",
     "output_type": "stream",
     "text": [
      "{'colsample_bytree': 0.65, 'gamma': 0.55, 'learning_rate': 0.0, 'max_depth': 21, 'min_child_weight': 6.0, 'n_estimators': 6900, 'subsample': 0.8218654586608662}\n",
      "SCORE:                                                                          \n",
      "178547.42328767123                                                              \n",
      " 85%|████████▌ | 170/200 [05:35<00:35,  1.20s/it, best loss: 15180.650695633562]"
     ]
    },
    {
     "name": "stderr",
     "output_type": "stream",
     "text": [
      "/home/dylanpoh/anaconda3/envs/kagglehouse/lib/python3.7/site-packages/xgboost/core.py:587: FutureWarning: Series.base is deprecated and will be removed in a future version\n",
      "  if getattr(data, 'base', None) is not None and \\\n",
      "\n"
     ]
    },
    {
     "name": "stdout",
     "output_type": "stream",
     "text": [
      "{'colsample_bytree': 0.7000000000000001, 'gamma': 0.55, 'learning_rate': 0.0, 'max_depth': 21, 'min_child_weight': 10.0, 'n_estimators': 2000, 'subsample': 0.8362298113039301}\n",
      "SCORE:                                                                          \n",
      "178547.42328767123                                                              \n",
      " 86%|████████▌ | 171/200 [05:35<00:26,  1.10it/s, best loss: 15180.650695633562]"
     ]
    },
    {
     "name": "stderr",
     "output_type": "stream",
     "text": [
      "/home/dylanpoh/anaconda3/envs/kagglehouse/lib/python3.7/site-packages/xgboost/core.py:587: FutureWarning: Series.base is deprecated and will be removed in a future version\n",
      "  if getattr(data, 'base', None) is not None and \\\n",
      "\n"
     ]
    },
    {
     "name": "stdout",
     "output_type": "stream",
     "text": [
      "{'colsample_bytree': 0.75, 'gamma': 0.6000000000000001, 'learning_rate': 0.0, 'max_depth': 21, 'min_child_weight': 8.0, 'n_estimators': 6700, 'subsample': 0.804202467371602}\n",
      "SCORE:                                                                          \n",
      "178547.42328767123                                                              \n",
      " 86%|████████▌ | 172/200 [05:36<00:19,  1.42it/s, best loss: 15180.650695633562]"
     ]
    },
    {
     "name": "stderr",
     "output_type": "stream",
     "text": [
      "/home/dylanpoh/anaconda3/envs/kagglehouse/lib/python3.7/site-packages/xgboost/core.py:587: FutureWarning: Series.base is deprecated and will be removed in a future version\n",
      "  if getattr(data, 'base', None) is not None and \\\n",
      "\n"
     ]
    },
    {
     "name": "stdout",
     "output_type": "stream",
     "text": [
      "{'colsample_bytree': 0.7000000000000001, 'gamma': 0.7000000000000001, 'learning_rate': 0.42500000000000004, 'max_depth': 15, 'min_child_weight': 7.0, 'n_estimators': 3800, 'subsample': 0.8423198043832205}\n",
      " 86%|████████▌ | 172/200 [05:36<00:19,  1.42it/s, best loss: 15180.650695633562]"
     ]
    },
    {
     "name": "stderr",
     "output_type": "stream",
     "text": [
      "/home/dylanpoh/anaconda3/envs/kagglehouse/lib/python3.7/site-packages/xgboost/core.py:587: FutureWarning: Series.base is deprecated and will be removed in a future version\n",
      "  if getattr(data, 'base', None) is not None and \\\n",
      "\n"
     ]
    },
    {
     "name": "stdout",
     "output_type": "stream",
     "text": [
      "SCORE:                                                                          \n",
      "19011.909985017122                                                              \n",
      "{'colsample_bytree': 0.8, 'gamma': 0.8, 'learning_rate': 0.125, 'max_depth': 10, 'min_child_weight': 15.0, 'n_estimators': 1400, 'subsample': 0.8288335789273541}\n",
      " 86%|████████▋ | 173/200 [05:36<00:18,  1.47it/s, best loss: 15180.650695633562]"
     ]
    },
    {
     "name": "stderr",
     "output_type": "stream",
     "text": [
      "/home/dylanpoh/anaconda3/envs/kagglehouse/lib/python3.7/site-packages/xgboost/core.py:587: FutureWarning: Series.base is deprecated and will be removed in a future version\n",
      "  if getattr(data, 'base', None) is not None and \\\n",
      "\n"
     ]
    },
    {
     "name": "stdout",
     "output_type": "stream",
     "text": [
      "SCORE:                                                                          \n",
      "16289.118043664384                                                              \n",
      "{'colsample_bytree': 0.65, 'gamma': 0.65, 'learning_rate': 0.0, 'max_depth': 27, 'min_child_weight': 3.0, 'n_estimators': 7700, 'subsample': 0.8386261830821407}\n",
      "SCORE:                                                                          \n",
      "178547.42328767123                                                              \n",
      " 88%|████████▊ | 175/200 [05:38<00:17,  1.44it/s, best loss: 15180.650695633562]"
     ]
    },
    {
     "name": "stderr",
     "output_type": "stream",
     "text": [
      "/home/dylanpoh/anaconda3/envs/kagglehouse/lib/python3.7/site-packages/xgboost/core.py:587: FutureWarning: Series.base is deprecated and will be removed in a future version\n",
      "  if getattr(data, 'base', None) is not None and \\\n",
      "\n"
     ]
    },
    {
     "name": "stdout",
     "output_type": "stream",
     "text": [
      "{'colsample_bytree': 0.75, 'gamma': 0.5, 'learning_rate': 0.0, 'max_depth': 14, 'min_child_weight': 5.0, 'n_estimators': 4300, 'subsample': 0.8557969977956555}\n",
      "SCORE:                                                                          \n",
      "178547.42328767123                                                              \n",
      " 88%|████████▊ | 176/200 [05:38<00:13,  1.79it/s, best loss: 15180.650695633562]"
     ]
    },
    {
     "name": "stderr",
     "output_type": "stream",
     "text": [
      "/home/dylanpoh/anaconda3/envs/kagglehouse/lib/python3.7/site-packages/xgboost/core.py:587: FutureWarning: Series.base is deprecated and will be removed in a future version\n",
      "  if getattr(data, 'base', None) is not None and \\\n",
      "\n"
     ]
    },
    {
     "name": "stdout",
     "output_type": "stream",
     "text": [
      "{'colsample_bytree': 0.65, 'gamma': 0.55, 'learning_rate': 0.025, 'max_depth': 13, 'min_child_weight': 14.0, 'n_estimators': 7800, 'subsample': 0.8001303071613054}\n",
      " 88%|████████▊ | 176/200 [05:38<00:13,  1.79it/s, best loss: 15180.650695633562]"
     ]
    },
    {
     "name": "stderr",
     "output_type": "stream",
     "text": [
      "/home/dylanpoh/anaconda3/envs/kagglehouse/lib/python3.7/site-packages/xgboost/core.py:587: FutureWarning: Series.base is deprecated and will be removed in a future version\n",
      "  if getattr(data, 'base', None) is not None and \\\n",
      "\n"
     ]
    },
    {
     "name": "stdout",
     "output_type": "stream",
     "text": [
      "SCORE:                                                                          \n",
      "15926.81870719178                                                               \n",
      "{'colsample_bytree': 0.7000000000000001, 'gamma': 0.6000000000000001, 'learning_rate': 0.1, 'max_depth': 9, 'min_child_weight': 2.0, 'n_estimators': 6300, 'subsample': 0.8318564255626495}\n",
      " 88%|████████▊ | 177/200 [05:42<00:36,  1.60s/it, best loss: 15180.650695633562]"
     ]
    },
    {
     "name": "stderr",
     "output_type": "stream",
     "text": [
      "/home/dylanpoh/anaconda3/envs/kagglehouse/lib/python3.7/site-packages/xgboost/core.py:587: FutureWarning: Series.base is deprecated and will be removed in a future version\n",
      "  if getattr(data, 'base', None) is not None and \\\n",
      "\n"
     ]
    },
    {
     "name": "stdout",
     "output_type": "stream",
     "text": [
      "SCORE:                                                                          \n",
      "15978.561868578767                                                              \n",
      "{'colsample_bytree': 0.6000000000000001, 'gamma': 0.5, 'learning_rate': 0.0, 'max_depth': 21, 'min_child_weight': 7.0, 'n_estimators': 3000, 'subsample': 0.8163066128796176}\n",
      "SCORE:                                                                          \n",
      "178547.42328767123                                                              \n",
      " 90%|████████▉ | 179/200 [05:44<00:23,  1.12s/it, best loss: 15180.650695633562]"
     ]
    },
    {
     "name": "stderr",
     "output_type": "stream",
     "text": [
      "/home/dylanpoh/anaconda3/envs/kagglehouse/lib/python3.7/site-packages/xgboost/core.py:587: FutureWarning: Series.base is deprecated and will be removed in a future version\n",
      "  if getattr(data, 'base', None) is not None and \\\n",
      "\n"
     ]
    },
    {
     "name": "stdout",
     "output_type": "stream",
     "text": [
      "{'colsample_bytree': 0.65, 'gamma': 0.7000000000000001, 'learning_rate': 0.05, 'max_depth': 29, 'min_child_weight': 6.0, 'n_estimators': 8300, 'subsample': 0.8262478939495715}\n",
      " 90%|████████▉ | 179/200 [05:44<00:23,  1.12s/it, best loss: 15180.650695633562]"
     ]
    },
    {
     "name": "stderr",
     "output_type": "stream",
     "text": [
      "/home/dylanpoh/anaconda3/envs/kagglehouse/lib/python3.7/site-packages/xgboost/core.py:587: FutureWarning: Series.base is deprecated and will be removed in a future version\n",
      "  if getattr(data, 'base', None) is not None and \\\n",
      "\n"
     ]
    },
    {
     "name": "stdout",
     "output_type": "stream",
     "text": [
      "SCORE:                                                                          \n",
      "15722.124486301369                                                              \n",
      "{'colsample_bytree': 0.6000000000000001, 'gamma': 0.5, 'learning_rate': 0.0, 'max_depth': 28, 'min_child_weight': 1.0, 'n_estimators': 2500, 'subsample': 0.820741122925288}\n",
      "SCORE:                                                                          \n",
      "178547.42328767123                                                              \n",
      " 90%|█████████ | 181/200 [05:47<00:25,  1.32s/it, best loss: 15180.650695633562]"
     ]
    },
    {
     "name": "stderr",
     "output_type": "stream",
     "text": [
      "/home/dylanpoh/anaconda3/envs/kagglehouse/lib/python3.7/site-packages/xgboost/core.py:587: FutureWarning: Series.base is deprecated and will be removed in a future version\n",
      "  if getattr(data, 'base', None) is not None and \\\n",
      "\n"
     ]
    },
    {
     "name": "stdout",
     "output_type": "stream",
     "text": [
      "{'colsample_bytree': 0.7000000000000001, 'gamma': 0.8, 'learning_rate': 0.0, 'max_depth': 16, 'min_child_weight': 5.0, 'n_estimators': 5900, 'subsample': 0.8774415549039782}\n",
      "SCORE:                                                                          \n",
      "178547.42328767123                                                              \n",
      " 91%|█████████ | 182/200 [05:47<00:17,  1.01it/s, best loss: 15180.650695633562]"
     ]
    },
    {
     "name": "stderr",
     "output_type": "stream",
     "text": [
      "/home/dylanpoh/anaconda3/envs/kagglehouse/lib/python3.7/site-packages/xgboost/core.py:587: FutureWarning: Series.base is deprecated and will be removed in a future version\n",
      "  if getattr(data, 'base', None) is not None and \\\n",
      "\n"
     ]
    },
    {
     "name": "stdout",
     "output_type": "stream",
     "text": [
      "{'colsample_bytree': 0.6000000000000001, 'gamma': 0.75, 'learning_rate': 0.025, 'max_depth': 8, 'min_child_weight': 3.0, 'n_estimators': 4000, 'subsample': 0.8682683583480686}\n",
      " 91%|█████████ | 182/200 [05:47<00:17,  1.01it/s, best loss: 15180.650695633562]"
     ]
    },
    {
     "name": "stderr",
     "output_type": "stream",
     "text": [
      "/home/dylanpoh/anaconda3/envs/kagglehouse/lib/python3.7/site-packages/xgboost/core.py:587: FutureWarning: Series.base is deprecated and will be removed in a future version\n",
      "  if getattr(data, 'base', None) is not None and \\\n",
      "\n"
     ]
    },
    {
     "name": "stdout",
     "output_type": "stream",
     "text": [
      "SCORE:                                                                          \n",
      "16037.349668236302                                                              \n",
      "{'colsample_bytree': 0.6000000000000001, 'gamma': 0.65, 'learning_rate': 0.1, 'max_depth': 7, 'min_child_weight': 8.0, 'n_estimators': 9700, 'subsample': 0.8509230437320265}\n",
      " 92%|█████████▏| 183/200 [05:51<00:27,  1.62s/it, best loss: 15180.650695633562]"
     ]
    },
    {
     "name": "stderr",
     "output_type": "stream",
     "text": [
      "/home/dylanpoh/anaconda3/envs/kagglehouse/lib/python3.7/site-packages/xgboost/core.py:587: FutureWarning: Series.base is deprecated and will be removed in a future version\n",
      "  if getattr(data, 'base', None) is not None and \\\n",
      "\n"
     ]
    },
    {
     "name": "stdout",
     "output_type": "stream",
     "text": [
      "SCORE:                                                                          \n",
      "16371.303895547946                                                              \n",
      "{'colsample_bytree': 0.8, 'gamma': 0.8500000000000001, 'learning_rate': 0.0, 'max_depth': 10, 'min_child_weight': 2.0, 'n_estimators': 5100, 'subsample': 0.8470618597886308}\n",
      "SCORE:                                                                          \n",
      "178547.42328767123                                                              \n",
      " 92%|█████████▎| 185/200 [05:52<00:15,  1.03s/it, best loss: 15180.650695633562]"
     ]
    },
    {
     "name": "stderr",
     "output_type": "stream",
     "text": [
      "/home/dylanpoh/anaconda3/envs/kagglehouse/lib/python3.7/site-packages/xgboost/core.py:587: FutureWarning: Series.base is deprecated and will be removed in a future version\n",
      "  if getattr(data, 'base', None) is not None and \\\n",
      "\n"
     ]
    },
    {
     "name": "stdout",
     "output_type": "stream",
     "text": [
      "{'colsample_bytree': 0.65, 'gamma': 0.55, 'learning_rate': 0.07500000000000001, 'max_depth': 17, 'min_child_weight': 6.0, 'n_estimators': 5300, 'subsample': 0.8390735769734962}\n",
      " 92%|█████████▎| 185/200 [05:52<00:15,  1.03s/it, best loss: 15180.650695633562]"
     ]
    },
    {
     "name": "stderr",
     "output_type": "stream",
     "text": [
      "/home/dylanpoh/anaconda3/envs/kagglehouse/lib/python3.7/site-packages/xgboost/core.py:587: FutureWarning: Series.base is deprecated and will be removed in a future version\n",
      "  if getattr(data, 'base', None) is not None and \\\n",
      "\n"
     ]
    },
    {
     "name": "stdout",
     "output_type": "stream",
     "text": [
      "SCORE:                                                                          \n",
      "16292.812842465753                                                              \n",
      "{'colsample_bytree': 0.75, 'gamma': 0.6000000000000001, 'learning_rate': 0.225, 'max_depth': 26, 'min_child_weight': 9.0, 'n_estimators': 8100, 'subsample': 0.8086712278632452}\n",
      " 93%|█████████▎| 186/200 [05:54<00:21,  1.57s/it, best loss: 15180.650695633562]"
     ]
    },
    {
     "name": "stderr",
     "output_type": "stream",
     "text": [
      "/home/dylanpoh/anaconda3/envs/kagglehouse/lib/python3.7/site-packages/xgboost/core.py:587: FutureWarning: Series.base is deprecated and will be removed in a future version\n",
      "  if getattr(data, 'base', None) is not None and \\\n",
      "\n"
     ]
    },
    {
     "name": "stdout",
     "output_type": "stream",
     "text": [
      "SCORE:                                                                          \n",
      "17628.696511130136                                                              \n",
      "{'colsample_bytree': 0.7000000000000001, 'gamma': 0.5, 'learning_rate': 0.125, 'max_depth': 5, 'min_child_weight': 4.0, 'n_estimators': 4900, 'subsample': 0.8648813321515954}\n",
      " 94%|█████████▎| 187/200 [05:56<00:19,  1.48s/it, best loss: 15180.650695633562]"
     ]
    },
    {
     "name": "stderr",
     "output_type": "stream",
     "text": [
      "/home/dylanpoh/anaconda3/envs/kagglehouse/lib/python3.7/site-packages/xgboost/core.py:587: FutureWarning: Series.base is deprecated and will be removed in a future version\n",
      "  if getattr(data, 'base', None) is not None and \\\n",
      "\n"
     ]
    },
    {
     "name": "stdout",
     "output_type": "stream",
     "text": [
      "SCORE:                                                                          \n",
      "16351.083090753425                                                              \n",
      "{'colsample_bytree': 0.65, 'gamma': 0.55, 'learning_rate': 0.0, 'max_depth': 22, 'min_child_weight': 10.0, 'n_estimators': 4700, 'subsample': 0.8330828995572286}\n",
      "SCORE:                                                                          \n",
      "178547.42328767123                                                              \n",
      " 94%|█████████▍| 189/200 [05:57<00:10,  1.00it/s, best loss: 15180.650695633562]"
     ]
    },
    {
     "name": "stderr",
     "output_type": "stream",
     "text": [
      "/home/dylanpoh/anaconda3/envs/kagglehouse/lib/python3.7/site-packages/xgboost/core.py:587: FutureWarning: Series.base is deprecated and will be removed in a future version\n",
      "  if getattr(data, 'base', None) is not None and \\\n",
      "\n"
     ]
    },
    {
     "name": "stdout",
     "output_type": "stream",
     "text": [
      "{'colsample_bytree': 0.55, 'gamma': 0.5, 'learning_rate': 0.15000000000000002, 'max_depth': 25, 'min_child_weight': 16.0, 'n_estimators': 7100, 'subsample': 0.8709792294106697}\n",
      " 94%|█████████▍| 189/200 [05:57<00:10,  1.00it/s, best loss: 15180.650695633562]"
     ]
    },
    {
     "name": "stderr",
     "output_type": "stream",
     "text": [
      "/home/dylanpoh/anaconda3/envs/kagglehouse/lib/python3.7/site-packages/xgboost/core.py:587: FutureWarning: Series.base is deprecated and will be removed in a future version\n",
      "  if getattr(data, 'base', None) is not None and \\\n",
      "\n"
     ]
    },
    {
     "name": "stdout",
     "output_type": "stream",
     "text": [
      "SCORE:                                                                          \n",
      "16591.230458047947                                                              \n",
      "{'colsample_bytree': 0.8500000000000001, 'gamma': 0.55, 'learning_rate': 0.0, 'max_depth': 24, 'min_child_weight': 5.0, 'n_estimators': 4100, 'subsample': 0.8585713094521026}\n",
      "SCORE:                                                                          \n",
      "178547.42328767123                                                              \n",
      " 96%|█████████▌| 191/200 [05:58<00:06,  1.32it/s, best loss: 15180.650695633562]"
     ]
    },
    {
     "name": "stderr",
     "output_type": "stream",
     "text": [
      "/home/dylanpoh/anaconda3/envs/kagglehouse/lib/python3.7/site-packages/xgboost/core.py:587: FutureWarning: Series.base is deprecated and will be removed in a future version\n",
      "  if getattr(data, 'base', None) is not None and \\\n",
      "\n"
     ]
    },
    {
     "name": "stdout",
     "output_type": "stream",
     "text": [
      "{'colsample_bytree': 0.6000000000000001, 'gamma': 0.8500000000000001, 'learning_rate': 0.05, 'max_depth': 23, 'min_child_weight': 7.0, 'n_estimators': 7200, 'subsample': 0.8001890002554898}\n",
      " 96%|█████████▌| 191/200 [05:58<00:06,  1.32it/s, best loss: 15180.650695633562]"
     ]
    },
    {
     "name": "stderr",
     "output_type": "stream",
     "text": [
      "/home/dylanpoh/anaconda3/envs/kagglehouse/lib/python3.7/site-packages/xgboost/core.py:587: FutureWarning: Series.base is deprecated and will be removed in a future version\n",
      "  if getattr(data, 'base', None) is not None and \\\n",
      "\n"
     ]
    },
    {
     "name": "stdout",
     "output_type": "stream",
     "text": [
      "SCORE:                                                                          \n",
      "15623.33203125                                                                  \n",
      "{'colsample_bytree': 0.65, 'gamma': 0.6000000000000001, 'learning_rate': 0.07500000000000001, 'max_depth': 21, 'min_child_weight': 1.0, 'n_estimators': 1200, 'subsample': 0.8177557221286141}\n",
      " 96%|█████████▌| 192/200 [06:01<00:12,  1.54s/it, best loss: 15180.650695633562]"
     ]
    },
    {
     "name": "stderr",
     "output_type": "stream",
     "text": [
      "/home/dylanpoh/anaconda3/envs/kagglehouse/lib/python3.7/site-packages/xgboost/core.py:587: FutureWarning: Series.base is deprecated and will be removed in a future version\n",
      "  if getattr(data, 'base', None) is not None and \\\n",
      "\n"
     ]
    },
    {
     "name": "stdout",
     "output_type": "stream",
     "text": [
      "SCORE:                                                                          \n",
      "16377.888249143836                                                              \n",
      "{'colsample_bytree': 0.55, 'gamma': 0.65, 'learning_rate': 0.0, 'max_depth': 12, 'min_child_weight': 3.0, 'n_estimators': 1900, 'subsample': 0.8441012878912515}\n",
      "SCORE:                                                                          \n",
      "178547.42328767123                                                              \n",
      "{'colsample_bytree': 0.6000000000000001, 'gamma': 0.5, 'learning_rate': 0.0, 'max_depth': 10, 'min_child_weight': 6.0, 'n_estimators': 7400, 'subsample': 0.8232356637968015}\n",
      " 97%|█████████▋| 194/200 [06:07<00:12,  2.04s/it, best loss: 15180.650695633562]"
     ]
    },
    {
     "name": "stderr",
     "output_type": "stream",
     "text": [
      "/home/dylanpoh/anaconda3/envs/kagglehouse/lib/python3.7/site-packages/xgboost/core.py:587: FutureWarning: Series.base is deprecated and will be removed in a future version\n",
      "  if getattr(data, 'base', None) is not None and \\\n",
      "\n"
     ]
    },
    {
     "name": "stdout",
     "output_type": "stream",
     "text": [
      "SCORE:                                                                          \n",
      "178547.42328767123                                                              \n",
      "                                                                                \r"
     ]
    },
    {
     "name": "stderr",
     "output_type": "stream",
     "text": [
      "/home/dylanpoh/anaconda3/envs/kagglehouse/lib/python3.7/site-packages/xgboost/core.py:587: FutureWarning: Series.base is deprecated and will be removed in a future version\n",
      "  if getattr(data, 'base', None) is not None and \\\n",
      "\n"
     ]
    },
    {
     "name": "stdout",
     "output_type": "stream",
     "text": [
      "{'colsample_bytree': 0.55, 'gamma': 0.55, 'learning_rate': 0.025, 'max_depth': 6, 'min_child_weight': 2.0, 'n_estimators': 1700, 'subsample': 0.8125903899524538}\n",
      " 98%|█████████▊| 195/200 [06:08<00:07,  1.49s/it, best loss: 15180.650695633562]"
     ]
    },
    {
     "name": "stderr",
     "output_type": "stream",
     "text": [
      "/home/dylanpoh/anaconda3/envs/kagglehouse/lib/python3.7/site-packages/xgboost/core.py:587: FutureWarning: Series.base is deprecated and will be removed in a future version\n",
      "  if getattr(data, 'base', None) is not None and \\\n",
      "\n"
     ]
    },
    {
     "name": "stdout",
     "output_type": "stream",
     "text": [
      "SCORE:                                                                          \n",
      "15479.801637414384                                                              \n",
      "{'colsample_bytree': 0.5, 'gamma': 0.7000000000000001, 'learning_rate': 0.17500000000000002, 'max_depth': 15, 'min_child_weight': 5.0, 'n_estimators': 1800, 'subsample': 0.8745214230761871}\n",
      " 98%|█████████▊| 196/200 [06:10<00:07,  1.84s/it, best loss: 15180.650695633562]"
     ]
    },
    {
     "name": "stderr",
     "output_type": "stream",
     "text": [
      "/home/dylanpoh/anaconda3/envs/kagglehouse/lib/python3.7/site-packages/xgboost/core.py:587: FutureWarning: Series.base is deprecated and will be removed in a future version\n",
      "  if getattr(data, 'base', None) is not None and \\\n",
      "\n"
     ]
    },
    {
     "name": "stdout",
     "output_type": "stream",
     "text": [
      "SCORE:                                                                          \n",
      "17153.946168664384                                                              \n",
      "{'colsample_bytree': 0.75, 'gamma': 0.6000000000000001, 'learning_rate': 0.0, 'max_depth': 27, 'min_child_weight': 8.0, 'n_estimators': 8800, 'subsample': 0.8540863035926803}\n",
      "SCORE:                                                                          \n",
      "178547.42328767123                                                              \n",
      " 99%|█████████▉| 198/200 [06:11<00:02,  1.13s/it, best loss: 15180.650695633562]"
     ]
    },
    {
     "name": "stderr",
     "output_type": "stream",
     "text": [
      "/home/dylanpoh/anaconda3/envs/kagglehouse/lib/python3.7/site-packages/xgboost/core.py:587: FutureWarning: Series.base is deprecated and will be removed in a future version\n",
      "  if getattr(data, 'base', None) is not None and \\\n",
      "\n"
     ]
    },
    {
     "name": "stdout",
     "output_type": "stream",
     "text": [
      "{'colsample_bytree': 0.7000000000000001, 'gamma': 0.5, 'learning_rate': 0.2, 'max_depth': 9, 'min_child_weight': 4.0, 'n_estimators': 3100, 'subsample': 0.8932501400523742}\n",
      " 99%|█████████▉| 198/200 [06:11<00:02,  1.13s/it, best loss: 15180.650695633562]"
     ]
    },
    {
     "name": "stderr",
     "output_type": "stream",
     "text": [
      "/home/dylanpoh/anaconda3/envs/kagglehouse/lib/python3.7/site-packages/xgboost/core.py:587: FutureWarning: Series.base is deprecated and will be removed in a future version\n",
      "  if getattr(data, 'base', None) is not None and \\\n",
      "\n"
     ]
    },
    {
     "name": "stdout",
     "output_type": "stream",
     "text": [
      "SCORE:                                                                          \n",
      "17394.75002140411                                                               \n",
      "{'colsample_bytree': 0.9, 'gamma': 0.75, 'learning_rate': 0.05, 'max_depth': 11, 'min_child_weight': 17.0, 'n_estimators': 3900, 'subsample': 0.8349240273644836}\n",
      "100%|█████████▉| 199/200 [06:13<00:01,  1.15s/it, best loss: 15180.650695633562]"
     ]
    },
    {
     "name": "stderr",
     "output_type": "stream",
     "text": [
      "/home/dylanpoh/anaconda3/envs/kagglehouse/lib/python3.7/site-packages/xgboost/core.py:587: FutureWarning: Series.base is deprecated and will be removed in a future version\n",
      "  if getattr(data, 'base', None) is not None and \\\n",
      "\n"
     ]
    },
    {
     "name": "stdout",
     "output_type": "stream",
     "text": [
      "SCORE:                                                                          \n",
      "16153.062799657535                                                              \n",
      "100%|██████████| 200/200 [06:15<00:00,  1.88s/it, best loss: 15180.650695633562]\n",
      "Time taken to optimize the model: 6.263227375348409 min.\n",
      "\n",
      "{'colsample_bytree': 0.5, 'gamma': 0.5, 'learning_rate': 0.025, 'max_depth': 13, 'min_child': 5.0, 'n_estimators': 56, 'subsample': 0.8634490670776062}\n"
     ]
    }
   ],
   "source": [
    "#from hyperopt.pyll.base import scope\n",
    "def objective(space):\n",
    "    print(space)\n",
    "    clf = XGBRegressor(n_estimators = space['n_estimators'],\n",
    "                           max_depth = space['max_depth'],\n",
    "                           min_child_weight = space['min_child_weight'],\n",
    "                           subsample = space['subsample'],\n",
    "                           learning_rate = space['learning_rate'],\n",
    "                           gamma = space['gamma'],\n",
    "                           colsample_bytree = space['colsample_bytree'],\n",
    "                           objective='reg:squarederror',\n",
    "                           random_state=42\n",
    "                      )\n",
    "\n",
    "    eval_set  = [(X_train, y_train),(X_valid, y_valid)]\n",
    "\n",
    "    clf.fit(X_train, y_train,\n",
    "            eval_set=eval_set, eval_metric=\"mae\",\n",
    "            early_stopping_rounds=10,verbose=False)\n",
    "\n",
    "    pred = clf.predict(X_valid)\n",
    "    mae_scr = mean_absolute_error(y_valid, pred)\n",
    "    print (\"SCORE:\", mae_scr)\n",
    "\n",
    "    return {'loss':mae_scr, 'status': STATUS_OK }\n",
    "\n",
    "space ={'max_depth': hp.choice('max_depth', np.arange(5, 30, dtype=int)),\n",
    "        'min_child_weight': hp.quniform ('min_child', 1, 20, 1),\n",
    "        'subsample': hp.uniform ('subsample', 0.8, 1),\n",
    "        'n_estimators' : hp.choice('n_estimators', np.arange(1000, 10000, 100, dtype=int)),\n",
    "        'learning_rate' : hp.quniform('learning_rate', 0.01, 0.5, 0.025),\n",
    "        'gamma' : hp.quniform('gamma', 0.5, 1, 0.05),\n",
    "        'colsample_bytree' : hp.quniform('colsample_bytree', 0.5, 1, 0.05)\n",
    "    }\n",
    "\n",
    "start_time = time.time()\n",
    "\n",
    "trials = Trials()\n",
    "best = fmin(fn=objective,\n",
    "            space=space,\n",
    "            algo=tpe.suggest,\n",
    "            max_evals=200,\n",
    "            trials=trials)\n",
    "\n",
    "elapsed_time = (time.time() - start_time)/60\n",
    "print('Time taken to optimize the model: {} min.\\n'.format(elapsed_time))\n",
    "\n",
    "print (best)"
   ]
  },
  {
   "cell_type": "code",
   "execution_count": 21,
   "metadata": {},
   "outputs": [
    {
     "name": "stdout",
     "output_type": "stream",
     "text": [
      "{'colsample_bytree': 0.5, 'gamma': 0.5, 'learning_rate': 0.025, 'max_depth': 13, 'min_child': 5.0, 'n_estimators': 56, 'subsample': 0.8634490670776062}\n"
     ]
    }
   ],
   "source": [
    "print(best)"
   ]
  },
  {
   "cell_type": "markdown",
   "metadata": {},
   "source": [
    "**Take Note: The best from fmin always returns the index for parameters defined using hp.choice.**\n",
    "\n",
    "See this issue which confirms this:\n",
    "\n",
    "https://github.com/hyperopt/hyperopt/issues/216\n",
    "To get the original values from best, use space_eval() function like this:"
   ]
  },
  {
   "cell_type": "code",
   "execution_count": 22,
   "metadata": {},
   "outputs": [
    {
     "data": {
      "text/plain": [
       "{'colsample_bytree': 0.5,\n",
       " 'gamma': 0.5,\n",
       " 'learning_rate': 0.025,\n",
       " 'max_depth': 18,\n",
       " 'min_child_weight': 5.0,\n",
       " 'n_estimators': 6600,\n",
       " 'subsample': 0.8634490670776062}"
      ]
     },
     "execution_count": 22,
     "metadata": {},
     "output_type": "execute_result"
    }
   ],
   "source": [
    "from hyperopt import space_eval\n",
    "best_params = space_eval(space, best)\n",
    "best_params"
   ]
  },
  {
   "cell_type": "code",
   "execution_count": 23,
   "metadata": {},
   "outputs": [
    {
     "name": "stdout",
     "output_type": "stream",
     "text": [
      "[14:08:26] WARNING: src/objective/regression_obj.cu:152: reg:linear is now deprecated in favor of reg:squarederror.\n"
     ]
    },
    {
     "name": "stderr",
     "output_type": "stream",
     "text": [
      "/home/dylanpoh/anaconda3/envs/kagglehouse/lib/python3.7/site-packages/xgboost/core.py:587: FutureWarning: Series.base is deprecated and will be removed in a future version\n",
      "  if getattr(data, 'base', None) is not None and \\\n"
     ]
    },
    {
     "name": "stdout",
     "output_type": "stream",
     "text": [
      "Time taken to optimize the model: 2.2909927487373354 min.\n",
      "\n"
     ]
    }
   ],
   "source": [
    "start_time = time.time()\n",
    "\n",
    "hyperopt_bestmodel = XGBRegressor( **best_params)\n",
    "hyperopt_bestmodel.fit(X_train,y_train)\n",
    "\n",
    "elapsed_time = (time.time() - start_time)/60\n",
    "print('Time taken to train the model: {} min.\\n'.format(elapsed_time))"
   ]
  },
  {
   "cell_type": "code",
   "execution_count": 24,
   "metadata": {},
   "outputs": [
    {
     "name": "stdout",
     "output_type": "stream",
     "text": [
      "Mean Absolute Error: 14876.694713184932\n",
      "RMSE: 23292.127349567247\n"
     ]
    }
   ],
   "source": [
    "# Calculate MAE\n",
    "predict_hyperopt = hyperopt_bestmodel.predict(X_valid)\n",
    "mae_3 = mean_absolute_error(predict_hyperopt,y_valid)\n",
    "print(\"Mean Absolute Error:\" , mae_3)\n",
    "\n",
    "#Calculate RMSE\n",
    "mse_3 = mean_squared_error(predict_hyperopt, y_valid)\n",
    "rootMeanSquaredError_3 = sqrt(mse_3)\n",
    "print(\"RMSE:\", rootMeanSquaredError_3)\n"
   ]
  },
  {
   "cell_type": "code",
   "execution_count": 25,
   "metadata": {},
   "outputs": [
    {
     "name": "stdout",
     "output_type": "stream",
     "text": [
      "[14:10:45] WARNING: src/objective/regression_obj.cu:152: reg:linear is now deprecated in favor of reg:squarederror.\n"
     ]
    },
    {
     "name": "stderr",
     "output_type": "stream",
     "text": [
      "/home/dylanpoh/anaconda3/envs/kagglehouse/lib/python3.7/site-packages/xgboost/core.py:587: FutureWarning: Series.base is deprecated and will be removed in a future version\n",
      "  if getattr(data, 'base', None) is not None and \\\n",
      "/home/dylanpoh/anaconda3/envs/kagglehouse/lib/python3.7/site-packages/xgboost/core.py:588: FutureWarning: Series.base is deprecated and will be removed in a future version\n",
      "  data.base is not None and isinstance(data, np.ndarray) \\\n"
     ]
    }
   ],
   "source": [
    "#Refit the model with full set of data\n",
    "hyperopt_bestmodel.fit(X_full,y)\n",
    "\n",
    "predict_hyperopt_full = hyperopt_bestmodel.predict(X_test)"
   ]
  },
  {
   "cell_type": "code",
   "execution_count": 26,
   "metadata": {},
   "outputs": [
    {
     "data": {
      "text/plain": [
       "(1459,)"
      ]
     },
     "execution_count": 26,
     "metadata": {},
     "output_type": "execute_result"
    }
   ],
   "source": [
    "predict_hyperopt_full.shape"
   ]
  },
  {
   "cell_type": "code",
   "execution_count": 27,
   "metadata": {},
   "outputs": [],
   "source": [
    "\n",
    "# Save predictions in format used for competition scoring\n",
    "output = pd.DataFrame({'Id': X_test.index,\n",
    "                        'SalePrice': predict_hyperopt_full})\n",
    "output.to_csv('submission.csv', index=False)"
   ]
  },
  {
   "cell_type": "code",
   "execution_count": 28,
   "metadata": {},
   "outputs": [
    {
     "data": {
      "text/plain": [
       "(1459, 2)"
      ]
     },
     "execution_count": 28,
     "metadata": {},
     "output_type": "execute_result"
    }
   ],
   "source": [
    "output.shape"
   ]
  },
  {
   "cell_type": "code",
   "execution_count": null,
   "metadata": {},
   "outputs": [],
   "source": []
  }
 ],
 "metadata": {
  "kernelspec": {
   "display_name": "Python 3",
   "language": "python",
   "name": "python3"
  },
  "language_info": {
   "codemirror_mode": {
    "name": "ipython",
    "version": 3
   },
   "file_extension": ".py",
   "mimetype": "text/x-python",
   "name": "python",
   "nbconvert_exporter": "python",
   "pygments_lexer": "ipython3",
   "version": "3.7.5"
  }
 },
 "nbformat": 4,
 "nbformat_minor": 4
}
